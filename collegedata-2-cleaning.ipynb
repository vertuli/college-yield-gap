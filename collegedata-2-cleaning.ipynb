{
 "cells": [
  {
   "cell_type": "markdown",
   "metadata": {},
   "source": [
    "# Yield Rate Gender Gap, Part 2: Cleaning the Data\n",
    "*This is Part 2 of an investigation into the yield rate disparity in college admissions between women and men. This is a personal project I started to help me tie together using python for web scraping, data cleaning, data visualization, hypothesis testing, statistical modeling, machine learning, and more. I appreciate feedback!*\n",
    "\n",
    "---"
   ]
  },
  {
   "cell_type": "markdown",
   "metadata": {},
   "source": [
    "Let's import and check the shape of the the raw data we scraped from CollegeData.com back in Part 1:"
   ]
  },
  {
   "cell_type": "code",
   "execution_count": 1,
   "metadata": {},
   "outputs": [
    {
     "name": "stdout",
     "output_type": "stream",
     "text": [
      "<class 'pandas.core.frame.DataFrame'>\n",
      "Int64Index: 2030 entries, 6 to 3379\n",
      "Data columns (total 62 columns):\n",
      "schoolname                               2030 non-null object\n",
      "location                                 2030 non-null object\n",
      "Overall Admission Rate                   1628 non-null object\n",
      "Women                                    1508 non-null object\n",
      "Men                                      1512 non-null object\n",
      "Students Enrolled                        1410 non-null object\n",
      "Women*                                   1576 non-null object\n",
      "Men*                                     1545 non-null object\n",
      "Early Decision Admission Rate            199 non-null object\n",
      "Early Action Admission Rate              241 non-null object\n",
      "Students Offered Wait List               338 non-null object\n",
      "Students Accepting Wait List Position    298 non-null object\n",
      "Students Admitted From Wait List         327 non-null object\n",
      "Average GPA                              1383 non-null object\n",
      "3.75 and Above                           1317 non-null object\n",
      "3.50 - 3.74                              1318 non-null object\n",
      "3.25 - 3.49                              1309 non-null object\n",
      "3.00 - 3.24                              1315 non-null object\n",
      "2.50 - 2.99                              1285 non-null object\n",
      "2.00 - 2.49                              1063 non-null object\n",
      "SAT Math                                 1313 non-null object\n",
      "Score of 700 - 800                       1208 non-null object\n",
      "Score of 600 - 700                       1214 non-null object\n",
      "Score of 500 - 600                       1216 non-null object\n",
      "Score of 400 - 500                       1214 non-null object\n",
      "Score of 300 - 400                       1212 non-null object\n",
      "Score of 200 - 300                       1207 non-null object\n",
      "SAT Critical Reading                     1300 non-null object\n",
      "Score of 700 - 800*                      1203 non-null object\n",
      "Score of 600 - 700*                      1208 non-null object\n",
      "Score of 500 - 600*                      1210 non-null object\n",
      "Score of 400 - 500*                      1211 non-null object\n",
      "Score of 300 - 400*                      1207 non-null object\n",
      "Score of 200 - 300*                      1198 non-null object\n",
      "SAT Writing                              850 non-null object\n",
      "Score of 700 - 800**                     796 non-null object\n",
      "Score of 600 - 700**                     799 non-null object\n",
      "Score of 500 - 600**                     802 non-null object\n",
      "Score of 400 - 500**                     802 non-null object\n",
      "Score of 300 - 400**                     800 non-null object\n",
      "Score of 200 - 300**                     796 non-null object\n",
      "ACT Composite                            1403 non-null object\n",
      "Score of 30 - 36                         1303 non-null object\n",
      "Score of 24 - 29                         1302 non-null object\n",
      "Score of 18 - 23                         1305 non-null object\n",
      "Score of 12 - 17                         1301 non-null object\n",
      "Score of 6 - 11                          1296 non-null object\n",
      "Score of 5 or Below                      1290 non-null object\n",
      "High School Class Rank                   1120 non-null object\n",
      "National Merit Scholar                   177 non-null object\n",
      "Valedictorian                            254 non-null object\n",
      "Class President                          71 non-null object\n",
      "Student Government Officer               96 non-null object\n",
      "Coeducational                            2021 non-null object\n",
      "All Undergraduates                       1921 non-null object\n",
      "Undergrads (women)                       1762 non-null object\n",
      "Undergrads (men)                         1767 non-null object\n",
      "Full-Time Undergraduates                 1778 non-null object\n",
      "Ethnicity of Students from U.S.          1652 non-null object\n",
      "International Students                   1508 non-null object\n",
      "Average Age                              1708 non-null float64\n",
      "All Graduate Students                    1390 non-null object\n",
      "dtypes: float64(1), object(61)\n",
      "memory usage: 999.1+ KB\n"
     ]
    }
   ],
   "source": [
    "import numpy as np\n",
    "import pandas as pd\n",
    "import matplotlib.pyplot as plt\n",
    "import seaborn as sns\n",
    "\n",
    "sns.set_style(\"whitegrid\")\n",
    "\n",
    "college = pd.read_csv('data/collegedata_scraped_backup.csv',\n",
    "                      index_col=0, na_values='Not reported')\n",
    "college.index.name = 'schoolId'\n",
    "college.info()"
   ]
  },
  {
   "cell_type": "markdown",
   "metadata": {},
   "source": [
    "We scraped 53 columns of data from 1813 different schools. For reference, [this is what Penn State's data looks like in its original form on CollegeData.com](https://www.collegedata.com/cs/data/college/college_pg02_tmpl.jhtml?schoolId=59).\n",
    "\n",
    "---\n",
    "## Identifying null values\n",
    "\n",
    "We scraped the school name, the location, and everything in the \"Profile of Fall Admission\" table. The column labels of our raw scraped data are:"
   ]
  },
  {
   "cell_type": "markdown",
   "metadata": {},
   "source": [
    "If you look up enough schools on CollegeData.com, you'll notice not every school has information available for each column here. Very sparsely populated columns - that is columns filled with **null values** - may not be very useful in helping us analyze the yield rate disparity.\n",
    "\n",
    "Pandas saves null values with the `np.NaN` value. CollegeData.com probably uses something more friendly to indicate a null value to a human reader. Assuming there is a bunch of null values in the dataset, can get an idea of the potential null value CollegeData.com uses by looking at the most common values that appear in each column of the DataFrame with the `.mode()` method."
   ]
  },
  {
   "cell_type": "markdown",
   "metadata": {},
   "source": [
    "---\n",
    "## Dropping sparse columns\n",
    "Now that we've got null data properly marked, we can check what columns are filled with null data and potentially drop them. I'm going to consider dropping columns that are more than 75% null."
   ]
  },
  {
   "cell_type": "code",
   "execution_count": 2,
   "metadata": {},
   "outputs": [
    {
     "data": {
      "text/plain": [
       "['Early Decision Admission Rate',\n",
       " 'Early Action Admission Rate',\n",
       " 'Students Offered Wait List',\n",
       " 'Students Accepting Wait List Position',\n",
       " 'Students Admitted From Wait List',\n",
       " 'National Merit Scholar',\n",
       " 'Valedictorian',\n",
       " 'Class President',\n",
       " 'Student Government Officer']"
      ]
     },
     "execution_count": 2,
     "metadata": {},
     "output_type": "execute_result"
    }
   ],
   "source": [
    "sparse_cols = college.columns[college.isnull().sum() > 0.75*len(college)]\n",
    "list(sparse_cols)"
   ]
  },
  {
   "cell_type": "markdown",
   "metadata": {},
   "source": [
    "In a future analysis of only the most selective schools, it could be useful to keep track of the few schools that offer early admission. Regarding the remaining columns, there is just too little data inconsistently reported for them to serve as useful predictors for any models we build to predict the yield rate disparity across all schools.\n",
    "\n",
    "After dropping these columns, let's see what remains:"
   ]
  },
  {
   "cell_type": "code",
   "execution_count": 3,
   "metadata": {
    "collapsed": true
   },
   "outputs": [],
   "source": [
    "college = college.drop(columns=sparse_cols)"
   ]
  },
  {
   "cell_type": "markdown",
   "metadata": {},
   "source": [
    "---\n",
    "## Dropping related columns\n",
    "\n",
    "Referring back to Penn State's CollegeData.com page, each column in the pattern of \"Score of ### - ###\" show the percentage of applicants who scored in that range on one of the standardized tests. While this is potentially interesting for a future analysis, we already get the mean and middle 50% for each test in the `SAT Math`, `SAT Critical Reading`, `SAT Writing`, and `ACT Composite` columns. Similarly, each \"#.## - #.##\" column contains the percentage of students who earned GPA in that ranges, but we already get the mean GPA of applicants in the `Average GPA` column.\n",
    "\n",
    "Since these score range columns likely correlate with the mean score columns, we can drop the score range columns without losing the ability to use SAT/ACT/GPA scores as a potential predictor for the yield rate disparity.\n",
    "\n",
    "As it turns out, to drop these columns, we can simply remove any column from the list that has a label containing a number."
   ]
  },
  {
   "cell_type": "code",
   "execution_count": 4,
   "metadata": {
    "collapsed": true
   },
   "outputs": [],
   "source": [
    "drop_cols = college.columns[college.columns.str.contains(r'[\\d]')]\n",
    "college = college.drop(columns = drop_cols)"
   ]
  },
  {
   "cell_type": "markdown",
   "metadata": {},
   "source": [
    "---\n",
    "## Removing commas\n",
    "Large numbers in this dataset contain commas to separate thousands. We will remove all commas from the data in every column to make it easier to later extract numbers."
   ]
  },
  {
   "cell_type": "code",
   "execution_count": 5,
   "metadata": {
    "collapsed": true
   },
   "outputs": [],
   "source": [
    "for col in college.select_dtypes('object').columns:\n",
    "    college[col] = college[col].str.replace(',','')"
   ]
  },
  {
   "cell_type": "markdown",
   "metadata": {},
   "source": [
    "---\n",
    "## 'Students Enrolled','Women\\*', and 'Men\\*' columns\n",
    "\n",
    "Our surviving columns are:"
   ]
  },
  {
   "cell_type": "code",
   "execution_count": 6,
   "metadata": {},
   "outputs": [
    {
     "name": "stdout",
     "output_type": "stream",
     "text": [
      "<class 'pandas.core.frame.DataFrame'>\n",
      "Int64Index: 2030 entries, 6 to 3379\n",
      "Data columns (total 23 columns):\n",
      "schoolname                         2030 non-null object\n",
      "location                           2030 non-null object\n",
      "Overall Admission Rate             1628 non-null object\n",
      "Women                              1508 non-null object\n",
      "Men                                1512 non-null object\n",
      "Students Enrolled                  1410 non-null object\n",
      "Women*                             1576 non-null object\n",
      "Men*                               1545 non-null object\n",
      "Average GPA                        1383 non-null object\n",
      "SAT Math                           1313 non-null object\n",
      "SAT Critical Reading               1300 non-null object\n",
      "SAT Writing                        850 non-null object\n",
      "ACT Composite                      1403 non-null object\n",
      "High School Class Rank             1120 non-null object\n",
      "Coeducational                      2021 non-null object\n",
      "All Undergraduates                 1921 non-null object\n",
      "Undergrads (women)                 1762 non-null object\n",
      "Undergrads (men)                   1767 non-null object\n",
      "Full-Time Undergraduates           1778 non-null object\n",
      "Ethnicity of Students from U.S.    1652 non-null object\n",
      "International Students             1508 non-null object\n",
      "Average Age                        1708 non-null float64\n",
      "All Graduate Students              1390 non-null object\n",
      "dtypes: float64(1), object(22)\n",
      "memory usage: 380.6+ KB\n"
     ]
    }
   ],
   "source": [
    "college.info()"
   ]
  },
  {
   "cell_type": "markdown",
   "metadata": {},
   "source": [
    "Though we now only have these 14 columns for each school, there are more than 14 pieces of numeric data saved inside these columns. \n",
    "\n",
    "For Penn State, for example, the `'Students Enrolled'`, `'Women*'`, and `'Men*'` columns contain: "
   ]
  },
  {
   "attachments": {
    "collegedata6.png": {
     "image/png": "[encoded data removed]"
    }
   },
   "cell_type": "markdown",
   "metadata": {},
   "source": [
    "We neeed to split these columns, and nearly all of the other columns as well, into separate columns:\n",
    "\n",
    "![collegedata6.png](attachment:collegedata6.png)\n",
    "\n",
    "We can use pandas `.str.extract()` method with a **regular expression** argument, which will output a new column of data for each group in the regular expression. We can then chain the `.astype()` method to convert the output columns to our desired data type. We can then convert any percentage columns to decimal numbers by dividing them by 100. "
   ]
  },
  {
   "cell_type": "code",
   "execution_count": 7,
   "metadata": {},
   "outputs": [
    {
     "data": {
      "text/html": [
       "<div>\n",
       "<style scoped>\n",
       "    .dataframe tbody tr th:only-of-type {\n",
       "        vertical-align: middle;\n",
       "    }\n",
       "\n",
       "    .dataframe tbody tr th {\n",
       "        vertical-align: top;\n",
       "    }\n",
       "\n",
       "    .dataframe thead tr th {\n",
       "        text-align: left;\n",
       "    }\n",
       "\n",
       "    .dataframe thead tr:last-of-type th {\n",
       "        text-align: right;\n",
       "    }\n",
       "</style>\n",
       "<table border=\"1\" class=\"dataframe\">\n",
       "  <thead>\n",
       "    <tr>\n",
       "      <th></th>\n",
       "      <th colspan=\"3\" halign=\"left\">Apps</th>\n",
       "      <th colspan=\"3\" halign=\"left\">Offers</th>\n",
       "      <th colspan=\"3\" halign=\"left\">Enrolled</th>\n",
       "      <th colspan=\"3\" halign=\"left\">Undergrads</th>\n",
       "    </tr>\n",
       "    <tr>\n",
       "      <th></th>\n",
       "      <th>All</th>\n",
       "      <th>Men</th>\n",
       "      <th>Women</th>\n",
       "      <th>All</th>\n",
       "      <th>Men</th>\n",
       "      <th>Women</th>\n",
       "      <th>All</th>\n",
       "      <th>Men</th>\n",
       "      <th>Women</th>\n",
       "      <th>All</th>\n",
       "      <th>Men</th>\n",
       "      <th>Women</th>\n",
       "    </tr>\n",
       "    <tr>\n",
       "      <th>schoolId</th>\n",
       "      <th></th>\n",
       "      <th></th>\n",
       "      <th></th>\n",
       "      <th></th>\n",
       "      <th></th>\n",
       "      <th></th>\n",
       "      <th></th>\n",
       "      <th></th>\n",
       "      <th></th>\n",
       "      <th></th>\n",
       "      <th></th>\n",
       "      <th></th>\n",
       "    </tr>\n",
       "  </thead>\n",
       "  <tbody>\n",
       "    <tr>\n",
       "      <th>6</th>\n",
       "      <td>439.0</td>\n",
       "      <td>145.0</td>\n",
       "      <td>294.0</td>\n",
       "      <td>185.0</td>\n",
       "      <td>74.0</td>\n",
       "      <td>111.0</td>\n",
       "      <td>98.0</td>\n",
       "      <td>44.0</td>\n",
       "      <td>54.0</td>\n",
       "      <td>295.0</td>\n",
       "      <td>148.0</td>\n",
       "      <td>147.0</td>\n",
       "    </tr>\n",
       "    <tr>\n",
       "      <th>7</th>\n",
       "      <td>11863.0</td>\n",
       "      <td>4044.0</td>\n",
       "      <td>7819.0</td>\n",
       "      <td>8339.0</td>\n",
       "      <td>2695.0</td>\n",
       "      <td>5644.0</td>\n",
       "      <td>1822.0</td>\n",
       "      <td>540.0</td>\n",
       "      <td>1282.0</td>\n",
       "      <td>5205.0</td>\n",
       "      <td>1634.0</td>\n",
       "      <td>3571.0</td>\n",
       "    </tr>\n",
       "    <tr>\n",
       "      <th>8</th>\n",
       "      <td>1583.0</td>\n",
       "      <td>545.0</td>\n",
       "      <td>1038.0</td>\n",
       "      <td>1067.0</td>\n",
       "      <td>362.0</td>\n",
       "      <td>705.0</td>\n",
       "      <td>250.0</td>\n",
       "      <td>93.0</td>\n",
       "      <td>157.0</td>\n",
       "      <td>1078.0</td>\n",
       "      <td>432.0</td>\n",
       "      <td>646.0</td>\n",
       "    </tr>\n",
       "    <tr>\n",
       "      <th>9</th>\n",
       "      <td>780.0</td>\n",
       "      <td>293.0</td>\n",
       "      <td>487.0</td>\n",
       "      <td>519.0</td>\n",
       "      <td>180.0</td>\n",
       "      <td>339.0</td>\n",
       "      <td>488.0</td>\n",
       "      <td>162.0</td>\n",
       "      <td>326.0</td>\n",
       "      <td>1220.0</td>\n",
       "      <td>406.0</td>\n",
       "      <td>814.0</td>\n",
       "    </tr>\n",
       "    <tr>\n",
       "      <th>10</th>\n",
       "      <td>8832.0</td>\n",
       "      <td>NaN</td>\n",
       "      <td>NaN</td>\n",
       "      <td>4514.0</td>\n",
       "      <td>1730.0</td>\n",
       "      <td>2784.0</td>\n",
       "      <td>596.0</td>\n",
       "      <td>245.0</td>\n",
       "      <td>351.0</td>\n",
       "      <td>2304.0</td>\n",
       "      <td>913.0</td>\n",
       "      <td>1391.0</td>\n",
       "    </tr>\n",
       "  </tbody>\n",
       "</table>\n",
       "</div>"
      ],
      "text/plain": [
       "             Apps                  Offers                 Enrolled         \\\n",
       "              All     Men   Women     All     Men   Women      All    Men   \n",
       "schoolId                                                                    \n",
       "6           439.0   145.0   294.0   185.0    74.0   111.0     98.0   44.0   \n",
       "7         11863.0  4044.0  7819.0  8339.0  2695.0  5644.0   1822.0  540.0   \n",
       "8          1583.0   545.0  1038.0  1067.0   362.0   705.0    250.0   93.0   \n",
       "9           780.0   293.0   487.0   519.0   180.0   339.0    488.0  162.0   \n",
       "10         8832.0     NaN     NaN  4514.0  1730.0  2784.0    596.0  245.0   \n",
       "\n",
       "                 Undergrads                  \n",
       "           Women        All     Men   Women  \n",
       "schoolId                                     \n",
       "6           54.0      295.0   148.0   147.0  \n",
       "7         1282.0     5205.0  1634.0  3571.0  \n",
       "8          157.0     1078.0   432.0   646.0  \n",
       "9          326.0     1220.0   406.0   814.0  \n",
       "10         351.0     2304.0   913.0  1391.0  "
      ]
     },
     "execution_count": 7,
     "metadata": {},
     "output_type": "execute_result"
    }
   ],
   "source": [
    "# Create newdf with multilevel columns and schoolId index\n",
    "fields = ['Apps','Offer Rate','Offers','Yield Rate','Enrolled','Undergrads']\n",
    "genders = ['All','Men','Women']\n",
    "df = pd.DataFrame(index = college.index, \\\n",
    "        columns = pd.MultiIndex.from_product([fields, genders]))\n",
    "\n",
    "# Regexps used to extract new columns.\n",
    "regexps = dict(zip(fields, \\\n",
    "        ['\\D+(\\d+)', '(\\d+)%', 'of (\\d+)', '(\\d+)%', '^(\\d+)', '^(\\d+)']))\n",
    "\n",
    "# Map new (Field, Gender) cols to original columns. \n",
    "column_map = {\n",
    "    'Apps': dict(zip(genders, ['Overall Admission Rate','Men','Women'])),\n",
    "    'Offer Rate': dict(zip(genders, \\\n",
    "            ['Overall Admission Rate','Men','Women'])),\n",
    "    'Offers': dict(zip(genders, ['Students Enrolled','Men*','Women*'])),\n",
    "    'Yield Rate': dict(zip(genders, ['Students Enrolled','Men*','Women*'])),\n",
    "    'Enrolled': dict(zip(genders, ['Students Enrolled','Men*','Women*'])),\n",
    "    'Undergrads': dict(zip(genders, \\\n",
    "            ['All Undergraduates','Undergrads (men)','Undergrads (women)']))\n",
    "}\n",
    "\n",
    "# Populate new columns by extracting from old columns.\n",
    "for new_col, old_cols in column_map.items():\n",
    "    re = regexps[new_col]\n",
    "    for gender in genders:\n",
    "        df[new_col, gender] = college[old_cols[gender]].str.extract(re)\n",
    "\n",
    "# Convert to floating point and rates to percents.\n",
    "df = df.astype('float')\n",
    "df['Offer Rate'] /= 100\n",
    "df['Yield Rate'] /= 100\n",
    "\n",
    "df[['Apps','Offers','Enrolled','Undergrads']].head()"
   ]
  },
  {
   "cell_type": "code",
   "execution_count": 8,
   "metadata": {},
   "outputs": [
    {
     "name": "stdout",
     "output_type": "stream",
     "text": [
      "<class 'pandas.core.frame.DataFrame'>\n",
      "Index: 2030 entries, Abilene Christian University to Youngstown State University\n",
      "Data columns (total 40 columns):\n",
      "(Apps, All)                        1628 non-null float64\n",
      "(Apps, Men)                        1487 non-null float64\n",
      "(Apps, Women)                      1483 non-null float64\n",
      "(Offer Rate, All)                  1628 non-null float64\n",
      "(Offer Rate, Men)                  1487 non-null float64\n",
      "(Offer Rate, Women)                1483 non-null float64\n",
      "(Offers, All)                      1324 non-null float64\n",
      "(Offers, Men)                      1286 non-null float64\n",
      "(Offers, Women)                    1328 non-null float64\n",
      "(Yield Rate, All)                  1324 non-null float64\n",
      "(Yield Rate, Men)                  1286 non-null float64\n",
      "(Yield Rate, Women)                1328 non-null float64\n",
      "(Enrolled, All)                    1410 non-null float64\n",
      "(Enrolled, Men)                    1545 non-null float64\n",
      "(Enrolled, Women)                  1576 non-null float64\n",
      "(Undergrads, All)                  1921 non-null float64\n",
      "(Undergrads, Men)                  1767 non-null float64\n",
      "(Undergrads, Women)                1762 non-null float64\n",
      "(Location, City)                   2030 non-null object\n",
      "(Location, State)                  2030 non-null object\n",
      "(Location, Zip)                    2030 non-null int64\n",
      "(SAT, Math Mean)                   1313 non-null float64\n",
      "(SAT, Reading Mean)                1300 non-null float64\n",
      "(SAT, Writing Mean)                850 non-null float64\n",
      "(ACT, Mean)                        1403 non-null float64\n",
      "(GPA, Mean)                        1383 non-null float64\n",
      "(HS Rank, Top 10th)                1101 non-null float64\n",
      "(HS Rank, Bottom 50th)             1065 non-null float64\n",
      "(Category, Coed)                   2021 non-null category\n",
      "(Grads, All)                       1390 non-null float64\n",
      "(Age, Mean)                        1708 non-null float64\n",
      "(Demographics, American Indian)    1619 non-null float64\n",
      "(Demographics, Asian)              1622 non-null float64\n",
      "(Demographics, Black)              1632 non-null float64\n",
      "(Demographics, Hispanic)           1644 non-null float64\n",
      "(Demographics, Multi)              1595 non-null float64\n",
      "(Demographics, Native Hawaiian)    1590 non-null float64\n",
      "(Demographics, White)              1637 non-null float64\n",
      "(Demographics, Unknown)            1609 non-null float64\n",
      "(Intl, Intl)                       1213 non-null float64\n",
      "dtypes: category(1), float64(36), int64(1), object(2)\n",
      "memory usage: 636.5+ KB\n"
     ]
    }
   ],
   "source": [
    "# Location.\n",
    "df['Location','City'] = college['location'].str.extract('(.*)\\s[A-Z]{2}')\n",
    "df['Location','State'] = college['location'].str.extract('([A-Z]{2})') \\\n",
    "                                                        .astype('category')\n",
    "df['Location','Zip'] = college['location'].str.extract('(\\d{5})') \\\n",
    "                                                        .astype('int')\n",
    "\n",
    "# SAT.\n",
    "re = '^(\\d+)'\n",
    "df['SAT','Math Mean'] = college['SAT Math'].str.extract(re)\n",
    "df['SAT','Reading Mean'] = college['SAT Critical Reading'].str.extract(re)\n",
    "df['SAT','Writing Mean'] = college['SAT Writing'].str.extract(re)\n",
    "df['SAT'] = df['SAT'].astype('float')\n",
    "\n",
    "# ACT.\n",
    "df['ACT','Mean'] = college['ACT Composite'].str.extract(re)\n",
    "df['ACT'] = df['ACT'].astype('float')\n",
    "\n",
    "# GPA.\n",
    "re = '([\\d\\.]{4})'\n",
    "df['GPA','Mean'] = college['Average GPA'].str.extract(re)\n",
    "df['GPA'] = df['GPA'].astype('float')\n",
    "\n",
    "# HS class rank.\n",
    "col = 'High School Class Rank'\n",
    "re = 'Top tenth:\\s*(\\d+)%'\n",
    "df['HS Rank','Top 10th'] = college[col].str.extract(re).astype('float')\n",
    "re = 'Bottom half:\\s*(\\d+)%'\n",
    "df['HS Rank','Bottom 50th'] = college[col].str.extract(re).astype('float')\n",
    "df['HS Rank'] /= 100\n",
    "\n",
    "# Coed status.\n",
    "cats = {'Yes':'Yes','No women only':'Women Only','No men only':'Men Only'}\n",
    "df['Category','Coed'] = college['Coeducational'].astype('category') \\\n",
    "                                                .cat.rename_categories(cats)\n",
    "\n",
    "# Grad students.\n",
    "df['Grads','All'] = college['All Graduate Students'].astype('float')\n",
    "\n",
    "# Mean age.\n",
    "df['Age','Mean'] = college['Average Age'].astype('float')\n",
    "\n",
    "# Domestic demographics.\n",
    "col = 'Ethnicity of Students from U.S.'\n",
    "ethnicities = ['American Indian','Asian','Black','Hispanic',\n",
    "               'Multi','Native Hawaiian','White','Unknown']\n",
    "re = '([\\d\\.]+)% '\n",
    "for ethnicity in ethnicities:\n",
    "    df['Demographics', ethnicity] = college[col].str.extract(re + ethnicity)\n",
    "df['Demographics'] = df['Demographics'].astype('float') / 100\n",
    "\n",
    "# International students.\n",
    "df['Intl','Intl'] = college['International Students'].str.extract(re)\n",
    "df['Intl'] = df['Intl'].astype('float') / 100\n",
    "\n",
    "# Fix duplicate school names and set as index.\n",
    "duplicated = college['schoolname'].duplicated(keep = False)\n",
    "for i, row in college.loc[duplicated].iterrows():\n",
    "    college.loc[i, 'schoolname'] += ' (' + df.loc[i, ('Location','State')] + ')'\n",
    "duplicated = college['schoolname'].duplicated(keep = False)\n",
    "for i, row in college.loc[duplicated].iterrows():\n",
    "    college.loc[i, 'schoolname'] += ' (' + df.loc[i, ('Location','City')] + ')'\n",
    "\n",
    "df = df.set_index(college['schoolname'].values).sort_index()\n",
    "\n",
    "df.info()"
   ]
  },
  {
   "cell_type": "markdown",
   "metadata": {},
   "source": [
    "After dropping, splitting, and cleaning, we transformed our original, raw scraped 2030 school dataframe from 62 dirty columns wide to 41 clean columns wide. \n",
    "\n",
    "We can check data for Penn State and Colorado State:"
   ]
  },
  {
   "cell_type": "code",
   "execution_count": 9,
   "metadata": {},
   "outputs": [
    {
     "data": {
      "text/plain": [
       "Apps          All                          52974\n",
       "              Men                          25925\n",
       "              Women                        27049\n",
       "Offer Rate    All                           0.56\n",
       "              Men                           0.53\n",
       "              Women                         0.59\n",
       "Offers        All                          29878\n",
       "              Men                          13831\n",
       "              Women                        16047\n",
       "Yield Rate    All                           0.33\n",
       "              Men                           0.37\n",
       "              Women                         0.29\n",
       "Enrolled      All                           9800\n",
       "              Men                           5090\n",
       "              Women                         4710\n",
       "Undergrads    All                          41359\n",
       "              Men                          22145\n",
       "              Women                        19214\n",
       "Location      City               University Park\n",
       "              State                           PA\n",
       "              Zip                          16802\n",
       "SAT           Math Mean                      612\n",
       "              Reading Mean                   578\n",
       "              Writing Mean                   NaN\n",
       "ACT           Mean                            27\n",
       "GPA           Mean                          3.59\n",
       "HS Rank       Top 10th                      0.36\n",
       "              Bottom 50th                   0.03\n",
       "Category      Coed                           Yes\n",
       "Grads         All                           6430\n",
       "Age           Mean                            20\n",
       "Demographics  American Indian              0.001\n",
       "              Asian                        0.072\n",
       "              Black                        0.047\n",
       "              Hispanic                     0.068\n",
       "              Multi                         0.03\n",
       "              Native Hawaiian              0.001\n",
       "              White                        0.761\n",
       "              Unknown                       0.02\n",
       "Intl          Intl                         0.114\n",
       "Name: Penn State University Park, dtype: object"
      ]
     },
     "execution_count": 9,
     "metadata": {},
     "output_type": "execute_result"
    }
   ],
   "source": [
    "df.loc[\"Penn State University Park\"]"
   ]
  },
  {
   "cell_type": "markdown",
   "metadata": {},
   "source": [
    "Everything looks good here. The NaN for the SAT Writing is appropriate since Penn State did not consider the SAT Writing in admissions - CollegeData.com showed values of 'Not reported'.\n",
    "\n",
    "---\n",
    "\n",
    "## Exporting the dataframe\n",
    "We will save the cleaned dataframe to a new .csv file."
   ]
  },
  {
   "cell_type": "code",
   "execution_count": 10,
   "metadata": {
    "collapsed": true
   },
   "outputs": [],
   "source": [
    "df.to_csv('data/collegedata_cleaned_backup.csv', index_label='Name')"
   ]
  },
  {
   "cell_type": "markdown",
   "metadata": {},
   "source": [
    "In Part 3, we will import a separate dataset of US News and World Report's college rankings and combine it with our cleaned school dataset."
   ]
  }
 ],
 "metadata": {
  "kernelspec": {
   "display_name": "Python 3",
   "language": "python",
   "name": "python3"
  },
  "language_info": {
   "codemirror_mode": {
    "name": "ipython",
    "version": 3
   },
   "file_extension": ".py",
   "mimetype": "text/x-python",
   "name": "python",
   "nbconvert_exporter": "python",
   "pygments_lexer": "ipython3",
   "version": "3.6.5"
  }
 },
 "nbformat": 4,
 "nbformat_minor": 2
}
