{
 "cells": [
  {
   "cell_type": "markdown",
   "metadata": {},
   "source": [
    "# Part 2 - Cleaning\n",
    "\n",
    "## What did we grab?"
   ]
  },
  {
   "cell_type": "code",
   "execution_count": 1,
   "metadata": {},
   "outputs": [
    {
     "name": "stdout",
     "output_type": "stream",
     "text": [
      "<class 'pandas.core.frame.DataFrame'>\n",
      "Int64Index: 2028 entries, 6 to 3379\n",
      "Columns: 183 entries, Name to Disciplines Pursued\n",
      "dtypes: float64(3), object(180)\n",
      "memory usage: 2.8+ MB\n"
     ]
    }
   ],
   "source": [
    "import numpy as np\n",
    "import pandas as pd\n",
    "from collegedata_names import col_rename_dict\n",
    "from collegedata_names import dirty_cols_extract_dict\n",
    "\n",
    "# Import the scraped data.\n",
    "PATH = 'data/test.csv'\n",
    "na_vals = ['Not reported','Not Reported', 'Not available']\n",
    "df = pd.read_csv(PATH, index_col = 'SchoolId', na_values = na_vals)\n",
    "\n",
    "# Drop columns with no scraped data.\n",
    "cols_to_drop = [df[col].name for col in df.columns if df[col].dropna().empty]\n",
    "df.drop(columns = cols_to_drop, inplace = True)    \n",
    "\n",
    "df.info()"
   ]
  },
  {
   "cell_type": "markdown",
   "metadata": {},
   "source": [
    "We scraped up a dataframe of 2028 rows of schools with 183 columns of values - only 3 of which were already in a numeric (`float64` dtype) format. The remainder are saved as strings (`object` dtype).\n",
    "\n",
    "---\n",
    "\n",
    "## Convert the easy columns first\n",
    "\n",
    "With just a few lines of code, we can try to convert more columns to numeric type:"
   ]
  },
  {
   "cell_type": "code",
   "execution_count": 2,
   "metadata": {},
   "outputs": [
    {
     "name": "stdout",
     "output_type": "stream",
     "text": [
      "<class 'pandas.core.frame.DataFrame'>\n",
      "Int64Index: 2028 entries, 6 to 3379\n",
      "Columns: 183 entries, Name to Disciplines Pursued\n",
      "dtypes: float64(44), object(139)\n",
      "memory usage: 2.8+ MB\n"
     ]
    }
   ],
   "source": [
    "# Delete commas and dollar signs from all values in the dataframe.\n",
    "df.replace('[,\\$]', '', regex = True, inplace = True)\n",
    "\n",
    "# Convert percents to decimals, and attempt convert cols to numeric type.\n",
    "for col in df.select_dtypes('object'):\n",
    "    repl = lambda m: str(float(m.group(1)) / 100)\n",
    "    df[col] = df[col].str.replace('([\\d\\.]+)%', repl)\n",
    "    df[col] = pd.to_numeric(df[col], errors = 'ignore')\n",
    "    \n",
    "df.info()"
   ]
  },
  {
   "cell_type": "markdown",
   "metadata": {},
   "source": [
    "We've removed commas, dollar signs, and converted percents to decimals, and then tried to convert the remaining string values to `float64`, which worked enough to get us up to 44 numeric columns. \n",
    "\n",
    "---\n",
    "\n",
    "## Try converting to categorical \n",
    "\n",
    "There are still 139 `object` columns. Some of these should probably stay as strings - values like schools' Name and Web Site. Some values, like schools' Institution Type, can only take a few specific values ('Public', 'Private', 'Private for-profit'). We can convert any columns like these - those with less than 60 unique values - to `category` data type:"
   ]
  },
  {
   "cell_type": "code",
   "execution_count": 3,
   "metadata": {},
   "outputs": [
    {
     "name": "stdout",
     "output_type": "stream",
     "text": [
      "<class 'pandas.core.frame.DataFrame'>\n",
      "Int64Index: 2028 entries, 6 to 3379\n",
      "Columns: 183 entries, Name to Disciplines Pursued\n",
      "dtypes: category(71), float64(38), object(74)\n",
      "memory usage: 1.9+ MB\n"
     ]
    }
   ],
   "source": [
    "# Convert remaining cols with low number of unique vals to categorical cols.\n",
    "for col in df.columns:\n",
    "    if df[col].nunique() < 60:\n",
    "        df[col] = df[col].astype('category')\n",
    "        \n",
    "df.info()"
   ]
  },
  {
   "cell_type": "markdown",
   "metadata": {},
   "source": [
    "Creating 71 `category` columns has not only reduced the number of `object` string columns but also reduces the dataframe's memory footprint.\n",
    "\n",
    "---\n",
    "\n",
    "## Look for format patterns\n",
    "\n",
    "The remaining 74 `object` columns have more than 60 unique values. Some columns, like the schools' Name, will not contain any numeric values hidden inside the strings, but many others, like the field Students Enrolled, contain multiple numeric values hidden inside their strings:"
   ]
  },
  {
   "cell_type": "code",
   "execution_count": 4,
   "metadata": {},
   "outputs": [
    {
     "data": {
      "text/plain": [
       "SchoolId\n",
       "6       128 (0.61) of 211 admitted students enrolled\n",
       "7     1573 (0.18) of 8666 admitted students enrolled\n",
       "8      250 (0.23) of 1067 admitted students enrolled\n",
       "9       488 (0.94) of 519 admitted students enrolled\n",
       "10     465 (0.11) of 4169 admitted students enrolled\n",
       "Name: Students Enrolled, dtype: object"
      ]
     },
     "execution_count": 4,
     "metadata": {},
     "output_type": "execute_result"
    }
   ],
   "source": [
    "df['Students Enrolled'].head()"
   ]
  },
  {
   "cell_type": "markdown",
   "metadata": {},
   "source": [
    "A simple extraction of these three values with proper labeling would be straightforward. However, there is a problem. Stripping out the numeric values and looking at the unique value counts of this column's numeric formats:"
   ]
  },
  {
   "cell_type": "code",
   "execution_count": 5,
   "metadata": {},
   "outputs": [
    {
     "data": {
      "text/plain": [
       "# (#) of # admitted students enrolled    1372\n",
       "# admitted students enrolled               87\n",
       "Name: Students Enrolled, dtype: int64"
      ]
     },
     "execution_count": 5,
     "metadata": {},
     "output_type": "execute_result"
    }
   ],
   "source": [
    "df['Students Enrolled'].str.replace('\\d+\\.?\\d*', '#').value_counts()"
   ]
  },
  {
   "cell_type": "markdown",
   "metadata": {},
   "source": [
    "We see there are actually two different formats in use inside column, which hampers an effort to simply split and rename the column with basic pandas string operations. This is a problem not unique to this column and is apparent throughout many of the remaining `object` columns in the dataframe.\n",
    "\n",
    "In this column's case, and with many others', there is a dominant 'mode' format, the format of more than 50% of the values. We can construct a stripped dataframe holding only these formats:"
   ]
  },
  {
   "cell_type": "code",
   "execution_count": 6,
   "metadata": {},
   "outputs": [],
   "source": [
    "# Create copy of df with all numeric values and extra whitespace stripped.\n",
    "cols = df.select_dtypes('object').columns\n",
    "formats_df = df[cols].replace('\\d\\.?\\d*','#', regex = True)\n",
    "formats_df.replace('\\s+',' ', regex = True, inplace = True)"
   ]
  },
  {
   "cell_type": "markdown",
   "metadata": {},
   "source": [
    "Now we can get the mode format for each of the columns:"
   ]
  },
  {
   "cell_type": "code",
   "execution_count": 7,
   "metadata": {},
   "outputs": [],
   "source": [
    "modes = formats_df.mode().loc[0]"
   ]
  },
  {
   "cell_type": "markdown",
   "metadata": {},
   "source": [
    "Not every mode format includes a number (which we denoted in our previous replacement with a `'#'` placeholder). If a mode format string doesn't contain a `'#'`, it's likely a column best left as a string `object` datatype.\n",
    "\n",
    "Similarly, if a numeric mode format is not dominant in its column (not accounting for at least 50% of all values), its likely the column values are best kept as strings.\n",
    "\n",
    "We specify the numeric columns and restrict the modes and modes dataframe accordingly:"
   ]
  },
  {
   "cell_type": "code",
   "execution_count": 8,
   "metadata": {},
   "outputs": [
    {
     "name": "stdout",
     "output_type": "stream",
     "text": [
      "43 numeric columns with majority mode columns.\n"
     ]
    }
   ],
   "source": [
    "modes = modes[modes.str.contains('#', na = False)]\n",
    "modes = modes[(formats_df == modes).sum() / formats_df.count() > 0.5]\n",
    "formats_df = formats_df[modes.index]\n",
    "print(\"{} numeric columns with majority mode columns.\".format(len(modes)))"
   ]
  },
  {
   "cell_type": "markdown",
   "metadata": {},
   "source": [
    "We can now pick out the actual dataframe values that are not in the mode format - removing them from the column and setting them aside in a 'dirty' dataframe while keeping only the mode format values in the original dataframe:"
   ]
  },
  {
   "cell_type": "code",
   "execution_count": 9,
   "metadata": {
    "collapsed": true
   },
   "outputs": [],
   "source": [
    "dirty_df = df[modes.index].where(formats_df != modes)\n",
    "df[modes.index] = df[modes.index].where(formats_df == modes)"
   ]
  },
  {
   "cell_type": "markdown",
   "metadata": {},
   "source": [
    "Now we can extract the numeric values from the 'clean' columns of values in mode formats into a new temporary 'clean' dataframe:"
   ]
  },
  {
   "cell_type": "code",
   "execution_count": 10,
   "metadata": {
    "collapsed": true
   },
   "outputs": [],
   "source": [
    "clean_df = pd.DataFrame(index = df.index)\n",
    "for col in modes.index:\n",
    "    vals = df[col].str.extractall('(\\d+\\.?\\d*)').unstack()\n",
    "    vals.columns = [col + ' - ' + str(i) for i in range(1, vals.shape[1] + 1)]\n",
    "    for val_col in vals.columns:\n",
    "        clean_df[val_col] = pd.to_numeric(vals[val_col])"
   ]
  },
  {
   "cell_type": "markdown",
   "metadata": {},
   "source": [
    "The clean dataframe is filled with new columns of values split from the original columns and have been assigned temporary column labels. We can rename them using a dictionary loaded in an external module:"
   ]
  },
  {
   "cell_type": "code",
   "execution_count": 11,
   "metadata": {
    "collapsed": true
   },
   "outputs": [],
   "source": [
    "clean_df.rename(columns = col_rename_dict, inplace = True)\n",
    "\n",
    "# Delete columns marked '*delete*' by dirty_cols_extract_dict.\n",
    "clean_df.drop(columns = '*delete*', inplace = True)"
   ]
  },
  {
   "cell_type": "markdown",
   "metadata": {},
   "source": [
    "We can now drop the original columns from the primary dataframe and then join the newly extracted and labeled columns:"
   ]
  },
  {
   "cell_type": "code",
   "execution_count": 12,
   "metadata": {},
   "outputs": [
    {
     "name": "stdout",
     "output_type": "stream",
     "text": [
      "<class 'pandas.core.frame.DataFrame'>\n",
      "Int64Index: 2028 entries, 6 to 3379\n",
      "Columns: 239 entries, Name to Average Starting Salary\n",
      "dtypes: category(71), float64(137), object(31)\n",
      "memory usage: 2.9+ MB\n"
     ]
    }
   ],
   "source": [
    "df.drop(columns = modes.index, inplace = True)\n",
    "df = df.join(clean_df)\n",
    "\n",
    "df.info()"
   ]
  },
  {
   "cell_type": "markdown",
   "metadata": {},
   "source": [
    "---\n",
    "\n",
    "## Slightly pesky manual seperation \n",
    "\n",
    "Upon inspection of the remaining string columns, a few can still be quickly separated with the help of regular expressions. For instance, the location information was scraped inside a single label:"
   ]
  },
  {
   "cell_type": "code",
   "execution_count": 13,
   "metadata": {},
   "outputs": [],
   "source": [
    "col = 'City, State, Zip'\n",
    "\n",
    "vals = df[col].str.split(r'[\\xa0]+', expand = True)\n",
    "vals.columns = ['City', 'State', 'Zip']\n",
    "vals['State'] = vals['State'].astype('category')\n",
    "\n",
    "df.drop(columns = col, inplace = True)\n",
    "df = df.join(vals)"
   ]
  },
  {
   "cell_type": "markdown",
   "metadata": {},
   "source": [
    "The class and lab/discussion size information came in different formats, but always with the same bin labels:"
   ]
  },
  {
   "cell_type": "code",
   "execution_count": 14,
   "metadata": {},
   "outputs": [],
   "source": [
    "bins = ['2-9', '10-19', '20-29', '30-39', '40-49', '50-99', 'Over 100']\n",
    "\n",
    "regexs = [b + ' students: ([\\d\\.]+)' for b in bins]\n",
    "class_labels = ['Class Size pct ' + b + ' students' for b in bins]\n",
    "lab_labels = ['Lab/Discussion Size pct ' + b + ' students' for b in bins]\n",
    "\n",
    "class_dict = dict(zip(class_labels, regexs))\n",
    "lab_dict = dict(zip(lab_labels, regexs))\n",
    "\n",
    "cols = ['Regular Class Size', 'Discussion Section/Lab Class Size']\n",
    "extract_dict = {cols[0]: class_dict, cols[1]: lab_dict}\n",
    "\n",
    "vals = pd.DataFrame(index = df.index)\n",
    "for col, dictionary in extract_dict.items():\n",
    "    for label, regex in dictionary.items():\n",
    "        vals[label] = df[col].str.extract(regex)\n",
    "        vals[label] = pd.to_numeric(vals[label])\n",
    "\n",
    "df.drop(columns = cols, inplace = True)\n",
    "df = df.join(vals)"
   ]
  },
  {
   "cell_type": "markdown",
   "metadata": {},
   "source": [
    "And the nearest airport/train/bus fields contained both numeric distance and closest city strings:"
   ]
  },
  {
   "cell_type": "code",
   "execution_count": 15,
   "metadata": {},
   "outputs": [],
   "source": [
    "cols = ['Nearest Airport', 'Nearest Train Station', 'Nearest Bus Station']\n",
    "vals = pd.DataFrame(index = df.index)\n",
    "for col in cols:\n",
    "    extracted = df[col].str.extract('(\\d+).* in (\\D*)')\n",
    "    vals[col + ' (miles)'] = pd.to_numeric(extracted[0])\n",
    "    vals[col + ' (city)'] = extracted[1]\n",
    "\n",
    "df.drop(columns = cols, inplace = True)\n",
    "df = df.join(vals)"
   ]
  },
  {
   "cell_type": "markdown",
   "metadata": {},
   "source": [
    "The application fee contains a string value that should be marked numerically as zero:"
   ]
  },
  {
   "cell_type": "code",
   "execution_count": 16,
   "metadata": {},
   "outputs": [
    {
     "name": "stdout",
     "output_type": "stream",
     "text": [
      "<class 'pandas.core.frame.DataFrame'>\n",
      "Int64Index: 2028 entries, 6 to 3379\n",
      "Columns: 256 entries, Name to Nearest Bus Station (city)\n",
      "dtypes: category(71), float64(155), object(30)\n",
      "memory usage: 3.1+ MB\n"
     ]
    }
   ],
   "source": [
    "col = 'Application Fee'\n",
    "df[col] = df[col].str.replace('No fee required', '0')\n",
    "df[col] = df[col].str.extract(r'(\\d+)')\n",
    "df[col] = pd.to_numeric(df[col])\n",
    "\n",
    "df.info()"
   ]
  },
  {
   "cell_type": "markdown",
   "metadata": {},
   "source": [
    "---\n",
    "## Clean enough?\n",
    "On this dataframe, this method of identifying a most common (mode) format allowed us to quickly isolate and convert many of the numeric columns with ease, though we did use some regular expressions to handle a few columns in the end.\n",
    "\n",
    "We still have unprocessed strings in a dataframe of 'dirty' columns - strings that contain values locked up in formats different from the majority format of their columns. If we quit here without dealing with them, how many values will we lose?"
   ]
  },
  {
   "cell_type": "code",
   "execution_count": 17,
   "metadata": {},
   "outputs": [
    {
     "data": {
      "text/plain": [
       "4024"
      ]
     },
     "execution_count": 17,
     "metadata": {},
     "output_type": "execute_result"
    }
   ],
   "source": [
    "dirty_df.count().sum()"
   ]
  },
  {
   "cell_type": "markdown",
   "metadata": {},
   "source": [
    "Bear in mind this is a count of strings - each string could contain multiple numeric values in need of extraction, along with further investigation to determine into which existing (or new) column the extracted values should be inserted. But how does this compare to the number of values already extracted?"
   ]
  },
  {
   "cell_type": "code",
   "execution_count": 18,
   "metadata": {},
   "outputs": [
    {
     "data": {
      "text/plain": [
       "342377"
      ]
     },
     "execution_count": 18,
     "metadata": {},
     "output_type": "execute_result"
    }
   ],
   "source": [
    "df.count().sum()"
   ]
  },
  {
   "cell_type": "markdown",
   "metadata": {},
   "source": [
    "These 'dirty' strings represent just a bit over 1% of the total values extracted so far. \n",
    "\n",
    "For the sake of this project, I continued to extract all values. I built a large dict-of-dicts filled with regular expressions and column labels to put the values where they should be:"
   ]
  },
  {
   "cell_type": "code",
   "execution_count": 19,
   "metadata": {},
   "outputs": [
    {
     "name": "stdout",
     "output_type": "stream",
     "text": [
      "<class 'pandas.core.frame.DataFrame'>\n",
      "Int64Index: 2028 entries, 6 to 3379\n",
      "Columns: 258 entries, 2016 Graduates Who Took Out Loans to Zip\n",
      "dtypes: category(71), float64(157), object(30)\n",
      "memory usage: 3.2+ MB\n"
     ]
    }
   ],
   "source": [
    "# Extract num vals from dirty cols using the imported dirty_cols_extract_dict.\n",
    "vals = pd.DataFrame(index = df.index)\n",
    "for dirty_col, extract_dict in dirty_cols_extract_dict.items():\n",
    "    for col, regex in extract_dict.items():\n",
    "        vals[col] = dirty_df[dirty_col].str.extract(regex, expand = False)\n",
    "        vals[col] = pd.to_numeric(vals[col])\n",
    "\n",
    "# Update the dataframe with the extracted dirty values.\n",
    "new_cols = [col for col in vals.columns if col not in df.columns]\n",
    "df = df.join(vals[new_cols])\n",
    "df.update(vals)\n",
    "\n",
    "df.sort_index(axis = 1, inplace = True)\n",
    "df.info()"
   ]
  },
  {
   "cell_type": "markdown",
   "metadata": {},
   "source": [
    "---\n",
    "\n",
    "## Cleanly saving\n",
    "\n",
    "That's it. We'll save this to a .csv file and be done."
   ]
  },
  {
   "cell_type": "code",
   "execution_count": 20,
   "metadata": {
    "scrolled": false
   },
   "outputs": [
    {
     "data": {
      "text/plain": [
       "['2016 Graduates Who Took Out Loans',\n",
       " '24-Hour Emergency Phone/ Alarm Devices',\n",
       " '24-Hour Security Patrols',\n",
       " 'ACT 25th',\n",
       " 'ACT 75th',\n",
       " 'ACT Mean',\n",
       " 'Academic Calendar System',\n",
       " 'Academic Interest/Achievement - Number of Awards',\n",
       " 'Academic Interest/Achievement Award Areas',\n",
       " 'Accept Offer of Admission',\n",
       " 'Activities and Organizations',\n",
       " 'Address',\n",
       " 'Advanced Placement (AP) Examinations',\n",
       " 'All Graduate Students',\n",
       " 'All Undergraduates',\n",
       " 'Application Deadline',\n",
       " 'Application Fee',\n",
       " 'Application Fee Waiver',\n",
       " 'Applications (EA)',\n",
       " 'Applications (ED)',\n",
       " 'Applications (all)',\n",
       " 'Applications (men)',\n",
       " 'Applications (women)',\n",
       " 'Athletic Conferences',\n",
       " 'Average Age',\n",
       " 'Average Award (All Undergraduates)',\n",
       " 'Average Award (Freshmen)',\n",
       " 'Average Earnings from On-Campus Employment',\n",
       " 'Average Freshman Award',\n",
       " 'Average GPA',\n",
       " 'Average Indebtedness of 2016 Graduates',\n",
       " 'Average Percent of Need Met',\n",
       " 'Average Percent of Need Met (All Undergraduates)',\n",
       " 'Average Percent of Need Met (Freshmen)',\n",
       " 'Average Starting Salary',\n",
       " 'Award Notification',\n",
       " 'Books and Supplies',\n",
       " 'Bryn Athyn Population',\n",
       " 'Campus Map',\n",
       " 'Campus Size (acres)',\n",
       " 'Child Care',\n",
       " 'City',\n",
       " 'Class President',\n",
       " 'Class Size pct 10-19 students',\n",
       " 'Class Size pct 2-9 students',\n",
       " 'Class Size pct 20-29 students',\n",
       " 'Class Size pct 30-39 students',\n",
       " 'Class Size pct 40-49 students',\n",
       " 'Class Size pct 50-99 students',\n",
       " 'Class Size pct Over 100 students',\n",
       " 'Coeducational',\n",
       " 'College Housing',\n",
       " 'College Housing pct of Students',\n",
       " 'Combined Liberal Arts/ Professional Degree Programs',\n",
       " 'Common Application',\n",
       " 'Computer',\n",
       " 'Computer Ownership',\n",
       " 'Computers Available on Campus',\n",
       " 'Cost of Attendance',\n",
       " 'Cost of Attendance (in-state)',\n",
       " 'Creative Arts/Performance - Number of Awards',\n",
       " 'Creative Arts/Performance Award Areas',\n",
       " 'Defer Admission',\n",
       " 'Demographcis pct White',\n",
       " 'Demographics pct American Indian/Alaskan Native',\n",
       " 'Demographics pct Asian',\n",
       " 'Demographics pct Black/African-American',\n",
       " 'Demographics pct Hispanic/Latino',\n",
       " 'Demographics pct Multi-race (not Hispanic/Latino)',\n",
       " 'Demographics pct Native Hawaiian/Pacific Islander',\n",
       " 'Demographics pct Unknown',\n",
       " 'Disciplines Pursued',\n",
       " 'E-mail',\n",
       " 'Early Action Deadline',\n",
       " 'Early Action Notification',\n",
       " 'Early Action Offered',\n",
       " 'Early Decision Deadline',\n",
       " 'Early Decision Notification',\n",
       " 'Early Decision Offered',\n",
       " 'Electronic Application',\n",
       " 'Electronically Operated Housing Entrances',\n",
       " 'Entrance Difficulty',\n",
       " 'Environment',\n",
       " 'Essay or Personal Statement',\n",
       " 'Fax - 1',\n",
       " 'Fax - 2',\n",
       " 'Fax - 3',\n",
       " 'Federal Loans',\n",
       " 'FinAid Apps (all)',\n",
       " 'FinAid Apps (freshmen)',\n",
       " 'FinAid Apps (pct of all)',\n",
       " 'FinAid Apps (pct of freshmen)',\n",
       " 'FinAid Merit-Based Gift (all)',\n",
       " 'FinAid Merit-Based Gift (freshmen)',\n",
       " 'FinAid Merit-Based Gift pct of FinAid Received (all)',\n",
       " 'FinAid Merit-Based Gift pct of FinAid Received (freshmen)',\n",
       " 'FinAid Need Found (all)',\n",
       " 'FinAid Need Found (freshmen)',\n",
       " 'FinAid Need Found pct of FinAid Apps (all)',\n",
       " 'FinAid Need Found pct of FinAid Apps (freshmen)',\n",
       " 'FinAid Need Fully Met (all)',\n",
       " 'FinAid Need Fully Met (freshmen)',\n",
       " 'FinAid Need Fully Met pct of FinAid Received (all)',\n",
       " 'FinAid Need Fully Met pct of FinAid Received (freshmen)',\n",
       " 'FinAid Need-Based Gift (all)',\n",
       " 'FinAid Need-Based Gift (freshmen)',\n",
       " 'FinAid Need-Based Gift avg Amount (all)',\n",
       " 'FinAid Need-Based Gift avg Amount (freshmen)',\n",
       " 'FinAid Need-Based Gift pct of FinAid Received (all)',\n",
       " 'FinAid Need-Based Gift pct of FinAid Received (freshmen)',\n",
       " 'FinAid Need-Based Self-Help (all)',\n",
       " 'FinAid Need-Based Self-Help (freshmen)',\n",
       " 'FinAid Need-Based Self-Help avg Amount (all)',\n",
       " 'FinAid Need-Based Self-Help avg Amount (freshmen)',\n",
       " 'FinAid Need-Based Self-Help pct of FinAid Received (all)',\n",
       " 'FinAid Need-Based Self-Help pct of FinAid Received (freshmen)',\n",
       " 'FinAid Received (all)',\n",
       " 'FinAid Received (freshmen)',\n",
       " 'FinAid Received pct of FinAid Need Found (all)',\n",
       " 'FinAid Received pct of FinAid Need Found (freshmen)',\n",
       " 'Financial Need',\n",
       " 'First-Year Students Returning',\n",
       " 'Foreign Language',\n",
       " 'Fraternities pct of Men',\n",
       " 'Freshman Housing Guarantee',\n",
       " 'Freshmen Enrolled (all)',\n",
       " 'Freshmen Enrolled (men)',\n",
       " 'Freshmen Enrolled (women)',\n",
       " 'Freshmen pct in HS Top 10th',\n",
       " 'Freshmen pct in HS Top 25th',\n",
       " 'Freshmen pct in HS Top 50th',\n",
       " 'Full-Time Faculty',\n",
       " 'Full-Time Faculty Teaching Undergraduates',\n",
       " 'Full-Time Faculty with Ph.D./Terminal Degree',\n",
       " 'Full-Time Undergraduates',\n",
       " 'General Catalog/Bulletin',\n",
       " 'General Education/ Core Curriculum',\n",
       " 'Graduates Offered Full-Time Employment Within 6 Months',\n",
       " 'Graduates Pursuing Advanced Study Directly',\n",
       " 'Health Service',\n",
       " 'High School Graduation',\n",
       " 'High School Program',\n",
       " 'Holdings',\n",
       " 'Housing Requirements',\n",
       " 'Institution Type',\n",
       " 'International Baccalaureate',\n",
       " 'International countries represented',\n",
       " 'International pct of students',\n",
       " 'Interview',\n",
       " 'Intramural Sports',\n",
       " 'Lab/Discussion Size pct 10-19 students',\n",
       " 'Lab/Discussion Size pct 2-9 students',\n",
       " 'Lab/Discussion Size pct 20-29 students',\n",
       " 'Lab/Discussion Size pct 30-39 students',\n",
       " 'Lab/Discussion Size pct 40-49 students',\n",
       " 'Lab/Discussion Size pct 50-99 students',\n",
       " 'Lab/Discussion Size pct Over 100 students',\n",
       " 'Late-Night Transport/Escort Services',\n",
       " 'Letters of Recommendation',\n",
       " 'Library Available on Campus',\n",
       " 'Mascot',\n",
       " 'Math/Science',\n",
       " \"Men's Club Sports\",\n",
       " 'Methodology for Awarding Institutional Aid',\n",
       " 'Most Popular Disciplines',\n",
       " 'Name',\n",
       " 'National Merit Scholar',\n",
       " 'Nearest Airport (city)',\n",
       " 'Nearest Airport (miles)',\n",
       " 'Nearest Bus Station (city)',\n",
       " 'Nearest Bus Station (miles)',\n",
       " 'Nearest Metropolitan Area',\n",
       " 'Nearest Train Station (city)',\n",
       " 'Nearest Train Station (miles)',\n",
       " 'Need-Based Available',\n",
       " 'No FinAid Merit-Based Gift (all)',\n",
       " 'No FinAid Merit-Based Gift (freshmen)',\n",
       " 'No FinAid Merit-Based Gift avg Amount (all)',\n",
       " 'No FinAid Merit-Based Gift avg Amount (freshmen)',\n",
       " 'No FinAid Merit-Based Gift pct of students (all)',\n",
       " 'No FinAid Merit-Based Gift pct of students (freshmen)',\n",
       " 'Non-Need\\x96Based Available',\n",
       " 'Off-Campus Housing Assistance',\n",
       " 'Offer Rate (EA)',\n",
       " 'Offer Rate (ED)',\n",
       " 'Offer Rate (all)',\n",
       " 'Offer Rate (men)',\n",
       " 'Offer Rate (women)',\n",
       " 'Offers (all)',\n",
       " 'Offers (men)',\n",
       " 'Offers (women)',\n",
       " 'Online Degrees',\n",
       " 'Other',\n",
       " 'Other Expenses',\n",
       " 'Other Loans',\n",
       " 'Parents of Students Not Receiving Aid',\n",
       " 'Parents of Students Receiving Aid',\n",
       " 'Part-Time Faculty',\n",
       " 'Payment Plans',\n",
       " 'Personal Counseling',\n",
       " 'Phone - 1',\n",
       " 'Phone - 2',\n",
       " 'Phone - 3',\n",
       " 'ROTC',\n",
       " 'Rainy Days (annual mean)',\n",
       " 'Regular Admission Deadline',\n",
       " 'Regular Admission Notification',\n",
       " 'Remedial Instruction',\n",
       " 'Room and Board',\n",
       " 'SAT Math 25th',\n",
       " 'SAT Math 75th',\n",
       " 'SAT Math Mean',\n",
       " 'SAT Reading 25th',\n",
       " 'SAT Reading 75th',\n",
       " 'SAT Reading Mean',\n",
       " 'School Colors',\n",
       " 'Services for Learning Disabled Students',\n",
       " 'Services for Physically Disabled Students',\n",
       " 'Sophomore Standing',\n",
       " 'Sororities pct of Women',\n",
       " 'Special Achievements/Activities - Number of Awards',\n",
       " 'Special Achievements/Activities Award Areas',\n",
       " 'Special Characteristics - Number of Awards',\n",
       " 'Special Characteristics Award Areas',\n",
       " 'Special Programs',\n",
       " 'State',\n",
       " 'State Loans',\n",
       " 'Student Government Officer',\n",
       " 'Students Accepting Wait List Position',\n",
       " 'Students Admitted From Wait List',\n",
       " 'Students Graduating Within 4 Years',\n",
       " 'Students Graduating Within 5 Years',\n",
       " 'Students Graduating Within 6 Years',\n",
       " 'Students Living Off Campus/Commuting',\n",
       " 'Students Offered Wait List',\n",
       " 'Study Abroad',\n",
       " 'Summer Session',\n",
       " 'Temperature (January mean low)',\n",
       " 'Temperature (September mean high)',\n",
       " 'Transfer Admission',\n",
       " 'Tuition and Fees',\n",
       " 'Tuition and Fees (in-state)',\n",
       " 'Tutoring',\n",
       " 'Types of Housing',\n",
       " 'Undergraduates (men pct of all)',\n",
       " 'Undergraduates (men)',\n",
       " 'Undergraduates (women pct of all)',\n",
       " 'Undergraduates (women)',\n",
       " 'Universal College Application',\n",
       " 'Valedictorian',\n",
       " 'Waiting List Used',\n",
       " 'Web Site',\n",
       " \"Women's Club Sports\",\n",
       " 'Work-Study Programs',\n",
       " 'Yield Rate (all)',\n",
       " 'Yield Rate (men)',\n",
       " 'Yield Rate (women)',\n",
       " 'Zip']"
      ]
     },
     "execution_count": 20,
     "metadata": {},
     "output_type": "execute_result"
    }
   ],
   "source": [
    "df.columns.tolist()"
   ]
  },
  {
   "cell_type": "code",
   "execution_count": null,
   "metadata": {
    "collapsed": true
   },
   "outputs": [],
   "source": []
  }
 ],
 "metadata": {
  "kernelspec": {
   "display_name": "Python 3",
   "language": "python",
   "name": "python3"
  },
  "language_info": {
   "codemirror_mode": {
    "name": "ipython",
    "version": 3
   },
   "file_extension": ".py",
   "mimetype": "text/x-python",
   "name": "python",
   "nbconvert_exporter": "python",
   "pygments_lexer": "ipython3",
   "version": "3.6.5"
  }
 },
 "nbformat": 4,
 "nbformat_minor": 2
}
