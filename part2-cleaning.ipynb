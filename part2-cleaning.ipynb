{
 "cells": [
  {
   "cell_type": "code",
   "execution_count": 1,
   "metadata": {},
   "outputs": [
    {
     "name": "stdout",
     "output_type": "stream",
     "text": [
      "<class 'pandas.core.frame.DataFrame'>\n",
      "Int64Index: 2028 entries, 6 to 3379\n",
      "Columns: 190 entries, Name to Disciplines Pursued\n",
      "dtypes: float64(10), object(180)\n",
      "memory usage: 3.0+ MB\n",
      "\n",
      "180 columns need to be cleaned.\n"
     ]
    }
   ],
   "source": [
    "import numpy as np\n",
    "import pandas as pd\n",
    "from collegedata_names import col_rename_dict\n",
    "\n",
    "# Import the scraped data.\n",
    "PATH = 'data/test.csv'\n",
    "na_vals = ['Not reported','Not Reported','Not available']\n",
    "df = pd.read_csv(PATH, index_col = 'SchoolId', na_values = na_vals)\n",
    "\n",
    "# Mark all columns imported as 'object' types as still needing to be cleaned.\n",
    "remaining_cols = df.select_dtypes('object').columns.tolist()\n",
    "\n",
    "# Print a status update.\n",
    "df.info()\n",
    "print(\"\\n{} columns need to be cleaned.\".format(len(remaining_cols)))"
   ]
  },
  {
   "cell_type": "code",
   "execution_count": 2,
   "metadata": {},
   "outputs": [
    {
     "name": "stdout",
     "output_type": "stream",
     "text": [
      "Dropped the following 7 empty columns:\n",
      "\tSAT Writing\n",
      "\tParents Borrowing PLUS Loans\n",
      "\tAcademic Interest/Achievement - Top Areas (By Money Awarded)\n",
      "\tCreative Arts/Performance - Top Areas (By Money Awarded)\n",
      "\tSpecial Achievements/Activities - Top Areas (By Money Awarded)\n",
      "\tSpecial Characteristics - Top Areas (By Money Awarded)\n",
      "\tInternet/E-mail Access\n",
      "\n",
      "<class 'pandas.core.frame.DataFrame'>\n",
      "Int64Index: 2028 entries, 6 to 3379\n",
      "Columns: 183 entries, Name to Disciplines Pursued\n",
      "dtypes: float64(3), object(180)\n",
      "memory usage: 2.8+ MB\n",
      "\n",
      "180 columns need to be cleaned.\n"
     ]
    }
   ],
   "source": [
    "# Drop columns with no scraped data.\n",
    "cols_to_drop = [df[col].name for col in df.columns if df[col].dropna().empty]\n",
    "df.drop(columns = cols_to_drop, inplace = True)\n",
    "\n",
    "# Remove dropped cols from remaining cols to clean.\n",
    "remaining_cols = [col for col in remaining_cols if not col in cols_to_drop]\n",
    "\n",
    "# Print a status update.\n",
    "print(\"Dropped the following {} empty columns:\".format(len(cols_to_drop)))\n",
    "for col in cols_to_drop:\n",
    "    print(\"\\t{}\".format(col))\n",
    "print('')\n",
    "df.info()\n",
    "print(\"\\n{} columns need to be cleaned.\".format(len(remaining_cols)))"
   ]
  },
  {
   "cell_type": "code",
   "execution_count": 3,
   "metadata": {},
   "outputs": [
    {
     "name": "stdout",
     "output_type": "stream",
     "text": [
      "<class 'pandas.core.frame.DataFrame'>\n",
      "Int64Index: 2028 entries, 6 to 3379\n",
      "Columns: 183 entries, Name to Disciplines Pursued\n",
      "dtypes: float64(3), object(180)\n",
      "memory usage: 2.8+ MB\n",
      "\n",
      "159 columns need to be cleaned.\n"
     ]
    }
   ],
   "source": [
    "# Mark columns known to be strings.\n",
    "string_cols = ['Name','Phone', 'Fax', 'Web Site', 'City, State, Zip',\n",
    "               'Address', 'E-mail', 'Nearest Metropolitan Area', 'Mascot',\n",
    "               'Activities and Organizations', 'Other', 'Disciplines Pursued']\n",
    "\n",
    "# Mark columns known to be dates.\n",
    "date_cols = ['Regular Admission Deadline', 'Regular Admission Notification',\n",
    "             'Accept Offer of Admission', 'Early Decision Deadline', \n",
    "             'Early Decision Notification', 'Early Action Deadline', \n",
    "             'Early Action Notification', 'Application Deadline',\n",
    "             'Award Notification']\n",
    "\n",
    "# Remove strings and dates from remaining cols to clean.\n",
    "remaining_cols = [col for col in remaining_cols if not col in string_cols]\n",
    "remaining_cols = [col for col in remaining_cols if not col in date_cols]\n",
    "\n",
    "# Print a status update.\n",
    "df.info()\n",
    "print(\"\\n{} columns need to be cleaned.\".format(len(remaining_cols)))"
   ]
  },
  {
   "cell_type": "code",
   "execution_count": 4,
   "metadata": {},
   "outputs": [
    {
     "name": "stdout",
     "output_type": "stream",
     "text": [
      "<class 'pandas.core.frame.DataFrame'>\n",
      "Int64Index: 2028 entries, 6 to 3379\n",
      "Columns: 183 entries, Name to Disciplines Pursued\n",
      "dtypes: float64(44), object(139)\n",
      "memory usage: 2.8+ MB\n",
      "\n",
      "118 columns need to be cleaned.\n"
     ]
    }
   ],
   "source": [
    "# Delete commas and dollar signs from all values in the dataframe.\n",
    "df.replace('[,\\$]', '', regex = True, inplace = True)\n",
    "\n",
    "# Convert percents to decimals, and attempt convert cols to numeric type.\n",
    "for col in remaining_cols:\n",
    "    repl = lambda m: str(float(m.group(1)) / 100)\n",
    "    df[col] = df[col].str.replace('([\\d\\.]+)%', repl)\n",
    "    df[col] = pd.to_numeric(df[col], errors = 'ignore')\n",
    "    \n",
    "# Remove successfully converted numeric type cols from remaining cols.\n",
    "num_cols = df.select_dtypes('float').columns.tolist()\n",
    "remaining_cols = [col for col in remaining_cols if not col in num_cols]\n",
    "\n",
    "# Print a status update.\n",
    "df.info()\n",
    "print(\"\\n{} columns need to be cleaned.\".format(len(remaining_cols)))"
   ]
  },
  {
   "cell_type": "code",
   "execution_count": 5,
   "metadata": {},
   "outputs": [
    {
     "name": "stdout",
     "output_type": "stream",
     "text": [
      "<class 'pandas.core.frame.DataFrame'>\n",
      "Int64Index: 2028 entries, 6 to 3379\n",
      "Columns: 183 entries, Name to Disciplines Pursued\n",
      "dtypes: category(58), float64(44), object(81)\n",
      "memory usage: 2.1+ MB\n",
      "\n",
      "60 columns need to be cleaned.\n"
     ]
    }
   ],
   "source": [
    "# Convert remaining cols with low number of unique vals to categorical cols.\n",
    "for col in remaining_cols:\n",
    "    if df[col].nunique() < 30:\n",
    "        df[col] = df[col].astype('category')\n",
    "\n",
    "# Remove successfully converted categorical cols from remaining cols.\n",
    "cat_cols = df.select_dtypes('category').columns.tolist()\n",
    "remaining_cols = [col for col in remaining_cols if not col in cat_cols]\n",
    "\n",
    "# Print a status update.\n",
    "df.info()\n",
    "print(\"\\n{} columns need to be cleaned.\".format(len(remaining_cols)))"
   ]
  },
  {
   "cell_type": "code",
   "execution_count": 6,
   "metadata": {},
   "outputs": [
    {
     "name": "stdout",
     "output_type": "stream",
     "text": [
      "25 columns designated as string columns.\n",
      "\n",
      "<class 'pandas.core.frame.DataFrame'>\n",
      "Int64Index: 2028 entries, 6 to 3379\n",
      "Columns: 183 entries, Name to Disciplines Pursued\n",
      "dtypes: category(58), float64(44), object(81)\n",
      "memory usage: 2.1+ MB\n",
      "\n",
      "47 columns need to be cleaned.\n"
     ]
    }
   ],
   "source": [
    "# If remaining col values are mostly non numeric, designate as string col.\n",
    "for col in remaining_cols:\n",
    "    if df[col].str.count('(\\d+\\.*\\d*)').mode()[0] == 0:\n",
    "        string_cols.append(col)\n",
    "\n",
    "# Remove columns designated as string cols from remaining cols.\n",
    "remaining_cols = [col for col in remaining_cols if not col in string_cols]\n",
    "\n",
    "# Print a status update.\n",
    "print(\"{} columns designated as string columns.\\n\".format(len(string_cols)))\n",
    "df.info()\n",
    "print(\"\\n{} columns need to be cleaned.\".format(len(remaining_cols)))"
   ]
  },
  {
   "cell_type": "code",
   "execution_count": 7,
   "metadata": {},
   "outputs": [
    {
     "name": "stdout",
     "output_type": "stream",
     "text": [
      "42 columns split into 97 numeric and 33 other uncleaned columns.\n",
      "\n",
      "<class 'pandas.core.frame.DataFrame'>\n",
      "Int64Index: 2028 entries, 6 to 3379\n",
      "Columns: 267 entries, Name to Average Starting Salary (dirty)\n",
      "dtypes: category(58), float64(137), object(72)\n",
      "memory usage: 3.4+ MB\n",
      "\n",
      "5 original columns and 33 dirty columns need to be cleaned.\n"
     ]
    }
   ],
   "source": [
    "# Create copy of df with all numeric values and extra whitespace stripped.\n",
    "stripped_df = pd.DataFrame(index = df.index)\n",
    "for col in remaining_cols:\n",
    "    stripped_df[col] = df[col].str.replace('\\d+\\.*\\d*', '#')\n",
    "    stripped_df[col] = stripped_df[col].str.replace('\\s+', ' ')\n",
    "    stripped_df[col] = stripped_df[col].str.strip()\n",
    "\n",
    "# Split the remaining cols into clean and dirty dfs, where a clean col is one\n",
    "# composed only of values with consistent stripped text and is greater than\n",
    "# 50% of the total column values.\n",
    "clean_df = pd.DataFrame(index = df.index)\n",
    "dirty_df = pd.DataFrame(index = df.index)\n",
    "for col in remaining_cols:\n",
    "    stripped_mode = stripped_df[col].mode()[0]\n",
    "    mode_vals = (stripped_df[col] == stripped_mode)\n",
    "    if mode_vals.sum() / df[col].count() > 0.5:\n",
    "        clean_df[col] = df[col].where(mode_vals)\n",
    "        dirty_df[col] = df[col].mask(mode_vals)\n",
    "\n",
    "# Handle the clean columns.\n",
    "extracted_df = pd.DataFrame(index = df.index)\n",
    "for col in clean_df.columns:\n",
    "    vals = clean_df[col].str.extractall('(\\d+\\.*\\d*)').unstack()\n",
    "    vals.columns = [col + ' - ' + str(i) for i in range(1, vals.shape[1] + 1)]\n",
    "    for val_col in vals.columns:\n",
    "        extracted_df[val_col] = pd.to_numeric(vals[val_col])\n",
    "df = df.join(extracted_df)\n",
    "        \n",
    "# Handle the dirty columns.        \n",
    "dirty_df.dropna(how = 'all', axis = 1, inplace = True)\n",
    "dirty_df = dirty_df.add_suffix(' (dirty)')\n",
    "df = df.join(dirty_df)\n",
    "\n",
    "dirty_cols = dirty_df.columns\n",
    "remaining_cols = [col for col in remaining_cols \\\n",
    "                                              if col not in clean_df.columns]\n",
    "\n",
    "df.rename(columns = col_rename_dict, inplace = True)\n",
    "\n",
    "df.drop(columns = clean_df.columns, inplace = True)\n",
    "\n",
    "# Print a status update.\n",
    "print(\"{} columns split into {} numeric and {} other uncleaned columns.\\n\"\\\n",
    "      .format(clean_df.shape[1], extracted_df.shape[1], dirty_df.shape[1]))\n",
    "df.info()\n",
    "print(\"\\n{} original columns and {} dirty columns need to be cleaned.\"\\\n",
    "      .format(len(remaining_cols), len(dirty_cols)))"
   ]
  },
  {
   "cell_type": "code",
   "execution_count": 8,
   "metadata": {},
   "outputs": [
    {
     "name": "stdout",
     "output_type": "stream",
     "text": [
      "2 columns split into 14 numeric columns.\n",
      "\n",
      "<class 'pandas.core.frame.DataFrame'>\n",
      "Int64Index: 2028 entries, 6 to 3379\n",
      "Columns: 279 entries, Name to Lab Size (% 100+)\n",
      "dtypes: category(58), float64(151), object(70)\n",
      "memory usage: 3.6+ MB\n",
      "\n",
      "3 original columns and 33 dirty columns need to be cleaned.\n"
     ]
    }
   ],
   "source": [
    "regexs = ['2-9 students: ([\\d\\.]+)', '10-19 students: ([\\d\\.]+)',\n",
    "          '20-29 students: ([\\d\\.]+)', '30-39 students: ([\\d\\.]+)',\n",
    "          '40-49 students: ([\\d\\.]+)', '50-99 students: ([\\d\\.]+)',\n",
    "          'Over 100 students: ([\\d\\.]+)']\n",
    "\n",
    "class_labels = ['Class Size (% 2-9)', 'Class Size (% 10-19)',\n",
    "                'Class Size (% 20-29)', 'Class Size (% 30-39)',\n",
    "                'Class Size (% 40-49)', 'Class Size (% 50-99)',\n",
    "                'Class Size (% 100+)']\n",
    "\n",
    "lab_labels = ['Lab Size (% 2-9)', 'Lab Size (% 10-19)', 'Lab Size (% 20-29)', \n",
    "              'Lab Size (% 30-39)', 'Lab Size (% 40-49)', \n",
    "              'Lab Size (% 50-99)', 'Lab Size (% 100+)']\n",
    "\n",
    "class_dict = dict(zip(regexs, class_labels))\n",
    "lab_dict = dict(zip(regexs, lab_labels))\n",
    "extract_dict = {'Regular Class Size': class_dict,\n",
    "                'Discussion Section/Lab Class Size': lab_dict}\n",
    "\n",
    "for col, dictionary in extract_dict.items():\n",
    "    for regex, label in dictionary.items():\n",
    "        df[label] = df[col].str.extract(regex)\n",
    "        df[label] = pd.to_numeric(df[label])\n",
    "\n",
    "    df.drop(columns = col, inplace = True)\n",
    "    remaining_cols.remove(col)\n",
    "\n",
    "print(\"2 columns split into 14 numeric columns.\\n\".format())\n",
    "df.info()\n",
    "print(\"\\n{} original columns and {} dirty columns need to be cleaned.\"\\\n",
    "      .format(len(remaining_cols), len(dirty_cols)))"
   ]
  },
  {
   "cell_type": "code",
   "execution_count": 9,
   "metadata": {},
   "outputs": [
    {
     "name": "stdout",
     "output_type": "stream",
     "text": [
      "3 columns split into 3 numeric columns and 3 string columns.\n",
      "\n",
      "<class 'pandas.core.frame.DataFrame'>\n",
      "Int64Index: 2028 entries, 6 to 3379\n",
      "Columns: 282 entries, Name to Nearest Bus Station (city)\n",
      "dtypes: category(58), float64(154), object(70)\n",
      "memory usage: 3.6+ MB\n",
      "\n",
      "0 original columns and 33 dirty columns need to be cleaned.\n"
     ]
    }
   ],
   "source": [
    "cols = ['Nearest Airport', 'Nearest Train Station', 'Nearest Bus Station']\n",
    "regex = '(\\d+).* in (\\D*)'\n",
    "for col in cols:\n",
    "    extracted = df[col].str.extract(regex)\n",
    "    df[col + ' (miles)'] = pd.to_numeric(extracted[0])\n",
    "    df[col + ' (city)'] = extracted[1]\n",
    "    \n",
    "    df.drop(columns = col, inplace = True)\n",
    "    \n",
    "    string_cols.append(col + ' (miles)')\n",
    "    num_cols.append(col + ' (city)')\n",
    "    remaining_cols.remove(col)\n",
    "    \n",
    "print(\"3 columns split into 3 numeric columns and 3 string columns.\\n\")\n",
    "df.info()\n",
    "print(\"\\n{} original columns and {} dirty columns need to be cleaned.\"\\\n",
    "      .format(len(remaining_cols), len(dirty_cols)))"
   ]
  },
  {
   "cell_type": "code",
   "execution_count": null,
   "metadata": {
    "collapsed": true
   },
   "outputs": [],
   "source": []
  }
 ],
 "metadata": {
  "kernelspec": {
   "display_name": "Python 3",
   "language": "python",
   "name": "python3"
  },
  "language_info": {
   "codemirror_mode": {
    "name": "ipython",
    "version": 3
   },
   "file_extension": ".py",
   "mimetype": "text/x-python",
   "name": "python",
   "nbconvert_exporter": "python",
   "pygments_lexer": "ipython3",
   "version": "3.6.5"
  }
 },
 "nbformat": 4,
 "nbformat_minor": 2
}
