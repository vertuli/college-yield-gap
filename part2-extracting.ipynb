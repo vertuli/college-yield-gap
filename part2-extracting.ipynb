{
 "cells": [
  {
   "cell_type": "markdown",
   "metadata": {},
   "source": [
    "# Part 2 - Extracting\n",
    "\n",
    "## What did we grab from CollegeData?"
   ]
  },
  {
   "cell_type": "code",
   "execution_count": 1,
   "metadata": {},
   "outputs": [
    {
     "name": "stdout",
     "output_type": "stream",
     "text": [
      "<class 'pandas.core.frame.DataFrame'>\n",
      "Int64Index: 2028 entries, 6 to 3379\n",
      "Columns: 183 entries, Name to Disciplines Pursued\n",
      "dtypes: float64(3), object(180)\n",
      "memory usage: 2.8+ MB\n"
     ]
    }
   ],
   "source": [
    "import numpy as np\n",
    "import pandas as pd\n",
    "from collegedata_names import col_rename_dict\n",
    "from collegedata_names import dirty_cols_extract_dict\n",
    "\n",
    "# Import the scraped data.\n",
    "COLLEGEDATA_RAW_CSV_PATH = \"data/collegedata_raw.csv\"\n",
    "na_vals = ['Not reported','Not Reported', 'Not available']\n",
    "df = pd.read_csv(COLLEGEDATA_RAW_CSV_PATH,\n",
    "                 index_col = 'SchoolId', na_values = na_vals)\n",
    "\n",
    "# Drop columns with no scraped data.\n",
    "cols_to_drop = [df[col].name for col in df.columns if df[col].dropna().empty]\n",
    "df.drop(columns = cols_to_drop, inplace = True)    \n",
    "\n",
    "df.info()"
   ]
  },
  {
   "cell_type": "markdown",
   "metadata": {},
   "source": [
    "We scraped up a dataframe of 2028 rows of schools with 183 columns of values - only 3 of which were already in a numeric (`float64` dtype) format. The remainder are saved as strings (`object` dtype).\n",
    "\n",
    "---\n",
    "\n",
    "## Convert the easy columns first\n",
    "\n",
    "With just a few lines of code, we can try to convert more columns to numeric type:"
   ]
  },
  {
   "cell_type": "code",
   "execution_count": 2,
   "metadata": {},
   "outputs": [
    {
     "name": "stdout",
     "output_type": "stream",
     "text": [
      "<class 'pandas.core.frame.DataFrame'>\n",
      "Int64Index: 2028 entries, 6 to 3379\n",
      "Columns: 183 entries, Name to Disciplines Pursued\n",
      "dtypes: float64(44), object(139)\n",
      "memory usage: 2.8+ MB\n"
     ]
    }
   ],
   "source": [
    "# Delete commas and dollar signs from all values in the dataframe.\n",
    "df.replace('[,\\$]', '', regex = True, inplace = True)\n",
    "\n",
    "# Convert percents to decimals, and attempt convert cols to numeric type.\n",
    "for col in df.select_dtypes('object'):\n",
    "    repl = lambda m: str(float(m.group(1)) / 100)\n",
    "    df[col] = df[col].str.replace('([\\d\\.]+)%', repl)\n",
    "    df[col] = pd.to_numeric(df[col], errors = 'ignore')\n",
    "    \n",
    "df.info()"
   ]
  },
  {
   "cell_type": "markdown",
   "metadata": {},
   "source": [
    "We've removed commas, dollar signs, and converted percents to decimals, and then tried to convert the remaining string values to `float64`, which worked enough to get us up to 44 numeric columns. \n",
    "\n",
    "---\n",
    "\n",
    "## Try converting to categorical \n",
    "\n",
    "There are still 139 `object` columns. Some of these should probably stay as strings - values like schools' Name and Web Site. Some values, like schools' Institution Type, can only take a few specific values ('Public', 'Private', 'Private for-profit'). We can convert any columns like these - those with less than 60 unique values - to `category` data type:"
   ]
  },
  {
   "cell_type": "code",
   "execution_count": 3,
   "metadata": {},
   "outputs": [
    {
     "name": "stdout",
     "output_type": "stream",
     "text": [
      "<class 'pandas.core.frame.DataFrame'>\n",
      "Int64Index: 2028 entries, 6 to 3379\n",
      "Columns: 183 entries, Name to Disciplines Pursued\n",
      "dtypes: category(71), float64(38), object(74)\n",
      "memory usage: 1.9+ MB\n"
     ]
    }
   ],
   "source": [
    "# Convert remaining cols with low number of unique vals to categorical cols.\n",
    "for col in df.columns:\n",
    "    if df[col].nunique() < 60:\n",
    "        df[col] = df[col].astype('category')\n",
    "        \n",
    "df.info()"
   ]
  },
  {
   "cell_type": "markdown",
   "metadata": {},
   "source": [
    "Creating 71 `category` columns has not only reduced the number of `object` string columns but also reduces the dataframe's memory footprint.\n",
    "\n",
    "---\n",
    "\n",
    "## Look for format patterns\n",
    "\n",
    "The remaining 74 `object` columns have more than 60 unique values. Some columns, like the schools' Name, will not contain any numeric values hidden inside the strings, but many others, like the field Students Enrolled, contain multiple numeric values hidden inside their strings:"
   ]
  },
  {
   "cell_type": "code",
   "execution_count": 4,
   "metadata": {},
   "outputs": [
    {
     "data": {
      "text/plain": [
       "SchoolId\n",
       "6       128 (0.61) of 211 admitted students enrolled\n",
       "7     1573 (0.18) of 8666 admitted students enrolled\n",
       "8      250 (0.23) of 1067 admitted students enrolled\n",
       "9       488 (0.94) of 519 admitted students enrolled\n",
       "10     465 (0.11) of 4169 admitted students enrolled\n",
       "Name: Students Enrolled, dtype: object"
      ]
     },
     "execution_count": 4,
     "metadata": {},
     "output_type": "execute_result"
    }
   ],
   "source": [
    "df['Students Enrolled'].head()"
   ]
  },
  {
   "cell_type": "markdown",
   "metadata": {},
   "source": [
    "A simple extraction of these three values with proper labeling would be straightforward. However, there is a problem. Stripping out the numeric values and looking at the unique value counts of this column's numeric formats:"
   ]
  },
  {
   "cell_type": "code",
   "execution_count": 5,
   "metadata": {},
   "outputs": [
    {
     "data": {
      "text/plain": [
       "# (#) of # admitted students enrolled    1372\n",
       "# admitted students enrolled               87\n",
       "Name: Students Enrolled, dtype: int64"
      ]
     },
     "execution_count": 5,
     "metadata": {},
     "output_type": "execute_result"
    }
   ],
   "source": [
    "df['Students Enrolled'].str.replace('\\d+\\.?\\d*', '#').value_counts()"
   ]
  },
  {
   "cell_type": "markdown",
   "metadata": {},
   "source": [
    "We see there are actually two different formats in use inside column, which hampers an effort to simply split and rename the column with basic pandas string operations. This is a problem not unique to this column and is apparent throughout many of the remaining `object` columns in the dataframe.\n",
    "\n",
    "In this column's case, and with many others', there is a dominant 'mode' format, the format of more than 50% of the values. We can construct a stripped dataframe holding only these formats:"
   ]
  },
  {
   "cell_type": "code",
   "execution_count": 6,
   "metadata": {
    "collapsed": true
   },
   "outputs": [],
   "source": [
    "# Create copy of df with all numeric values and extra whitespace stripped.\n",
    "cols = df.select_dtypes('object').columns\n",
    "formats_df = df[cols].replace('\\d\\.?\\d*','#', regex = True)\n",
    "formats_df.replace('\\s+',' ', regex = True, inplace = True)"
   ]
  },
  {
   "cell_type": "markdown",
   "metadata": {},
   "source": [
    "Now we can get the mode format for each of the columns:"
   ]
  },
  {
   "cell_type": "code",
   "execution_count": 7,
   "metadata": {
    "collapsed": true
   },
   "outputs": [],
   "source": [
    "modes = formats_df.mode().loc[0]"
   ]
  },
  {
   "cell_type": "markdown",
   "metadata": {},
   "source": [
    "Not every mode format includes a number (which we denoted in our previous replacement with a `'#'` placeholder). If a mode format string doesn't contain a `'#'`, it's likely a column best left as a string `object` datatype.\n",
    "\n",
    "Similarly, if a numeric mode format is not dominant in its column (not accounting for at least 50% of all values), its likely the column values are best kept as strings.\n",
    "\n",
    "We specify the numeric columns and restrict the modes and modes dataframe accordingly:"
   ]
  },
  {
   "cell_type": "code",
   "execution_count": 8,
   "metadata": {},
   "outputs": [
    {
     "name": "stdout",
     "output_type": "stream",
     "text": [
      "41 numeric columns with majority mode columns.\n"
     ]
    }
   ],
   "source": [
    "modes = modes[modes.str.contains('#', na = False)]\n",
    "modes = modes[(formats_df == modes).sum() / formats_df.count() > 0.5]\n",
    "modes.drop(['Phone', 'Fax'], inplace = True) # Keep these cols as strings.\n",
    "formats_df = formats_df[modes.index]\n",
    "print(\"{} numeric columns with majority mode columns.\".format(len(modes)))"
   ]
  },
  {
   "cell_type": "markdown",
   "metadata": {},
   "source": [
    "We can now pick out the actual dataframe values that are not in the mode format - removing them from the column and setting them aside in a 'dirty' dataframe while keeping only the mode format values in the original dataframe:"
   ]
  },
  {
   "cell_type": "code",
   "execution_count": 9,
   "metadata": {
    "collapsed": true
   },
   "outputs": [],
   "source": [
    "dirty_df = df[modes.index].where(formats_df != modes)\n",
    "df[modes.index] = df[modes.index].where(formats_df == modes)"
   ]
  },
  {
   "cell_type": "markdown",
   "metadata": {},
   "source": [
    "Now we can extract the numeric values from the 'clean' columns of values in mode formats into a new temporary 'clean' dataframe:"
   ]
  },
  {
   "cell_type": "code",
   "execution_count": 10,
   "metadata": {
    "collapsed": true
   },
   "outputs": [],
   "source": [
    "clean_df = pd.DataFrame(index = df.index)\n",
    "for col in modes.index:\n",
    "    vals = df[col].str.extractall('(\\d+\\.?\\d*)').unstack()\n",
    "    vals.columns = [col + ' - ' + str(i) for i in range(1, vals.shape[1] + 1)]\n",
    "    for val_col in vals.columns:\n",
    "        clean_df[val_col] = pd.to_numeric(vals[val_col])"
   ]
  },
  {
   "cell_type": "markdown",
   "metadata": {},
   "source": [
    "The clean dataframe is filled with new columns of values split from the original columns and have been assigned temporary column labels. We can rename them using a dictionary loaded in an external module:"
   ]
  },
  {
   "cell_type": "code",
   "execution_count": 11,
   "metadata": {
    "collapsed": true
   },
   "outputs": [],
   "source": [
    "clean_df.rename(columns = col_rename_dict, inplace = True)\n",
    "\n",
    "# Delete columns marked '*delete*' by dirty_cols_extract_dict.\n",
    "clean_df.drop(columns = '*delete*', inplace = True)"
   ]
  },
  {
   "cell_type": "markdown",
   "metadata": {},
   "source": [
    "We can now drop the original columns from the primary dataframe and then join the newly extracted and labeled columns:"
   ]
  },
  {
   "cell_type": "code",
   "execution_count": 12,
   "metadata": {},
   "outputs": [
    {
     "name": "stdout",
     "output_type": "stream",
     "text": [
      "<class 'pandas.core.frame.DataFrame'>\n",
      "Int64Index: 2028 entries, 6 to 3379\n",
      "Columns: 235 entries, Name to Average Starting Salary\n",
      "dtypes: category(71), float64(131), object(33)\n",
      "memory usage: 2.8+ MB\n"
     ]
    }
   ],
   "source": [
    "df.drop(columns = modes.index, inplace = True)\n",
    "df = df.join(clean_df)\n",
    "\n",
    "df.info()"
   ]
  },
  {
   "cell_type": "markdown",
   "metadata": {},
   "source": [
    "---\n",
    "\n",
    "## Slightly pesky manual seperation \n",
    "\n",
    "Upon inspection of the remaining string columns, a few can still be quickly separated with the help of regular expressions. For instance, the location information was scraped inside a single label:"
   ]
  },
  {
   "cell_type": "code",
   "execution_count": 13,
   "metadata": {
    "collapsed": true
   },
   "outputs": [],
   "source": [
    "col = 'City, State, Zip'\n",
    "\n",
    "vals = df[col].str.split(r'[\\xa0]+', expand = True)\n",
    "vals.columns = ['City', 'State', 'Zip']\n",
    "vals['State'] = vals['State'].astype('category')\n",
    "\n",
    "df.drop(columns = col, inplace = True)\n",
    "df = df.join(vals)"
   ]
  },
  {
   "cell_type": "markdown",
   "metadata": {},
   "source": [
    "The class and lab/discussion size information came in different formats, but always with the same bin labels:"
   ]
  },
  {
   "cell_type": "code",
   "execution_count": 14,
   "metadata": {
    "collapsed": true
   },
   "outputs": [],
   "source": [
    "bins = ['2-9', '10-19', '20-29', '30-39', '40-49', '50-99', 'Over 100']\n",
    "\n",
    "regexs = [b + ' students: ([\\d\\.]+)' for b in bins]\n",
    "class_labels = ['Class Size pct ' + b + ' students' for b in bins]\n",
    "lab_labels = ['Lab/Discussion Size pct ' + b + ' students' for b in bins]\n",
    "\n",
    "class_dict = dict(zip(class_labels, regexs))\n",
    "lab_dict = dict(zip(lab_labels, regexs))\n",
    "\n",
    "cols = ['Regular Class Size', 'Discussion Section/Lab Class Size']\n",
    "extract_dict = {cols[0]: class_dict, cols[1]: lab_dict}\n",
    "\n",
    "vals = pd.DataFrame(index = df.index)\n",
    "for col, dictionary in extract_dict.items():\n",
    "    for label, regex in dictionary.items():\n",
    "        vals[label] = df[col].str.extract(regex)\n",
    "        vals[label] = pd.to_numeric(vals[label])\n",
    "\n",
    "df.drop(columns = cols, inplace = True)\n",
    "df = df.join(vals)"
   ]
  },
  {
   "cell_type": "markdown",
   "metadata": {},
   "source": [
    "And the nearest airport/train/bus fields contained both numeric distance and closest city strings:"
   ]
  },
  {
   "cell_type": "code",
   "execution_count": 15,
   "metadata": {
    "collapsed": true
   },
   "outputs": [],
   "source": [
    "cols = ['Nearest Airport', 'Nearest Train Station', 'Nearest Bus Station']\n",
    "vals = pd.DataFrame(index = df.index)\n",
    "for col in cols:\n",
    "    extracted = df[col].str.extract('(\\d+).* in (\\D*)')\n",
    "    vals[col + ' (miles)'] = pd.to_numeric(extracted[0])\n",
    "    vals[col + ' (city)'] = extracted[1]\n",
    "\n",
    "df.drop(columns = cols, inplace = True)\n",
    "df = df.join(vals)"
   ]
  },
  {
   "cell_type": "markdown",
   "metadata": {},
   "source": [
    "The application fee contains a string value that should be marked numerically as zero:"
   ]
  },
  {
   "cell_type": "code",
   "execution_count": 16,
   "metadata": {},
   "outputs": [
    {
     "name": "stdout",
     "output_type": "stream",
     "text": [
      "<class 'pandas.core.frame.DataFrame'>\n",
      "Int64Index: 2028 entries, 6 to 3379\n",
      "Columns: 252 entries, Name to Nearest Bus Station (city)\n",
      "dtypes: category(71), float64(149), object(32)\n",
      "memory usage: 3.1+ MB\n"
     ]
    }
   ],
   "source": [
    "col = 'Application Fee'\n",
    "df[col] = df[col].str.replace('No fee required', '0')\n",
    "df[col] = df[col].str.extract(r'(\\d+)')\n",
    "df[col] = pd.to_numeric(df[col])\n",
    "\n",
    "df.info()"
   ]
  },
  {
   "cell_type": "markdown",
   "metadata": {},
   "source": [
    "---\n",
    "## Is it clean enough?\n",
    "On this dataframe, this method of identifying a most common (mode) format allowed us to quickly isolate and convert many of the numeric columns with ease, though we did use some regular expressions to handle a few columns in the end.\n",
    "\n",
    "We still have unprocessed strings in a dataframe of 'dirty' columns - strings that contain values locked up in formats different from the majority format of their columns. If we quit here without dealing with them, how many values will we lose?"
   ]
  },
  {
   "cell_type": "code",
   "execution_count": 17,
   "metadata": {},
   "outputs": [
    {
     "data": {
      "text/plain": [
       "3851"
      ]
     },
     "execution_count": 17,
     "metadata": {},
     "output_type": "execute_result"
    }
   ],
   "source": [
    "dirty_df.count().sum()"
   ]
  },
  {
   "cell_type": "markdown",
   "metadata": {},
   "source": [
    "Bear in mind this is a count of strings - each string could contain multiple numeric values in need of extraction, along with further investigation to determine into which existing (or new) column the extracted values should be inserted. But how does this compare to the number of values already extracted?"
   ]
  },
  {
   "cell_type": "code",
   "execution_count": 18,
   "metadata": {},
   "outputs": [
    {
     "data": {
      "text/plain": [
       "335886"
      ]
     },
     "execution_count": 18,
     "metadata": {},
     "output_type": "execute_result"
    }
   ],
   "source": [
    "df.count().sum()"
   ]
  },
  {
   "cell_type": "markdown",
   "metadata": {},
   "source": [
    "These 'dirty' strings represent just a bit over 1% of the total values extracted so far. \n",
    "\n",
    "For the sake of this project, I continued to extract all values. I built a large dict-of-dicts filled with regular expressions and column labels to put the values where they should be:"
   ]
  },
  {
   "cell_type": "code",
   "execution_count": 19,
   "metadata": {},
   "outputs": [
    {
     "name": "stdout",
     "output_type": "stream",
     "text": [
      "<class 'pandas.core.frame.DataFrame'>\n",
      "Int64Index: 2028 entries, 6 to 3379\n",
      "Columns: 254 entries, 2016 Graduates Who Took Out Loans to Zip\n",
      "dtypes: category(71), float64(151), object(32)\n",
      "memory usage: 3.1+ MB\n"
     ]
    }
   ],
   "source": [
    "# Extract num vals from dirty cols using the imported dirty_cols_extract_dict.\n",
    "vals = pd.DataFrame(index = df.index)\n",
    "for dirty_col, extract_dict in dirty_cols_extract_dict.items():\n",
    "    for col, regex in extract_dict.items():\n",
    "        vals[col] = dirty_df[dirty_col].str.extract(regex, expand = False)\n",
    "        vals[col] = pd.to_numeric(vals[col])\n",
    "\n",
    "# Update the dataframe with the extracted dirty values.\n",
    "new_cols = [col for col in vals.columns if col not in df.columns]\n",
    "df = df.join(vals[new_cols])\n",
    "df.update(vals)\n",
    "\n",
    "df.sort_index(axis = 1, inplace = True)\n",
    "df.info()"
   ]
  },
  {
   "cell_type": "markdown",
   "metadata": {},
   "source": [
    "We'll save this cleaned CollegeData dataframe to CSV:"
   ]
  },
  {
   "cell_type": "code",
   "execution_count": 20,
   "metadata": {
    "collapsed": true
   },
   "outputs": [],
   "source": [
    "COLLEGEDATA_CLEAN_CSV_PATH = 'data/collegedata_clean.csv'\n",
    "df.to_csv(COLLEGEDATA_CLEAN_CSV_PATH)"
   ]
  },
  {
   "cell_type": "markdown",
   "metadata": {},
   "source": [
    "---\n",
    "\n",
    "## Cleaning the scraped US news data\n",
    "\n",
    "We'll import our scraped US news rankings:"
   ]
  },
  {
   "cell_type": "code",
   "execution_count": 21,
   "metadata": {
    "scrolled": false
   },
   "outputs": [
    {
     "name": "stdout",
     "output_type": "stream",
     "text": [
      "<class 'pandas.core.frame.DataFrame'>\n",
      "RangeIndex: 1400 entries, 0 to 1399\n",
      "Data columns (total 3 columns):\n",
      "Name         1400 non-null object\n",
      "Location     1400 non-null object\n",
      "Rank Info    1399 non-null object\n",
      "dtypes: object(3)\n",
      "memory usage: 32.9+ KB\n"
     ]
    }
   ],
   "source": [
    "USNEWS_RAW_CSV_PATH = 'data/usnews_raw.csv'\n",
    "ranks_df = pd.read_csv(USNEWS_RAW_CSV_PATH, index_col = False)\n",
    "ranks_df.info()"
   ]
  },
  {
   "cell_type": "markdown",
   "metadata": {},
   "source": [
    "It seems we have one malformed entry missing its Rank Info:"
   ]
  },
  {
   "cell_type": "code",
   "execution_count": 22,
   "metadata": {},
   "outputs": [
    {
     "data": {
      "text/html": [
       "<div>\n",
       "<style scoped>\n",
       "    .dataframe tbody tr th:only-of-type {\n",
       "        vertical-align: middle;\n",
       "    }\n",
       "\n",
       "    .dataframe tbody tr th {\n",
       "        vertical-align: top;\n",
       "    }\n",
       "\n",
       "    .dataframe thead th {\n",
       "        text-align: right;\n",
       "    }\n",
       "</style>\n",
       "<table border=\"1\" class=\"dataframe\">\n",
       "  <thead>\n",
       "    <tr style=\"text-align: right;\">\n",
       "      <th></th>\n",
       "      <th>Name</th>\n",
       "      <th>Location</th>\n",
       "      <th>Rank Info</th>\n",
       "    </tr>\n",
       "  </thead>\n",
       "  <tbody>\n",
       "    <tr>\n",
       "      <th>1389</th>\n",
       "      <td>American College of Thessaloniki</td>\n",
       "      <td>Unranked in Other Schools</td>\n",
       "      <td>NaN</td>\n",
       "    </tr>\n",
       "  </tbody>\n",
       "</table>\n",
       "</div>"
      ],
      "text/plain": [
       "                                  Name                   Location Rank Info\n",
       "1389  American College of Thessaloniki  Unranked in Other Schools       NaN"
      ]
     },
     "execution_count": 22,
     "metadata": {},
     "output_type": "execute_result"
    }
   ],
   "source": [
    "ranks_df.loc[ranks_df['Rank Info'].isna()]"
   ]
  },
  {
   "cell_type": "markdown",
   "metadata": {},
   "source": [
    "Thankfully, it's an unwanted Unranked school, one of the few we accidentally captured. We can drop it, along with any other schools that contain the words 'Unranked' or 'N/A' in their Rank Info column:"
   ]
  },
  {
   "cell_type": "code",
   "execution_count": 23,
   "metadata": {},
   "outputs": [
    {
     "name": "stdout",
     "output_type": "stream",
     "text": [
      "<class 'pandas.core.frame.DataFrame'>\n",
      "Int64Index: 1381 entries, 0 to 1380\n",
      "Data columns (total 3 columns):\n",
      "Name         1381 non-null object\n",
      "Location     1381 non-null object\n",
      "Rank Info    1381 non-null object\n",
      "dtypes: object(3)\n",
      "memory usage: 43.2+ KB\n"
     ]
    }
   ],
   "source": [
    "mask = ranks_df['Rank Info'].str.contains('Unranked|N/A', na = True)\n",
    "ranks_df.drop(ranks_df[mask].index, inplace = True)\n",
    "ranks_df.info()"
   ]
  },
  {
   "cell_type": "markdown",
   "metadata": {},
   "source": [
    "We scraped 2028 schools from CollegeData, and US News has apparently ranked 1381 schools. Let's take a look at the shape of the columns:"
   ]
  },
  {
   "cell_type": "code",
   "execution_count": 24,
   "metadata": {},
   "outputs": [
    {
     "data": {
      "text/html": [
       "<div>\n",
       "<style scoped>\n",
       "    .dataframe tbody tr th:only-of-type {\n",
       "        vertical-align: middle;\n",
       "    }\n",
       "\n",
       "    .dataframe tbody tr th {\n",
       "        vertical-align: top;\n",
       "    }\n",
       "\n",
       "    .dataframe thead th {\n",
       "        text-align: right;\n",
       "    }\n",
       "</style>\n",
       "<table border=\"1\" class=\"dataframe\">\n",
       "  <thead>\n",
       "    <tr style=\"text-align: right;\">\n",
       "      <th></th>\n",
       "      <th>Name</th>\n",
       "      <th>Location</th>\n",
       "      <th>Rank Info</th>\n",
       "    </tr>\n",
       "  </thead>\n",
       "  <tbody>\n",
       "    <tr>\n",
       "      <th>0</th>\n",
       "      <td>Calvin College</td>\n",
       "      <td>Grand Rapids, MI</td>\n",
       "      <td>#1 in Regional Colleges Midwest</td>\n",
       "    </tr>\n",
       "    <tr>\n",
       "      <th>1</th>\n",
       "      <td>Carroll College</td>\n",
       "      <td>Helena, MT</td>\n",
       "      <td>#1 in Regional Colleges West</td>\n",
       "    </tr>\n",
       "    <tr>\n",
       "      <th>2</th>\n",
       "      <td>Cooper Union</td>\n",
       "      <td>New York, NY</td>\n",
       "      <td>#1 in Regional Colleges North</td>\n",
       "    </tr>\n",
       "    <tr>\n",
       "      <th>3</th>\n",
       "      <td>Creighton University</td>\n",
       "      <td>Omaha, NE</td>\n",
       "      <td>#1 in Regional Universities Midwest</td>\n",
       "    </tr>\n",
       "    <tr>\n",
       "      <th>4</th>\n",
       "      <td>Elon University</td>\n",
       "      <td>Elon, NC</td>\n",
       "      <td>#1 in Regional Universities South</td>\n",
       "    </tr>\n",
       "  </tbody>\n",
       "</table>\n",
       "</div>"
      ],
      "text/plain": [
       "                   Name          Location                            Rank Info\n",
       "0        Calvin College  Grand Rapids, MI      #1 in Regional Colleges Midwest\n",
       "1       Carroll College        Helena, MT         #1 in Regional Colleges West\n",
       "2          Cooper Union      New York, NY        #1 in Regional Colleges North\n",
       "3  Creighton University         Omaha, NE  #1 in Regional Universities Midwest\n",
       "4       Elon University          Elon, NC    #1 in Regional Universities South"
      ]
     },
     "execution_count": 24,
     "metadata": {},
     "output_type": "execute_result"
    }
   ],
   "source": [
    "ranks_df.head()"
   ]
  },
  {
   "cell_type": "markdown",
   "metadata": {},
   "source": [
    "We'll split the location column into City and State:"
   ]
  },
  {
   "cell_type": "code",
   "execution_count": 25,
   "metadata": {
    "collapsed": true
   },
   "outputs": [],
   "source": [
    "vals = ranks_df['Location'].str.split(', ', expand = True)\n",
    "vals.columns = ['City', 'State']\n",
    "ranks_df.drop(columns = 'Location', inplace = True)\n",
    "ranks_df = ranks_df.join(vals)"
   ]
  },
  {
   "cell_type": "markdown",
   "metadata": {},
   "source": [
    "Let's look at the string formats in the Rank Info column:"
   ]
  },
  {
   "cell_type": "code",
   "execution_count": 26,
   "metadata": {},
   "outputs": [
    {
     "data": {
      "text/plain": [
       "# in National Universities               229\n",
       "# in National Liberal Arts Colleges      171\n",
       "# in Regional Universities North         145\n",
       "# in Regional Universities Midwest       124\n",
       "# in Regional Universities South         111\n",
       "# in Regional Universities West           93\n",
       "#-# in National Universities              70\n",
       "# in Regional Colleges Midwest            61\n",
       "# in Regional Colleges South              59\n",
       "#-# in National Liberal Arts Colleges     57\n",
       "#-# in Regional Universities North        42\n",
       "#-# in Regional Universities Midwest      39\n",
       "# in Regional Colleges North              37\n",
       "#-# in Regional Universities West         31\n",
       "#-# in Regional Universities South        29\n",
       "# in Regional Colleges West               25\n",
       "#-# in Regional Colleges South            20\n",
       "#-# in Regional Colleges Midwest          19\n",
       "#-# in Regional Colleges North            11\n",
       "#-# in Regional Colleges West              8\n",
       "Name: Rank Info, dtype: int64"
      ]
     },
     "execution_count": 26,
     "metadata": {},
     "output_type": "execute_result"
    }
   ],
   "source": [
    "ranks_df['Rank Info'].str.replace('#\\d+', '#').value_counts()"
   ]
  },
  {
   "cell_type": "markdown",
   "metadata": {},
   "source": [
    "US News does not have one master rank list - it splits schools into Rank Types, like National Universities and Regional Colleges West, for example. It also looks like US News ranks some schools in bins, particularly at low ranked (that is, higher rank number) schools. For example:"
   ]
  },
  {
   "cell_type": "code",
   "execution_count": 27,
   "metadata": {},
   "outputs": [
    {
     "data": {
      "text/html": [
       "<div>\n",
       "<style scoped>\n",
       "    .dataframe tbody tr th:only-of-type {\n",
       "        vertical-align: middle;\n",
       "    }\n",
       "\n",
       "    .dataframe tbody tr th {\n",
       "        vertical-align: top;\n",
       "    }\n",
       "\n",
       "    .dataframe thead th {\n",
       "        text-align: right;\n",
       "    }\n",
       "</style>\n",
       "<table border=\"1\" class=\"dataframe\">\n",
       "  <thead>\n",
       "    <tr style=\"text-align: right;\">\n",
       "      <th></th>\n",
       "      <th>Name</th>\n",
       "      <th>Rank Info</th>\n",
       "      <th>City</th>\n",
       "      <th>State</th>\n",
       "    </tr>\n",
       "  </thead>\n",
       "  <tbody>\n",
       "    <tr>\n",
       "      <th>1376</th>\n",
       "      <td>William Peace University</td>\n",
       "      <td>#173-#229 in National Liberal Arts Colleges</td>\n",
       "      <td>Raleigh</td>\n",
       "      <td>NC</td>\n",
       "    </tr>\n",
       "    <tr>\n",
       "      <th>1377</th>\n",
       "      <td>William Penn University</td>\n",
       "      <td>#126-#165 in Regional Universities Midwest</td>\n",
       "      <td>Oskaloosa</td>\n",
       "      <td>IA</td>\n",
       "    </tr>\n",
       "    <tr>\n",
       "      <th>1378</th>\n",
       "      <td>Wright State University</td>\n",
       "      <td>#231-#300 in National Universities</td>\n",
       "      <td>Dayton</td>\n",
       "      <td>OH</td>\n",
       "    </tr>\n",
       "    <tr>\n",
       "      <th>1379</th>\n",
       "      <td>Young Harris College</td>\n",
       "      <td>#173-#229 in National Liberal Arts Colleges</td>\n",
       "      <td>Young Harris</td>\n",
       "      <td>GA</td>\n",
       "    </tr>\n",
       "    <tr>\n",
       "      <th>1380</th>\n",
       "      <td>Youngstown State University</td>\n",
       "      <td>#126-#165 in Regional Universities Midwest</td>\n",
       "      <td>Youngstown</td>\n",
       "      <td>OH</td>\n",
       "    </tr>\n",
       "  </tbody>\n",
       "</table>\n",
       "</div>"
      ],
      "text/plain": [
       "                             Name  \\\n",
       "1376     William Peace University   \n",
       "1377      William Penn University   \n",
       "1378      Wright State University   \n",
       "1379         Young Harris College   \n",
       "1380  Youngstown State University   \n",
       "\n",
       "                                        Rank Info          City State  \n",
       "1376  #173-#229 in National Liberal Arts Colleges       Raleigh    NC  \n",
       "1377   #126-#165 in Regional Universities Midwest     Oskaloosa    IA  \n",
       "1378           #231-#300 in National Universities        Dayton    OH  \n",
       "1379  #173-#229 in National Liberal Arts Colleges  Young Harris    GA  \n",
       "1380   #126-#165 in Regional Universities Midwest    Youngstown    OH  "
      ]
     },
     "execution_count": 27,
     "metadata": {},
     "output_type": "execute_result"
    }
   ],
   "source": [
    "ranks_df.tail()"
   ]
  },
  {
   "cell_type": "markdown",
   "metadata": {},
   "source": [
    "In these cases, we will consider the school's Rank to be the first number. Ignoring the second number in these ranges, we can look at the value counts to see how many Rank Types there are:"
   ]
  },
  {
   "cell_type": "code",
   "execution_count": 28,
   "metadata": {},
   "outputs": [
    {
     "data": {
      "text/plain": [
       "# in National Universities             299\n",
       "# in National Liberal Arts Colleges    228\n",
       "# in Regional Universities North       187\n",
       "# in Regional Universities Midwest     163\n",
       "# in Regional Universities South       140\n",
       "# in Regional Universities West        124\n",
       "# in Regional Colleges Midwest          80\n",
       "# in Regional Colleges South            79\n",
       "# in Regional Colleges North            48\n",
       "# in Regional Colleges West             33\n",
       "Name: Rank Info, dtype: int64"
      ]
     },
     "execution_count": 28,
     "metadata": {},
     "output_type": "execute_result"
    }
   ],
   "source": [
    "ranks_df['Rank Info'].str.replace('([#\\d-]+)', '#').value_counts()"
   ]
  },
  {
   "cell_type": "markdown",
   "metadata": {},
   "source": [
    "We'll extract the Rank itself along with the Rank Type:"
   ]
  },
  {
   "cell_type": "code",
   "execution_count": 29,
   "metadata": {},
   "outputs": [
    {
     "name": "stdout",
     "output_type": "stream",
     "text": [
      "<class 'pandas.core.frame.DataFrame'>\n",
      "Int64Index: 1381 entries, 0 to 1380\n",
      "Data columns (total 5 columns):\n",
      "Name         1381 non-null object\n",
      "City         1381 non-null object\n",
      "State        1381 non-null object\n",
      "Rank         1381 non-null object\n",
      "Rank Type    1381 non-null object\n",
      "dtypes: object(5)\n",
      "memory usage: 104.7+ KB\n"
     ]
    }
   ],
   "source": [
    "vals = ranks_df['Rank Info'].str.extract('^#(\\d+).*in (.*)$')\n",
    "vals.columns = ['Rank', 'Rank Type']\n",
    "ranks_df.drop(columns = 'Rank Info', inplace = True)\n",
    "ranks_df = ranks_df.join(vals)\n",
    "\n",
    "ranks_df.info()"
   ]
  },
  {
   "cell_type": "markdown",
   "metadata": {},
   "source": [
    "Finally, we'll save the cleaned US News rankings to CSV:"
   ]
  },
  {
   "cell_type": "code",
   "execution_count": 30,
   "metadata": {
    "collapsed": true
   },
   "outputs": [],
   "source": [
    "USNEWS_CLEAN_CSV_PATH = 'data/usnews_clean.csv'\n",
    "ranks_df.to_csv(USNEWS_CLEAN_CSV_PATH, index = False)"
   ]
  }
 ],
 "metadata": {
  "kernelspec": {
   "display_name": "Python 3",
   "language": "python",
   "name": "python3"
  },
  "language_info": {
   "codemirror_mode": {
    "name": "ipython",
    "version": 3
   },
   "file_extension": ".py",
   "mimetype": "text/x-python",
   "name": "python",
   "nbconvert_exporter": "python",
   "pygments_lexer": "ipython3",
   "version": "3.6.5"
  }
 },
 "nbformat": 4,
 "nbformat_minor": 2
}
