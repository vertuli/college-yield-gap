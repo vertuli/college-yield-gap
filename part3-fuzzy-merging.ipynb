{
 "cells": [
  {
   "cell_type": "markdown",
   "metadata": {},
   "source": [
    "# Part 3 - Fuzzy Merging\n",
    "\n",
    "## Inspection\n",
    "\n",
    "Let's import and inspect the cleaned CollegeData and cleaned USNews rankings dataframes that we want to merge:"
   ]
  },
  {
   "cell_type": "code",
   "execution_count": 1,
   "metadata": {},
   "outputs": [
    {
     "name": "stdout",
     "output_type": "stream",
     "text": [
      "<class 'pandas.core.frame.DataFrame'>\n",
      "MultiIndex: 2028 entries, (Bryn Athyn College, PA, Bryn Athyn) to (Fashion Institute of Design and Merchandising: Los Angeles, CA, Los Angeles)\n",
      "Columns: 252 entries, SchoolId to Zip\n",
      "dtypes: float64(157), int64(1), object(94)\n",
      "memory usage: 3.9+ MB\n"
     ]
    }
   ],
   "source": [
    "import numpy as np\n",
    "import pandas as pd\n",
    "from fuzzywuzzy import process\n",
    "from collegedata_names import usnews_rename_names\n",
    "from collegedata_names import usnews_rename_cities\n",
    "\n",
    "COLLEGEDATA_CLEAN_CSV_PATH = 'data/collegedata_clean.csv'\n",
    "USNEWS_CLEAN_CSV_PATH = 'data/usnews_clean.csv'\n",
    "JOINED_CSV_PATH = 'data/joined.csv'\n",
    "\n",
    "cols = ['Name', 'State', 'City']\n",
    "\n",
    "collegedata_df = pd.read_csv(COLLEGEDATA_CLEAN_CSV_PATH, index_col = cols)\n",
    "usnews_df = pd.read_csv(USNEWS_CLEAN_CSV_PATH, index_col = cols)\n",
    "\n",
    "collegedata_df.info()"
   ]
  },
  {
   "cell_type": "markdown",
   "metadata": {},
   "source": [
    "Our scraped collegedata_df contains entries for 2028 schools with 252 columns, plus the 3 columns Name, State, and City used as its index. Looking at our scraped usnews_df:"
   ]
  },
  {
   "cell_type": "code",
   "execution_count": 2,
   "metadata": {},
   "outputs": [
    {
     "name": "stdout",
     "output_type": "stream",
     "text": [
      "<class 'pandas.core.frame.DataFrame'>\n",
      "MultiIndex: 1381 entries, (Calvin College, MI, Grand Rapids) to (Youngstown State University, OH, Youngstown)\n",
      "Data columns (total 2 columns):\n",
      "Rank         1381 non-null int64\n",
      "Rank Type    1381 non-null object\n",
      "dtypes: int64(1), object(1)\n",
      "memory usage: 46.6+ KB\n"
     ]
    }
   ],
   "source": [
    "usnews_df.info()"
   ]
  },
  {
   "cell_type": "markdown",
   "metadata": {},
   "source": [
    "There are 1381 schools US News ranked, with 2 columns - one for the Rank Type and one for the Rank number itself - plus the 3 columns Name, State, and City used as its index.\n",
    "\n",
    "We will try to join these together into a single combined dataframe, joined_df, that when we're finished should have 2028 entries and 252 + 2 = 254 columns, plus the 3 columns Name, State, and City as its index.\n",
    "\n",
    "---\n",
    "\n",
    "## Simple inner join\n",
    "\n",
    "Since we have less entries in usnews_df than we have in collegedata_df, let's try simply inner joining the usnews_df to collegedata_df on their common Name, State, and City index to create the new dataframe joined_df. Then we can drop all entries from usnews_df and collegedata_df that were successfully joined, and see how many unjoined records remain in usnews_df:"
   ]
  },
  {
   "cell_type": "code",
   "execution_count": 3,
   "metadata": {
    "scrolled": true
   },
   "outputs": [
    {
     "data": {
      "text/plain": [
       "299"
      ]
     },
     "execution_count": 3,
     "metadata": {},
     "output_type": "execute_result"
    }
   ],
   "source": [
    "joined_df = collegedata_df.merge(usnews_df, how = 'inner', left_index = True, \n",
    "                                 right_index = True, validate = '1:1')\n",
    "\n",
    "collegedata_df = collegedata_df.drop(joined_df.index)\n",
    "usnews_df = usnews_df.drop(joined_df.index)\n",
    "\n",
    "len(usnews_df)"
   ]
  },
  {
   "cell_type": "markdown",
   "metadata": {},
   "source": [
    "Now we need to find a way to match these orphaned 299 usnews_df entries to the the remaining collegedata_df entries.\n",
    "\n",
    "---\n",
    "\n",
    "## Fuzzy matching with fuzzywuzzy\n",
    "\n",
    "It's possible that for some entries, the City and State indexes are matching on the join but for some reason the Name is slightly off, perhaps due to formatting differences in how US News and CollegeData represent the Name.\n",
    "\n",
    "We create a function `simplify()` that takes in the Name index and returns a 'simplifed' Name string for each entry. First, it will expand commonly used acronyms like SUNY, CUNY, and A&M, it will remove apostrophes, periods, hyphens, and other formatting differences, it will expand abbreviations for 'Saint', and remove the words 'College' and 'University', as some schools have recently changed from using one to the other and could lead to discrepencies between the two dataframes.\n",
    "\n",
    "We will use `simplify()` on the Name index in both dataframes and append the result as a new temporary 'Simplified Name' column in each. Let's take a look at what the Simplified Name looks like for the first few entries in usnews_df:"
   ]
  },
  {
   "cell_type": "code",
   "execution_count": 4,
   "metadata": {},
   "outputs": [
    {
     "data": {
      "text/html": [
       "<div>\n",
       "<style scoped>\n",
       "    .dataframe tbody tr th:only-of-type {\n",
       "        vertical-align: middle;\n",
       "    }\n",
       "\n",
       "    .dataframe tbody tr th {\n",
       "        vertical-align: top;\n",
       "    }\n",
       "\n",
       "    .dataframe thead th {\n",
       "        text-align: right;\n",
       "    }\n",
       "</style>\n",
       "<table border=\"1\" class=\"dataframe\">\n",
       "  <thead>\n",
       "    <tr style=\"text-align: right;\">\n",
       "      <th></th>\n",
       "      <th></th>\n",
       "      <th></th>\n",
       "      <th>Simplified Name</th>\n",
       "    </tr>\n",
       "    <tr>\n",
       "      <th>Name</th>\n",
       "      <th>State</th>\n",
       "      <th>City</th>\n",
       "      <th></th>\n",
       "    </tr>\n",
       "  </thead>\n",
       "  <tbody>\n",
       "    <tr>\n",
       "      <th>Bryn Athyn College</th>\n",
       "      <th>PA</th>\n",
       "      <th>Bryn Athyn</th>\n",
       "      <td>Bryn Athyn</td>\n",
       "    </tr>\n",
       "    <tr>\n",
       "      <th>Albany College of Pharmacy and Health Sciences</th>\n",
       "      <th>NY</th>\n",
       "      <th>Albany</th>\n",
       "      <td>Albany Pharmacy and Health Sciences</td>\n",
       "    </tr>\n",
       "    <tr>\n",
       "      <th>St. Joseph's College - Long Island Campus</th>\n",
       "      <th>NY</th>\n",
       "      <th>Patchogue</th>\n",
       "      <td>SaintJosephs Long Island Campus</td>\n",
       "    </tr>\n",
       "    <tr>\n",
       "      <th>Saint Anselm College</th>\n",
       "      <th>NH</th>\n",
       "      <th>Manchester</th>\n",
       "      <td>Saint Anselm</td>\n",
       "    </tr>\n",
       "    <tr>\n",
       "      <th>Saint Francis University</th>\n",
       "      <th>PA</th>\n",
       "      <th>Loretto</th>\n",
       "      <td>Saint Francis</td>\n",
       "    </tr>\n",
       "  </tbody>\n",
       "</table>\n",
       "</div>"
      ],
      "text/plain": [
       "                                                                                     Simplified Name\n",
       "Name                                           State City                                           \n",
       "Bryn Athyn College                             PA    Bryn Athyn                           Bryn Athyn\n",
       "Albany College of Pharmacy and Health Sciences NY    Albany      Albany Pharmacy and Health Sciences\n",
       "St. Joseph's College - Long Island Campus      NY    Patchogue       SaintJosephs Long Island Campus\n",
       "Saint Anselm College                           NH    Manchester                         Saint Anselm\n",
       "Saint Francis University                       PA    Loretto                           Saint Francis"
      ]
     },
     "execution_count": 4,
     "metadata": {},
     "output_type": "execute_result"
    }
   ],
   "source": [
    "def simplify(s):\n",
    "    s = s.str.replace('SUNY','State University of New York')\n",
    "    s = s.str.replace('CUNY','City University of New York')\n",
    "    s = s.str.replace('A&M','Agricultural and Mechanical')\n",
    "    s = s.str.replace('\\'s','s')\n",
    "    s = s.str.replace('College|University|of|\\'','')\n",
    "    s = s.str.replace('Ste?\\.? ','Saint')\n",
    "    s = s.str.replace('-|\\.',' ')\n",
    "    s = s.str.replace('\\s+',' ')\n",
    "    s = s.str.strip()\n",
    "    return s\n",
    "\n",
    "collegedata_names = collegedata_df.index.get_level_values('Name')\n",
    "collegedata_df['Simplified Name'] = simplify(collegedata_names)\n",
    "\n",
    "usnews_names = usnews_df.index.get_level_values('Name')\n",
    "usnews_df['Simplified Name'] = simplify(usnews_names)\n",
    "\n",
    "collegedata_df[['Simplified Name']].head()"
   ]
  },
  {
   "cell_type": "markdown",
   "metadata": {},
   "source": [
    "Similarly, there now exists a Simplified Name column in collegedata_df. \n",
    "\n",
    "We will now apply `process.extract()` from fuzzywuzzy module to each element of usnews_df's Stripped Name column. `process.extract()` accepts two inputs: the first is a string for which we'd like to find a potential match - this is a usnews_df Simplifed Name in our case, the second is a list of strings to consider - this is the entire column of collegedata_df Simplified Name for us. An optional third parameter limits how many results to return. The function returns results in a list.\n",
    "\n",
    "In our case, we will limit `process.extract()` to return just one result - the closest match. The result is a tuple of three elements: the first is the closest matched Simplified Name, the second is a match score, the third is the index of collegedata_df corresponding to that match: "
   ]
  },
  {
   "cell_type": "code",
   "execution_count": 5,
   "metadata": {},
   "outputs": [
    {
     "data": {
      "text/html": [
       "<div>\n",
       "<style scoped>\n",
       "    .dataframe tbody tr th:only-of-type {\n",
       "        vertical-align: middle;\n",
       "    }\n",
       "\n",
       "    .dataframe tbody tr th {\n",
       "        vertical-align: top;\n",
       "    }\n",
       "\n",
       "    .dataframe thead th {\n",
       "        text-align: right;\n",
       "    }\n",
       "</style>\n",
       "<table border=\"1\" class=\"dataframe\">\n",
       "  <thead>\n",
       "    <tr style=\"text-align: right;\">\n",
       "      <th></th>\n",
       "      <th></th>\n",
       "      <th></th>\n",
       "      <th>Closest Match</th>\n",
       "    </tr>\n",
       "    <tr>\n",
       "      <th>Name</th>\n",
       "      <th>State</th>\n",
       "      <th>City</th>\n",
       "      <th></th>\n",
       "    </tr>\n",
       "  </thead>\n",
       "  <tbody>\n",
       "    <tr>\n",
       "      <th>Cooper Union</th>\n",
       "      <th>NY</th>\n",
       "      <th>New York</th>\n",
       "      <td>[(Cooper Union for the Advancement Science and...</td>\n",
       "    </tr>\n",
       "    <tr>\n",
       "      <th>Harvard University</th>\n",
       "      <th>MA</th>\n",
       "      <th>Cambridge</th>\n",
       "      <td>[(Harvard, 100, (Harvard College, MA, Cambridg...</td>\n",
       "    </tr>\n",
       "    <tr>\n",
       "      <th>California State University--Maritime Academy</th>\n",
       "      <th>CA</th>\n",
       "      <th>Vallejo</th>\n",
       "      <td>[(California Maritime Academy, 95, (California...</td>\n",
       "    </tr>\n",
       "    <tr>\n",
       "      <th>College of New Jersey</th>\n",
       "      <th>NJ</th>\n",
       "      <th>Ewing</th>\n",
       "      <td>[(The New Jersey, 95, (The College of New Jers...</td>\n",
       "    </tr>\n",
       "    <tr>\n",
       "      <th>University of South Carolina--Aiken</th>\n",
       "      <th>SC</th>\n",
       "      <th>Aiken</th>\n",
       "      <td>[(South Carolina Aiken, 100, (University of So...</td>\n",
       "    </tr>\n",
       "  </tbody>\n",
       "</table>\n",
       "</div>"
      ],
      "text/plain": [
       "                                                                                                   Closest Match\n",
       "Name                                          State City                                                        \n",
       "Cooper Union                                  NY    New York   [(Cooper Union for the Advancement Science and...\n",
       "Harvard University                            MA    Cambridge  [(Harvard, 100, (Harvard College, MA, Cambridg...\n",
       "California State University--Maritime Academy CA    Vallejo    [(California Maritime Academy, 95, (California...\n",
       "College of New Jersey                         NJ    Ewing      [(The New Jersey, 95, (The College of New Jers...\n",
       "University of South Carolina--Aiken           SC    Aiken      [(South Carolina Aiken, 100, (University of So..."
      ]
     },
     "execution_count": 5,
     "metadata": {},
     "output_type": "execute_result"
    }
   ],
   "source": [
    "fuzzymatch = lambda string: process.extract(string,\n",
    "                                            collegedata_df['Simplified Name'],\n",
    "                                            limit = 1)\n",
    "\n",
    "usnews_df['Closest Match'] = usnews_df['Simplified Name'].apply(fuzzymatch)\n",
    "\n",
    "usnews_df = usnews_df.drop(columns = 'Simplified Name')\n",
    "collegedata_df = collegedata_df.drop(columns = 'Simplified Name')\n",
    "\n",
    "usnews_df[['Closest Match']].head()"
   ]
  },
  {
   "cell_type": "markdown",
   "metadata": {},
   "source": [
    "For each Stripped Name in usnews_df, process.extract() returned a list of tuple results. Since we limited the results to only one, this is a list of result. The result is a tuple of three elements. The third element of that tuple is the index of collegedata_df corresponding to the closest match. \n",
    "\n",
    "Since collegedata_df is indexed by three columns - Name, State, and City - that index is represented by a tuple of three values, one for each index value. The first element of that index tuple is the true collegedata_df Name of the match - we want to extract that and save it as a new column in usnews_df:"
   ]
  },
  {
   "cell_type": "code",
   "execution_count": 6,
   "metadata": {},
   "outputs": [
    {
     "data": {
      "text/html": [
       "<div>\n",
       "<style scoped>\n",
       "    .dataframe tbody tr th:only-of-type {\n",
       "        vertical-align: middle;\n",
       "    }\n",
       "\n",
       "    .dataframe tbody tr th {\n",
       "        vertical-align: top;\n",
       "    }\n",
       "\n",
       "    .dataframe thead th {\n",
       "        text-align: right;\n",
       "    }\n",
       "</style>\n",
       "<table border=\"1\" class=\"dataframe\">\n",
       "  <thead>\n",
       "    <tr style=\"text-align: right;\">\n",
       "      <th></th>\n",
       "      <th></th>\n",
       "      <th></th>\n",
       "      <th>collegedata_df Name</th>\n",
       "    </tr>\n",
       "    <tr>\n",
       "      <th>Name</th>\n",
       "      <th>State</th>\n",
       "      <th>City</th>\n",
       "      <th></th>\n",
       "    </tr>\n",
       "  </thead>\n",
       "  <tbody>\n",
       "    <tr>\n",
       "      <th>Cooper Union</th>\n",
       "      <th>NY</th>\n",
       "      <th>New York</th>\n",
       "      <td>Cooper Union for the Advancement of Science an...</td>\n",
       "    </tr>\n",
       "    <tr>\n",
       "      <th>Harvard University</th>\n",
       "      <th>MA</th>\n",
       "      <th>Cambridge</th>\n",
       "      <td>Harvard College</td>\n",
       "    </tr>\n",
       "    <tr>\n",
       "      <th>California State University--Maritime Academy</th>\n",
       "      <th>CA</th>\n",
       "      <th>Vallejo</th>\n",
       "      <td>California Maritime Academy</td>\n",
       "    </tr>\n",
       "    <tr>\n",
       "      <th>College of New Jersey</th>\n",
       "      <th>NJ</th>\n",
       "      <th>Ewing</th>\n",
       "      <td>The College of New Jersey</td>\n",
       "    </tr>\n",
       "    <tr>\n",
       "      <th>University of South Carolina--Aiken</th>\n",
       "      <th>SC</th>\n",
       "      <th>Aiken</th>\n",
       "      <td>University of South Carolina Aiken</td>\n",
       "    </tr>\n",
       "  </tbody>\n",
       "</table>\n",
       "</div>"
      ],
      "text/plain": [
       "                                                                                             collegedata_df Name\n",
       "Name                                          State City                                                        \n",
       "Cooper Union                                  NY    New York   Cooper Union for the Advancement of Science an...\n",
       "Harvard University                            MA    Cambridge                                    Harvard College\n",
       "California State University--Maritime Academy CA    Vallejo                          California Maritime Academy\n",
       "College of New Jersey                         NJ    Ewing                              The College of New Jersey\n",
       "University of South Carolina--Aiken           SC    Aiken                     University of South Carolina Aiken"
      ]
     },
     "execution_count": 6,
     "metadata": {},
     "output_type": "execute_result"
    }
   ],
   "source": [
    "usnews_df['collegedata_df Name'] = \\\n",
    "    usnews_df['Closest Match'].str[0].str[2].str[0]\n",
    "\n",
    "usnews_df = usnews_df.drop(columns = 'Closest Match')\n",
    "\n",
    "usnews_df[['collegedata_df Name']].head()"
   ]
  },
  {
   "cell_type": "markdown",
   "metadata": {},
   "source": [
    "Now we can see here in the first few entries of usnews_df that each entry in usnews_df is now associated with a fuzzy matched Name from collegedata_df. \n",
    "\n",
    "Though these first few entries look properly matched, it's more than possible that the fuzzy match has made some incorrect matches. This shouldn't be a problem though since when we later replace the usnews_df Name index with the matched collegedata_df Name column and inner merge usnews_df to collegedata_df, we will do that merge not just on the Name, but also on the State and City indexes. All three shouldn't line up if the fuzzy match was wrong.\n",
    "\n",
    "This will fail, however, if there was an extraordinary coincidence and two different schools in usnews_df that happen to be in the same state and city were fuzzy matched to the same collegedata_df Name. Let's check to see if there are any duplicates like this:"
   ]
  },
  {
   "cell_type": "code",
   "execution_count": 7,
   "metadata": {},
   "outputs": [
    {
     "data": {
      "text/html": [
       "<div>\n",
       "<style scoped>\n",
       "    .dataframe tbody tr th:only-of-type {\n",
       "        vertical-align: middle;\n",
       "    }\n",
       "\n",
       "    .dataframe tbody tr th {\n",
       "        vertical-align: top;\n",
       "    }\n",
       "\n",
       "    .dataframe thead th {\n",
       "        text-align: right;\n",
       "    }\n",
       "</style>\n",
       "<table border=\"1\" class=\"dataframe\">\n",
       "  <thead>\n",
       "    <tr style=\"text-align: right;\">\n",
       "      <th></th>\n",
       "      <th>usnews_df Name</th>\n",
       "      <th>State</th>\n",
       "      <th>City</th>\n",
       "      <th>Rank</th>\n",
       "      <th>Rank Type</th>\n",
       "      <th>collegedata_df Name</th>\n",
       "    </tr>\n",
       "  </thead>\n",
       "  <tbody>\n",
       "    <tr>\n",
       "      <th>43</th>\n",
       "      <td>CUNY--Hunter College</td>\n",
       "      <td>NY</td>\n",
       "      <td>New York</td>\n",
       "      <td>28</td>\n",
       "      <td>Regional Universities North</td>\n",
       "      <td>City College of New York</td>\n",
       "    </tr>\n",
       "    <tr>\n",
       "      <th>101</th>\n",
       "      <td>CUNY--City College</td>\n",
       "      <td>NY</td>\n",
       "      <td>New York</td>\n",
       "      <td>56</td>\n",
       "      <td>Regional Universities North</td>\n",
       "      <td>City College of New York</td>\n",
       "    </tr>\n",
       "    <tr>\n",
       "      <th>248</th>\n",
       "      <td>Georgia Southern University--Armstrong</td>\n",
       "      <td>GA</td>\n",
       "      <td>Savannah</td>\n",
       "      <td>114</td>\n",
       "      <td>Regional Universities South</td>\n",
       "      <td>South College</td>\n",
       "    </tr>\n",
       "    <tr>\n",
       "      <th>270</th>\n",
       "      <td>South University</td>\n",
       "      <td>GA</td>\n",
       "      <td>Savannah</td>\n",
       "      <td>114</td>\n",
       "      <td>Regional Universities South</td>\n",
       "      <td>South College</td>\n",
       "    </tr>\n",
       "  </tbody>\n",
       "</table>\n",
       "</div>"
      ],
      "text/plain": [
       "                             usnews_df Name State      City  Rank  \\\n",
       "43                     CUNY--Hunter College    NY  New York    28   \n",
       "101                      CUNY--City College    NY  New York    56   \n",
       "248  Georgia Southern University--Armstrong    GA  Savannah   114   \n",
       "270                        South University    GA  Savannah   114   \n",
       "\n",
       "                       Rank Type       collegedata_df Name  \n",
       "43   Regional Universities North  City College of New York  \n",
       "101  Regional Universities North  City College of New York  \n",
       "248  Regional Universities South             South College  \n",
       "270  Regional Universities South             South College  "
      ]
     },
     "execution_count": 7,
     "metadata": {},
     "output_type": "execute_result"
    }
   ],
   "source": [
    "usnews_df = usnews_df.reset_index()\n",
    "usnews_df = usnews_df.rename(columns = {'Name':'usnews_df Name'})\n",
    "\n",
    "cols = ['collegedata_df Name', 'State', 'City']\n",
    "duplicates = usnews_df.duplicated(cols, keep = False)\n",
    "usnews_df[duplicates]"
   ]
  },
  {
   "cell_type": "markdown",
   "metadata": {},
   "source": [
    "Good thing we checked for duplicates - but thankfully there are only two pairs. After a quick search, I can manually set the appropriate collegedata_df Name values. After doing that, let's set the index of usnews_df to use the matched collegedata_df Name along with the existing State and City:"
   ]
  },
  {
   "cell_type": "code",
   "execution_count": 8,
   "metadata": {},
   "outputs": [
    {
     "data": {
      "text/html": [
       "<div>\n",
       "<style scoped>\n",
       "    .dataframe tbody tr th:only-of-type {\n",
       "        vertical-align: middle;\n",
       "    }\n",
       "\n",
       "    .dataframe tbody tr th {\n",
       "        vertical-align: top;\n",
       "    }\n",
       "\n",
       "    .dataframe thead th {\n",
       "        text-align: right;\n",
       "    }\n",
       "</style>\n",
       "<table border=\"1\" class=\"dataframe\">\n",
       "  <thead>\n",
       "    <tr style=\"text-align: right;\">\n",
       "      <th></th>\n",
       "      <th></th>\n",
       "      <th></th>\n",
       "      <th>usnews_df Name</th>\n",
       "      <th>Rank</th>\n",
       "      <th>Rank Type</th>\n",
       "    </tr>\n",
       "    <tr>\n",
       "      <th>Name</th>\n",
       "      <th>State</th>\n",
       "      <th>City</th>\n",
       "      <th></th>\n",
       "      <th></th>\n",
       "      <th></th>\n",
       "    </tr>\n",
       "  </thead>\n",
       "  <tbody>\n",
       "    <tr>\n",
       "      <th>Cooper Union for the Advancement of Science and Art</th>\n",
       "      <th>NY</th>\n",
       "      <th>New York</th>\n",
       "      <td>Cooper Union</td>\n",
       "      <td>1</td>\n",
       "      <td>Regional Colleges North</td>\n",
       "    </tr>\n",
       "    <tr>\n",
       "      <th>Harvard College</th>\n",
       "      <th>MA</th>\n",
       "      <th>Cambridge</th>\n",
       "      <td>Harvard University</td>\n",
       "      <td>2</td>\n",
       "      <td>National Universities</td>\n",
       "    </tr>\n",
       "    <tr>\n",
       "      <th>California Maritime Academy</th>\n",
       "      <th>CA</th>\n",
       "      <th>Vallejo</th>\n",
       "      <td>California State University--Maritime Academy</td>\n",
       "      <td>3</td>\n",
       "      <td>Regional Colleges West</td>\n",
       "    </tr>\n",
       "    <tr>\n",
       "      <th>The College of New Jersey</th>\n",
       "      <th>NJ</th>\n",
       "      <th>Ewing</th>\n",
       "      <td>College of New Jersey</td>\n",
       "      <td>4</td>\n",
       "      <td>Regional Universities North</td>\n",
       "    </tr>\n",
       "    <tr>\n",
       "      <th>University of South Carolina Aiken</th>\n",
       "      <th>SC</th>\n",
       "      <th>Aiken</th>\n",
       "      <td>University of South Carolina--Aiken</td>\n",
       "      <td>6</td>\n",
       "      <td>Regional Colleges South</td>\n",
       "    </tr>\n",
       "  </tbody>\n",
       "</table>\n",
       "</div>"
      ],
      "text/plain": [
       "                                                                                                   usnews_df Name  \\\n",
       "Name                                               State City                                                       \n",
       "Cooper Union for the Advancement of Science and... NY    New York                                    Cooper Union   \n",
       "Harvard College                                    MA    Cambridge                             Harvard University   \n",
       "California Maritime Academy                        CA    Vallejo    California State University--Maritime Academy   \n",
       "The College of New Jersey                          NJ    Ewing                              College of New Jersey   \n",
       "University of South Carolina Aiken                 SC    Aiken                University of South Carolina--Aiken   \n",
       "\n",
       "                                                                    Rank  \\\n",
       "Name                                               State City              \n",
       "Cooper Union for the Advancement of Science and... NY    New York      1   \n",
       "Harvard College                                    MA    Cambridge     2   \n",
       "California Maritime Academy                        CA    Vallejo       3   \n",
       "The College of New Jersey                          NJ    Ewing         4   \n",
       "University of South Carolina Aiken                 SC    Aiken         6   \n",
       "\n",
       "                                                                                      Rank Type  \n",
       "Name                                               State City                                    \n",
       "Cooper Union for the Advancement of Science and... NY    New York       Regional Colleges North  \n",
       "Harvard College                                    MA    Cambridge        National Universities  \n",
       "California Maritime Academy                        CA    Vallejo         Regional Colleges West  \n",
       "The College of New Jersey                          NJ    Ewing      Regional Universities North  \n",
       "University of South Carolina Aiken                 SC    Aiken          Regional Colleges South  "
      ]
     },
     "execution_count": 8,
     "metadata": {},
     "output_type": "execute_result"
    }
   ],
   "source": [
    "usnews_df.loc[43, 'collegedata_df Name'] = 'Hunter College'\n",
    "usnews_df.loc[248, 'collegedata_df Name'] = 'Armstrong State University'\n",
    "\n",
    "usnews_df = usnews_df.rename(columns = {'collegedata_df Name':'Name'})\n",
    "\n",
    "cols = ['Name', 'State', 'City']\n",
    "usnews_df = usnews_df.set_index(cols)\n",
    "\n",
    "usnews_df.head()"
   ]
  },
  {
   "cell_type": "markdown",
   "metadata": {},
   "source": [
    "We should be good now to inner merge this usnews_df with collegedata_df. We'll want to drop the usnews_df Name column from the results before appending them to our existing joined_df. Finally, we will dropping the successfully joined entries from both original dataframes and take a look at how many unjoined entries remain in usnews_df:"
   ]
  },
  {
   "cell_type": "code",
   "execution_count": 9,
   "metadata": {},
   "outputs": [
    {
     "data": {
      "text/plain": [
       "73"
      ]
     },
     "execution_count": 9,
     "metadata": {},
     "output_type": "execute_result"
    }
   ],
   "source": [
    "result = collegedata_df.merge(usnews_df, how = 'inner', left_index = True, \n",
    "                              right_index = True, validate = '1:1')\n",
    "\n",
    "result = result.drop(columns = 'usnews_df Name')\n",
    "\n",
    "joined_df = joined_df.append(result, sort = False)\n",
    "\n",
    "collegedata_df = collegedata_df.drop(result.index)\n",
    "usnews_df = usnews_df.drop(result.index)\n",
    "\n",
    "usnews_df = usnews_df.reset_index()\n",
    "\n",
    "usnews_df = usnews_df.drop(columns = 'Name')\n",
    "usnews_df = usnews_df.rename(columns = {'usnews_df Name':'Name'})\n",
    "\n",
    "usnews_df = usnews_df.set_index(cols)\n",
    "\n",
    "len(usnews_df)"
   ]
  },
  {
   "cell_type": "markdown",
   "metadata": {},
   "source": [
    "There are 73 entries remaining in usnews_df that did not line up with collegedata_df on the matched Name, City, and State indexes. \n",
    "\n",
    "---\n",
    "\n",
    "## Unaligned cities\n",
    "\n",
    "It's possible that some of the entries' Name values do in fact align, but their City values differ slightly in formatting in the same way that some Name values did. \n",
    "\n",
    "We can look at all the remaining rows in usnews_df where the original usnews_df Name index actually does align with the collegedata_df Name, but for whatever reason isn't aligning with the State and City indexes:"
   ]
  },
  {
   "cell_type": "code",
   "execution_count": 10,
   "metadata": {},
   "outputs": [
    {
     "data": {
      "text/html": [
       "<div>\n",
       "<style scoped>\n",
       "    .dataframe tbody tr th:only-of-type {\n",
       "        vertical-align: middle;\n",
       "    }\n",
       "\n",
       "    .dataframe tbody tr th {\n",
       "        vertical-align: top;\n",
       "    }\n",
       "\n",
       "    .dataframe thead th {\n",
       "        text-align: right;\n",
       "    }\n",
       "</style>\n",
       "<table border=\"1\" class=\"dataframe\">\n",
       "  <thead>\n",
       "    <tr style=\"text-align: right;\">\n",
       "      <th></th>\n",
       "      <th>City usnews_df</th>\n",
       "      <th>State usnews_df</th>\n",
       "      <th>City collegedata_df</th>\n",
       "      <th>State collegedata_df</th>\n",
       "    </tr>\n",
       "    <tr>\n",
       "      <th>Name</th>\n",
       "      <th></th>\n",
       "      <th></th>\n",
       "      <th></th>\n",
       "      <th></th>\n",
       "    </tr>\n",
       "  </thead>\n",
       "  <tbody>\n",
       "    <tr>\n",
       "      <th>St. Gregory's University</th>\n",
       "      <td>Shawnee</td>\n",
       "      <td>OK</td>\n",
       "      <td>NaN</td>\n",
       "      <td>NaN</td>\n",
       "    </tr>\n",
       "    <tr>\n",
       "      <th>Florida Memorial University</th>\n",
       "      <td>Miami</td>\n",
       "      <td>FL</td>\n",
       "      <td>Miami-Dade</td>\n",
       "      <td>FL</td>\n",
       "    </tr>\n",
       "    <tr>\n",
       "      <th>Saint Mary-of-the-Woods College</th>\n",
       "      <td>St. Mary-of-the-Woods</td>\n",
       "      <td>IN</td>\n",
       "      <td>Saint Mary of the Woods</td>\n",
       "      <td>IN</td>\n",
       "    </tr>\n",
       "    <tr>\n",
       "      <th>University of Richmond</th>\n",
       "      <td>Univ. of Richmond</td>\n",
       "      <td>VA</td>\n",
       "      <td>University of Richmond</td>\n",
       "      <td>VA</td>\n",
       "    </tr>\n",
       "    <tr>\n",
       "      <th>Mount Ida College</th>\n",
       "      <td>Newton</td>\n",
       "      <td>MA</td>\n",
       "      <td>NaN</td>\n",
       "      <td>NaN</td>\n",
       "    </tr>\n",
       "    <tr>\n",
       "      <th>Lake Superior State University</th>\n",
       "      <td>Sault Ste. Marie</td>\n",
       "      <td>MI</td>\n",
       "      <td>Sault Sainte Marie</td>\n",
       "      <td>MI</td>\n",
       "    </tr>\n",
       "    <tr>\n",
       "      <th>Bard College</th>\n",
       "      <td>Annandale on Hudson</td>\n",
       "      <td>NY</td>\n",
       "      <td>Annandale-on-Hudson</td>\n",
       "      <td>NY</td>\n",
       "    </tr>\n",
       "    <tr>\n",
       "      <th>Grace University</th>\n",
       "      <td>Omaha</td>\n",
       "      <td>NE</td>\n",
       "      <td>NaN</td>\n",
       "      <td>NaN</td>\n",
       "    </tr>\n",
       "    <tr>\n",
       "      <th>Philadelphia University</th>\n",
       "      <td>Philadelphia</td>\n",
       "      <td>PA</td>\n",
       "      <td>NaN</td>\n",
       "      <td>NaN</td>\n",
       "    </tr>\n",
       "    <tr>\n",
       "      <th>St. Mary's College of Maryland</th>\n",
       "      <td>St. Marys City</td>\n",
       "      <td>MD</td>\n",
       "      <td>St. Mary's City</td>\n",
       "      <td>MD</td>\n",
       "    </tr>\n",
       "    <tr>\n",
       "      <th>Wheelock College</th>\n",
       "      <td>Boston</td>\n",
       "      <td>MA</td>\n",
       "      <td>NaN</td>\n",
       "      <td>NaN</td>\n",
       "    </tr>\n",
       "    <tr>\n",
       "      <th>Auburn University</th>\n",
       "      <td>Auburn</td>\n",
       "      <td>AL</td>\n",
       "      <td>Auburn University</td>\n",
       "      <td>AL</td>\n",
       "    </tr>\n",
       "    <tr>\n",
       "      <th>College of Mount St. Vincent</th>\n",
       "      <td>Bronx</td>\n",
       "      <td>NY</td>\n",
       "      <td>Riverdale</td>\n",
       "      <td>NY</td>\n",
       "    </tr>\n",
       "    <tr>\n",
       "      <th>Nova Southeastern University</th>\n",
       "      <td>Ft. Lauderdale</td>\n",
       "      <td>FL</td>\n",
       "      <td>Fort Lauderdale</td>\n",
       "      <td>FL</td>\n",
       "    </tr>\n",
       "    <tr>\n",
       "      <th>American Jewish University</th>\n",
       "      <td>Bel-Air</td>\n",
       "      <td>CA</td>\n",
       "      <td>Bel Air</td>\n",
       "      <td>CA</td>\n",
       "    </tr>\n",
       "    <tr>\n",
       "      <th>Brewton-Parker College</th>\n",
       "      <td>Mount Vernon</td>\n",
       "      <td>GA</td>\n",
       "      <td>Mt. Vernon</td>\n",
       "      <td>GA</td>\n",
       "    </tr>\n",
       "    <tr>\n",
       "      <th>Marygrove College</th>\n",
       "      <td>Detroit</td>\n",
       "      <td>MI</td>\n",
       "      <td>NaN</td>\n",
       "      <td>NaN</td>\n",
       "    </tr>\n",
       "    <tr>\n",
       "      <th>Northern Illinois University</th>\n",
       "      <td>DeKalb</td>\n",
       "      <td>IL</td>\n",
       "      <td>De Kalb</td>\n",
       "      <td>IL</td>\n",
       "    </tr>\n",
       "  </tbody>\n",
       "</table>\n",
       "</div>"
      ],
      "text/plain": [
       "                                        City usnews_df State usnews_df  \\\n",
       "Name                                                                     \n",
       "St. Gregory's University                       Shawnee              OK   \n",
       "Florida Memorial University                      Miami              FL   \n",
       "Saint Mary-of-the-Woods College  St. Mary-of-the-Woods              IN   \n",
       "University of Richmond               Univ. of Richmond              VA   \n",
       "Mount Ida College                               Newton              MA   \n",
       "Lake Superior State University        Sault Ste. Marie              MI   \n",
       "Bard College                       Annandale on Hudson              NY   \n",
       "Grace University                                 Omaha              NE   \n",
       "Philadelphia University                   Philadelphia              PA   \n",
       "St. Mary's College of Maryland          St. Marys City              MD   \n",
       "Wheelock College                                Boston              MA   \n",
       "Auburn University                               Auburn              AL   \n",
       "College of Mount St. Vincent                     Bronx              NY   \n",
       "Nova Southeastern University            Ft. Lauderdale              FL   \n",
       "American Jewish University                     Bel-Air              CA   \n",
       "Brewton-Parker College                    Mount Vernon              GA   \n",
       "Marygrove College                              Detroit              MI   \n",
       "Northern Illinois University                    DeKalb              IL   \n",
       "\n",
       "                                     City collegedata_df State collegedata_df  \n",
       "Name                                                                           \n",
       "St. Gregory's University                             NaN                  NaN  \n",
       "Florida Memorial University                   Miami-Dade                   FL  \n",
       "Saint Mary-of-the-Woods College  Saint Mary of the Woods                   IN  \n",
       "University of Richmond            University of Richmond                   VA  \n",
       "Mount Ida College                                    NaN                  NaN  \n",
       "Lake Superior State University        Sault Sainte Marie                   MI  \n",
       "Bard College                         Annandale-on-Hudson                   NY  \n",
       "Grace University                                     NaN                  NaN  \n",
       "Philadelphia University                              NaN                  NaN  \n",
       "St. Mary's College of Maryland           St. Mary's City                   MD  \n",
       "Wheelock College                                     NaN                  NaN  \n",
       "Auburn University                      Auburn University                   AL  \n",
       "College of Mount St. Vincent                   Riverdale                   NY  \n",
       "Nova Southeastern University             Fort Lauderdale                   FL  \n",
       "American Jewish University                       Bel Air                   CA  \n",
       "Brewton-Parker College                        Mt. Vernon                   GA  \n",
       "Marygrove College                                    NaN                  NaN  \n",
       "Northern Illinois University                     De Kalb                   IL  "
      ]
     },
     "execution_count": 10,
     "metadata": {},
     "output_type": "execute_result"
    }
   ],
   "source": [
    "usnews_df = usnews_df.reset_index().set_index('Name')\n",
    "collegedata_df = collegedata_df.reset_index().set_index('Name')\n",
    "\n",
    "mask = usnews_df.index.isin(collegedata_df.index)\n",
    "matched_names = usnews_df[mask].index\n",
    "\n",
    "usnews_df_matches = usnews_df.loc[matched_names, ['City', 'State']]\n",
    "collegedata_df_matches = collegedata_df.loc[matched_names, ['City', 'State']]\n",
    "\n",
    "matches_df = usnews_df_matches.join(collegedata_df_matches,\n",
    "                                    lsuffix = ' usnews_df',\n",
    "                                    rsuffix = ' collegedata_df')\n",
    "\n",
    "matches_df"
   ]
  },
  {
   "cell_type": "markdown",
   "metadata": {},
   "source": [
    "Since many of the city names are only slightly off in their formatting - like 'Sault Ste. Marie' versus 'Sault Sainte Marie' - these rows are indeed referring to the same school in both dataframes. One match with completely different City names is College of Mount St. Vincent - but Riverdale is actually a neighborhood of the Bronx. \n",
    "\n",
    "This leaves a few matches that have City/State values in usnews_df, but are missing (NaN) from collegedata_df's information. I double checked collegedata.com to make sure there was no malfunction with the scraper, and it turns out the website is indeed missing values for these schools. But they are actually referring to the same schools.\n",
    "\n",
    "So, all of these are actual matches. We can overwrite the collegedata_df City and State values with those from usnews_df for these rows and then join and update as we've done previously:"
   ]
  },
  {
   "cell_type": "code",
   "execution_count": 11,
   "metadata": {},
   "outputs": [
    {
     "data": {
      "text/plain": [
       "55"
      ]
     },
     "execution_count": 11,
     "metadata": {},
     "output_type": "execute_result"
    }
   ],
   "source": [
    "collegedata_df.loc[matched_names, ['City', 'State']] = \\\n",
    "    usnews_df.loc[matched_names, ['City', 'State']]\n",
    "\n",
    "collegedata_df = collegedata_df.set_index(['State', 'City'], append = True)\n",
    "usnews_df = usnews_df.set_index(['State', 'City'], append = True)\n",
    "\n",
    "result = collegedata_df.merge(usnews_df, how = 'inner', left_index = True, \n",
    "                              right_index = True, validate = '1:1')\n",
    "\n",
    "joined_df = joined_df.append(result, sort = False)\n",
    "\n",
    "collegedata_df = collegedata_df.drop(result.index)\n",
    "usnews_df = usnews_df.drop(result.index)\n",
    "\n",
    "len(usnews_df)"
   ]
  },
  {
   "cell_type": "markdown",
   "metadata": {},
   "source": [
    "With only 55 out of the 1381 rankings left, and names no more matching or even close matching Names between the dataframes, this could be a good place to stop if we were short on time. \n",
    "\n",
    "---\n",
    "\n",
    "## Manually aligning the remaining entries\n",
    "\n",
    "Since time is not a problem for me at the moment, I can do some searching around online to find out what's going on with these schools.\n",
    "\n",
    "First, it turns out there is a pair of duplicate names causing a problem:"
   ]
  },
  {
   "cell_type": "code",
   "execution_count": 12,
   "metadata": {},
   "outputs": [
    {
     "data": {
      "text/html": [
       "<div>\n",
       "<style scoped>\n",
       "    .dataframe tbody tr th:only-of-type {\n",
       "        vertical-align: middle;\n",
       "    }\n",
       "\n",
       "    .dataframe tbody tr th {\n",
       "        vertical-align: top;\n",
       "    }\n",
       "\n",
       "    .dataframe thead th {\n",
       "        text-align: right;\n",
       "    }\n",
       "</style>\n",
       "<table border=\"1\" class=\"dataframe\">\n",
       "  <thead>\n",
       "    <tr style=\"text-align: right;\">\n",
       "      <th></th>\n",
       "      <th>Name</th>\n",
       "      <th>State</th>\n",
       "      <th>City</th>\n",
       "      <th>Rank</th>\n",
       "      <th>Rank Type</th>\n",
       "    </tr>\n",
       "  </thead>\n",
       "  <tbody>\n",
       "    <tr>\n",
       "      <th>17</th>\n",
       "      <td>Concordia University</td>\n",
       "      <td>NE</td>\n",
       "      <td>Seward</td>\n",
       "      <td>38</td>\n",
       "      <td>Regional Universities Midwest</td>\n",
       "    </tr>\n",
       "    <tr>\n",
       "      <th>18</th>\n",
       "      <td>Concordia University</td>\n",
       "      <td>CA</td>\n",
       "      <td>Irvine</td>\n",
       "      <td>41</td>\n",
       "      <td>Regional Universities West</td>\n",
       "    </tr>\n",
       "  </tbody>\n",
       "</table>\n",
       "</div>"
      ],
      "text/plain": [
       "                    Name State    City  Rank                      Rank Type\n",
       "17  Concordia University    NE  Seward    38  Regional Universities Midwest\n",
       "18  Concordia University    CA  Irvine    41     Regional Universities West"
      ]
     },
     "execution_count": 12,
     "metadata": {},
     "output_type": "execute_result"
    }
   ],
   "source": [
    "usnews_df = usnews_df.reset_index()\n",
    "dups = usnews_df.duplicated('Name', keep = False)\n",
    "usnews_df[dups]"
   ]
  },
  {
   "cell_type": "markdown",
   "metadata": {},
   "source": [
    "These schools are in collegedata_df under slightly different names, which we can quickly rename:"
   ]
  },
  {
   "cell_type": "code",
   "execution_count": 13,
   "metadata": {
    "collapsed": true
   },
   "outputs": [],
   "source": [
    "usnews_df.loc[17, 'Name'] = 'Concordia University Nebraska'\n",
    "usnews_df.loc[18, 'Name'] = 'Concordia University Irvine'\n",
    "\n",
    "usnews_df = usnews_df.set_index(cols)"
   ]
  },
  {
   "cell_type": "markdown",
   "metadata": {},
   "source": [
    "It turns out that many of the remaining schools in usnews_df have changed their names recently, and CollegeData and it's Name column is not as up to date as US News. From my research, I put together a dictionary to rename the usnews_df Name values, joined and appended the results as before, and still had a few entries left:"
   ]
  },
  {
   "cell_type": "code",
   "execution_count": 14,
   "metadata": {},
   "outputs": [
    {
     "data": {
      "text/plain": [
       "22"
      ]
     },
     "execution_count": 14,
     "metadata": {},
     "output_type": "execute_result"
    }
   ],
   "source": [
    "# Rename usnews_df Name and City values from the imported dictionaries.\n",
    "usnews_df = usnews_df.rename(usnews_rename_names, level = 'Name')\n",
    "usnews_df = usnews_df.rename(usnews_rename_cities, level = 'City')\n",
    "\n",
    "result = collegedata_df.merge(usnews_df, how = 'inner', left_index = True, \n",
    "                              right_index = True, validate = '1:1')\n",
    "\n",
    "joined_df = joined_df.append(result, sort = False)\n",
    "\n",
    "collegedata_df = collegedata_df.drop(result.index)\n",
    "usnews_df = usnews_df.drop(result.index)\n",
    "\n",
    "len(usnews_df)"
   ]
  },
  {
   "cell_type": "markdown",
   "metadata": {},
   "source": [
    "CollegeData.com does not have any information for these remaining 24 schools in any way I could find. Since we don't have any data from these schools, this is as far as we can take usnews_df.\n",
    "\n",
    "---\n",
    "## Summary\n",
    "\n",
    "Let's look at our joined_df:"
   ]
  },
  {
   "cell_type": "code",
   "execution_count": 15,
   "metadata": {},
   "outputs": [
    {
     "data": {
      "text/plain": [
       "1359"
      ]
     },
     "execution_count": 15,
     "metadata": {},
     "output_type": "execute_result"
    }
   ],
   "source": [
    "len(joined_df)"
   ]
  },
  {
   "cell_type": "markdown",
   "metadata": {},
   "source": [
    "Out of our 1381 rows in usnews_df, all but 23 ended up in joined_df. Our unranked schools remain in collegedata_df:"
   ]
  },
  {
   "cell_type": "code",
   "execution_count": 16,
   "metadata": {},
   "outputs": [
    {
     "data": {
      "text/plain": [
       "669"
      ]
     },
     "execution_count": 16,
     "metadata": {},
     "output_type": "execute_result"
    }
   ],
   "source": [
    "len(collegedata_df)"
   ]
  },
  {
   "cell_type": "markdown",
   "metadata": {},
   "source": [
    "We can append these remaining schools to joined_df and set their 'Rank Type' to 'Unranked School':"
   ]
  },
  {
   "cell_type": "code",
   "execution_count": 17,
   "metadata": {},
   "outputs": [
    {
     "name": "stdout",
     "output_type": "stream",
     "text": [
      "<class 'pandas.core.frame.DataFrame'>\n",
      "MultiIndex: 2028 entries, (Abilene Christian University, TX, Abilene) to (Fashion Institute of Design and Merchandising: Los Angeles, CA, Los Angeles)\n",
      "Columns: 254 entries, 2016 Graduates Who Took Out Loans to Zip\n",
      "dtypes: float64(158), int64(1), object(95)\n",
      "memory usage: 4.0+ MB\n"
     ]
    }
   ],
   "source": [
    "joined_df = joined_df.append(collegedata_df, sort = True)\n",
    "joined_df['Rank Type'] = joined_df['Rank Type'].fillna('Unranked School')\n",
    "joined_df.info()"
   ]
  },
  {
   "cell_type": "markdown",
   "metadata": {},
   "source": [
    "Our joined_df looks like we predicted it should at the start - it has all 2028 schools scraped from CollegeData and 254 columns, including the Rank and Rank Type joined from US News.\n",
    "\n",
    "To end, we'll export this joined_df to .csv:"
   ]
  },
  {
   "cell_type": "code",
   "execution_count": 18,
   "metadata": {
    "collapsed": true
   },
   "outputs": [],
   "source": [
    "joined_df.to_csv(JOINED_CSV_PATH)"
   ]
  }
 ],
 "metadata": {
  "kernelspec": {
   "display_name": "Python 3",
   "language": "python",
   "name": "python3"
  },
  "language_info": {
   "codemirror_mode": {
    "name": "ipython",
    "version": 3
   },
   "file_extension": ".py",
   "mimetype": "text/x-python",
   "name": "python",
   "nbconvert_exporter": "python",
   "pygments_lexer": "ipython3",
   "version": "3.6.5"
  }
 },
 "nbformat": 4,
 "nbformat_minor": 2
}
