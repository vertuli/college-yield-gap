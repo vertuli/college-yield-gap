{
 "cells": [
  {
   "cell_type": "code",
   "execution_count": null,
   "metadata": {
    "collapsed": true
   },
   "outputs": [],
   "source": [
    "# PREPROCESSING\n",
    "\n",
    "# Load joined data.\n",
    "\n",
    "# Dimensionality reduction (removing columns).\n",
    "    # Missing values ratio.\n",
    "\n",
    "# Manual dimension reduction (dependent columns).\n",
    "    # Reduce three gender columns to (all) and a (pct women).\n",
    "    # Reduce Apps (all) / Offers (all) / Freshmen (all) to Offer Rate (all) and Yield Rate (all).\n",
    "    # Drop redundant columns from dataframe.\n",
    "\n",
    "# Validate data:\n",
    "    # Find columns that should be pct_cols.\n",
    "        # Check if pct_cols > 1 or < 0.\n",
    "        # \"Handle\" this invalid data (clipping? removal?)\n",
    "    # Define range_cols and that should be restricted to a range and ranges:\n",
    "        # Check if range_cols in ranges.\n",
    "        # \"Handle\" invalid data (clipping? removal?)\n",
    "        \n",
    "# Normalize continuous data.\n",
    "    # Box-Cox transform all cols.\n",
    "    # Normalize all columns (range 0 - 1).\n",
    "\n",
    "# One-hot encode categorical data.\n",
    "\n",
    "# Further dimensionality reduction: \n",
    "    # Low-variance filter.\n",
    "    # High-correlation filter.\n",
    "        # msno.heatmap()\n",
    "    \n",
    "# Impute missing values on remaining columns.\n",
    "    # MICE for missing continuous values using linear regression plus errors.\n",
    "    # kNN (?) for missing categorical values."
   ]
  },
  {
   "cell_type": "code",
   "execution_count": 2,
   "metadata": {},
   "outputs": [
    {
     "name": "stdout",
     "output_type": "stream",
     "text": [
      "<class 'pandas.core.frame.DataFrame'>\n",
      "Int64Index: 2028 entries, 659 to 3379\n",
      "Columns: 256 entries, Name to Zip\n",
      "dtypes: float64(158), object(98)\n",
      "memory usage: 4.0+ MB\n"
     ]
    }
   ],
   "source": [
    "import numpy as np\n",
    "import pandas as pd\n",
    "import matplotlib.pyplot as plt\n",
    "from collegedata_names import num_col_ranges\n",
    "from sklearn.preprocessing import PowerTransformer\n",
    "from sklearn.preprocessing import MinMaxScaler\n",
    "from sklearn.preprocessing import OneHotEncoder\n",
    "\n",
    "JOINED_CSV_PATH = 'data/joined.csv'\n",
    "NULL_THRESHOLD = 0.7\n",
    "VARIANCE_THRESHOLD = 0.01\n",
    "CORRELATION_THRESHOLD = 0.9\n",
    "CATEGORY_THRESHOLD = 10\n",
    "\n",
    "df = pd.read_csv(JOINED_CSV_PATH, index_col = 'SchoolId')\n",
    "\n",
    "df.info()"
   ]
  },
  {
   "cell_type": "code",
   "execution_count": 3,
   "metadata": {},
   "outputs": [
    {
     "name": "stdout",
     "output_type": "stream",
     "text": [
      "<class 'pandas.core.frame.DataFrame'>\n",
      "Int64Index: 2028 entries, 659 to 3379\n",
      "Columns: 231 entries, Name to Zip\n",
      "dtypes: float64(133), object(98)\n",
      "memory usage: 3.6+ MB\n"
     ]
    }
   ],
   "source": [
    "num_cols = df.select_dtypes('float').columns\n",
    "null_freqs = df[num_cols].isna().sum() / len(df)\n",
    "null_cols = num_cols.where(null_freqs > NULL_THRESHOLD).dropna()\n",
    "\n",
    "df = df.drop(columns = null_cols)\n",
    "\n",
    "df.info()"
   ]
  },
  {
   "cell_type": "code",
   "execution_count": 4,
   "metadata": {},
   "outputs": [
    {
     "name": "stdout",
     "output_type": "stream",
     "text": [
      "<class 'pandas.core.frame.DataFrame'>\n",
      "Int64Index: 2028 entries, 659 to 3379\n",
      "Columns: 219 entries, Name to Students (full-time pct of all undergrads)\n",
      "dtypes: float64(121), object(98)\n",
      "memory usage: 3.4+ MB\n"
     ]
    }
   ],
   "source": [
    "df['Applications (women pct of all)'] = \\\n",
    "    df['Applications (women)'] / df['Applications (all)']\n",
    "    \n",
    "df['Offers (women pct of all)'] = \\\n",
    "    df['Offers (women)'] / df['Offers (all)']\n",
    "\n",
    "df['Freshmen Enrolled (women pct of all)'] = \\\n",
    "    df['Freshmen Enrolled (women)'] / df['Freshmen Enrolled (all)']\n",
    "    \n",
    "df['Students (all)'] = \\\n",
    "    df['All Undergraduates'] + df['All Graduate Students']\n",
    "\n",
    "df['Students (undergraduate pct of all)'] = \\\n",
    "    df['All Undergraduates'] / df['Students (all)']\n",
    "    \n",
    "df['Students (full-time pct of all undergrads)'] = \\\n",
    "    df['Full-Time Undergraduates'] / df['All Undergraduates']\n",
    "    \n",
    "drop_cols = ['Applications (women)', 'Applications (men)', 'Offers (all)',\n",
    "             'Offers (women)', 'Offers (men)', 'Freshmen Enrolled (all)',\n",
    "             'Freshmen Enrolled (women)', 'Freshmen Enrolled (men)',\n",
    "             'Offer Rate (men)', 'Offer Rate (women)', 'Yield Rate (men)',\n",
    "             'Yield Rate (women)', 'Undergraduates (women)',\n",
    "             'Undergraduates (men)', 'Undergraduates (men pct of all)',\n",
    "             'All Undergraduates', 'All Graduate Students',\n",
    "             'Full-Time Undergraduates']\n",
    "\n",
    "df = df.drop(columns = drop_cols)\n",
    "\n",
    "df.info()"
   ]
  },
  {
   "cell_type": "code",
   "execution_count": 5,
   "metadata": {},
   "outputs": [
    {
     "data": {
      "text/plain": [
       "33"
      ]
     },
     "execution_count": 5,
     "metadata": {},
     "output_type": "execute_result"
    }
   ],
   "source": [
    "num_cols = df.select_dtypes('float').columns\n",
    "pct_cols = num_cols[df[num_cols].mean().between(0, 1)]\n",
    "\n",
    "invalid_vals_df = pd.DataFrame(index = df.index, columns = df.columns)\n",
    "invalid_vals_df[pct_cols] = (df[pct_cols] < 0) | (df[pct_cols] > 1)\n",
    "\n",
    "\n",
    "for col, col_range in num_col_ranges.items():\n",
    "    low, high = col_range\n",
    "    in_range = df[col].between(low, high)\n",
    "    has_vals = df[col].notna()\n",
    "    invalid_vals_df[col] = has_vals & ~in_range\n",
    "    \n",
    "invalid_vals_df = invalid_vals_df.fillna(False)\n",
    "df = df.mask(invalid_vals_df)\n",
    "\n",
    "invalid_vals_df.sum().sum()"
   ]
  },
  {
   "cell_type": "code",
   "execution_count": 6,
   "metadata": {
    "scrolled": false
   },
   "outputs": [],
   "source": [
    "pt = PowerTransformer()\n",
    "scaler = MinMaxScaler()\n",
    "\n",
    "df[num_cols] = pt.fit_transform(df[num_cols])\n",
    "df[num_cols] = scaler.fit_transform(df[num_cols])"
   ]
  },
  {
   "cell_type": "code",
   "execution_count": 7,
   "metadata": {},
   "outputs": [
    {
     "name": "stdout",
     "output_type": "stream",
     "text": [
      "<class 'pandas.core.frame.DataFrame'>\n",
      "Int64Index: 2028 entries, 659 to 3379\n",
      "Columns: 206 entries, Name to Students (full-time pct of all undergrads)\n",
      "dtypes: float64(108), object(98)\n",
      "memory usage: 3.2+ MB\n"
     ]
    }
   ],
   "source": [
    "low_var_cols = num_cols[df[num_cols].var() < VARIANCE_THRESHOLD]\n",
    "df = df.drop(columns = low_var_cols)\n",
    "df.info()"
   ]
  },
  {
   "cell_type": "code",
   "execution_count": 8,
   "metadata": {
    "scrolled": false
   },
   "outputs": [
    {
     "name": "stdout",
     "output_type": "stream",
     "text": [
      "<class 'pandas.core.frame.DataFrame'>\n",
      "Int64Index: 2028 entries, 659 to 3379\n",
      "Columns: 168 entries, Name to Students (full-time pct of all undergrads)\n",
      "dtypes: float64(70), object(98)\n",
      "memory usage: 2.6+ MB\n"
     ]
    }
   ],
   "source": [
    "num_cols = df.select_dtypes('float').columns\n",
    "corr_df = df[num_cols].corr().abs() > CORRELATION_THRESHOLD\n",
    "mask = np.zeros_like(corr_df)\n",
    "mask[np.triu_indices_from(mask)] = True\n",
    "corr_df = corr_df.mask(mask, False)\n",
    "corr_pairs = [(corr_df.columns[x], corr_df.index[y]) \\\n",
    "                                          for x, y in zip(*np.where(corr_df))]\n",
    "\n",
    "to_keep = []\n",
    "to_drop = []\n",
    "for (x, y) in corr_pairs:\n",
    "    if x not in to_keep:\n",
    "        to_keep.append(x)\n",
    "    if y not in to_keep:\n",
    "        to_keep.append(y)\n",
    "\n",
    "for (x, y) in corr_pairs:\n",
    "    if x in to_keep and y in to_keep:\n",
    "        to_keep.remove(y)\n",
    "        to_drop.append(y)\n",
    "        \n",
    "df = df.drop(columns = to_drop)\n",
    "df.info()"
   ]
  },
  {
   "cell_type": "code",
   "execution_count": 9,
   "metadata": {},
   "outputs": [
    {
     "name": "stdout",
     "output_type": "stream",
     "text": [
      "<class 'pandas.core.frame.DataFrame'>\n",
      "Int64Index: 2028 entries, 659 to 3379\n",
      "Columns: 168 entries, Name to Students (full-time pct of all undergrads)\n",
      "dtypes: category(51), float64(70), object(47)\n",
      "memory usage: 1.9+ MB\n"
     ]
    }
   ],
   "source": [
    "# Convert remaining cols with low number of unique vals to categorical cols.\n",
    "for col in df.select_dtypes('object').columns:\n",
    "    if df[col].nunique() < CATEGORY_THRESHOLD:\n",
    "        df[col] = df[col].fillna('None')\n",
    "        df[col] = df[col].astype('category')\n",
    "        \n",
    "cat_cols = df.select_dtypes('category').columns\n",
    "        \n",
    "df.info()"
   ]
  },
  {
   "cell_type": "code",
   "execution_count": 10,
   "metadata": {},
   "outputs": [
    {
     "name": "stdout",
     "output_type": "stream",
     "text": [
      "<class 'pandas.core.frame.DataFrame'>\n",
      "Int64Index: 2028 entries, 659 to 3379\n",
      "Columns: 286 entries, Name to Work-Study Programs_Other work study available\n",
      "dtypes: float64(70), object(47), uint8(169)\n",
      "memory usage: 2.2+ MB\n"
     ]
    }
   ],
   "source": [
    "df = df.join(pd.get_dummies(df[cat_cols]))\n",
    "df = df.drop(columns = cat_cols)\n",
    "df.info()"
   ]
  },
  {
   "cell_type": "code",
   "execution_count": 11,
   "metadata": {},
   "outputs": [
    {
     "name": "stdout",
     "output_type": "stream",
     "text": [
      "<class 'pandas.core.frame.DataFrame'>\n",
      "Int64Index: 2028 entries, 659 to 3379\n",
      "Columns: 239 entries, 2016 Graduates Who Took Out Loans to Work-Study Programs_Other work study available\n",
      "dtypes: float64(70), uint8(169)\n",
      "memory usage: 1.5 MB\n"
     ]
    }
   ],
   "source": [
    "df = df.drop(columns = df.select_dtypes('object'))\n",
    "df.info()"
   ]
  },
  {
   "cell_type": "code",
   "execution_count": 44,
   "metadata": {},
   "outputs": [
    {
     "name": "stdout",
     "output_type": "stream",
     "text": [
      "<class 'pandas.core.frame.DataFrame'>\n",
      "Int64Index: 2028 entries, 659 to 3379\n",
      "Columns: 204 entries, Application Fee to Work-Study Programs_Other work study available\n",
      "dtypes: float64(35), uint8(169)\n",
      "memory usage: 985.1 KB\n"
     ]
    }
   ],
   "source": [
    "from sklearn.feature_selection import RFE\n",
    "from sklearn.svm import SVR\n",
    "from sklearn.impute import SimpleImputer\n",
    "\n",
    "imp_mean = SimpleImputer(missing_values=np.nan, strategy='mean')\n",
    "\n",
    "y = df['Yield Rate (all)']\n",
    "\n",
    "num_cols = df.select_dtypes('float').columns\n",
    "\n",
    "df[num_cols] = imp_mean.fit_transform(df[num_cols])\n",
    "\n",
    "num_cols = num_cols.drop('Yield Rate (all)')\n",
    "\n",
    "regressor = SVR(kernel = 'linear', gamma = 'scale')\n",
    "selector = RFE(regressor)\n",
    "selector = selector.fit(df[num_cols], df['Yield Rate (all)'])\n",
    "\n",
    "keep_cols = num_cols[selector.support_]\n",
    "drop_cols = [col for col in num_cols if col not in keep_cols]\n",
    "df = df.drop(columns = drop_cols)\n",
    "df.info()"
   ]
  },
  {
   "cell_type": "code",
   "execution_count": null,
   "metadata": {
    "collapsed": true
   },
   "outputs": [],
   "source": []
  }
 ],
 "metadata": {
  "kernelspec": {
   "display_name": "Python 3",
   "language": "python",
   "name": "python3"
  }
 },
 "nbformat": 4,
 "nbformat_minor": 2
}
