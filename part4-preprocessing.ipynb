{
 "cells": [
  {
   "cell_type": "code",
   "execution_count": 1,
   "metadata": {
    "collapsed": true
   },
   "outputs": [],
   "source": [
    "# PREPROCESSING\n",
    "\n",
    "# Load joined data.\n",
    "\n",
    "# Dimensionality reduction (removing columns).\n",
    "    # Missing values ratio.\n",
    "\n",
    "# Manual dimension reduction (dependent columns).\n",
    "    # Reduce three gender columns to (all) and a (pct women).\n",
    "    # Reduce Apps (all) / Offers (all) / Freshmen (all) to Offer Rate (all) and Yield Rate (all).\n",
    "    # Drop redundant columns from dataframe.\n",
    "\n",
    "# Validate data:\n",
    "    # Find columns that should be pct_cols.\n",
    "        # Check if pct_cols > 1 or < 0.\n",
    "        # \"Handle\" this invalid data (clipping? removal?)\n",
    "    # Define range_cols and that should be restricted to a range and ranges:\n",
    "        # Check if range_cols in ranges.\n",
    "        # \"Handle\" invalid data (clipping? removal?)\n",
    "        \n",
    "# Normalize continuous data.\n",
    "    # Box-Cox transform all cols.\n",
    "    # Normalize all columns (range 0 - 1).\n",
    "\n",
    "# One-hot encode categorical data.\n",
    "\n",
    "# Further dimensionality reduction: \n",
    "    # Low-variance filter.\n",
    "    # High-correlation filter.\n",
    "        # msno.heatmap()\n",
    "    \n",
    "# Impute missing values on remaining columns.\n",
    "    # MICE for missing continuous values using linear regression plus errors.\n",
    "    # kNN (?) for missing categorical values."
   ]
  },
  {
   "cell_type": "code",
   "execution_count": 1,
   "metadata": {},
   "outputs": [
    {
     "name": "stdout",
     "output_type": "stream",
     "text": [
      "<class 'pandas.core.frame.DataFrame'>\n",
      "Int64Index: 2028 entries, 659 to 3379\n",
      "Columns: 256 entries, Name to Zip\n",
      "dtypes: float64(158), object(98)\n",
      "memory usage: 4.0+ MB\n"
     ]
    }
   ],
   "source": [
    "import numpy as np\n",
    "import pandas as pd\n",
    "import matplotlib.pyplot as plt\n",
    "from collegedata_names import num_col_ranges\n",
    "from sklearn.preprocessing import PowerTransformer\n",
    "from sklearn.preprocessing import MinMaxScaler\n",
    "\n",
    "JOINED_CSV_PATH = 'data/joined.csv'\n",
    "NULL_THRESHOLD = 0.7\n",
    "\n",
    "df = pd.read_csv(JOINED_CSV_PATH, index_col = 'SchoolId')\n",
    "\n",
    "df.info()"
   ]
  },
  {
   "cell_type": "code",
   "execution_count": 2,
   "metadata": {},
   "outputs": [
    {
     "name": "stdout",
     "output_type": "stream",
     "text": [
      "<class 'pandas.core.frame.DataFrame'>\n",
      "Int64Index: 2028 entries, 659 to 3379\n",
      "Columns: 231 entries, Name to Zip\n",
      "dtypes: float64(133), object(98)\n",
      "memory usage: 3.6+ MB\n"
     ]
    }
   ],
   "source": [
    "num_cols = df.select_dtypes('float').columns\n",
    "null_freqs = df[num_cols].isna().sum() / len(df)\n",
    "null_cols = num_cols.where(null_freqs > NULL_THRESHOLD).dropna()\n",
    "\n",
    "df = df.drop(columns = null_cols)\n",
    "\n",
    "df.info()"
   ]
  },
  {
   "cell_type": "code",
   "execution_count": 3,
   "metadata": {},
   "outputs": [
    {
     "name": "stdout",
     "output_type": "stream",
     "text": [
      "<class 'pandas.core.frame.DataFrame'>\n",
      "Int64Index: 2028 entries, 659 to 3379\n",
      "Columns: 219 entries, Name to Students (full-time pct of all undergrads)\n",
      "dtypes: float64(121), object(98)\n",
      "memory usage: 3.4+ MB\n"
     ]
    }
   ],
   "source": [
    "df['Applications (women pct of all)'] = \\\n",
    "    df['Applications (women)'] / df['Applications (all)']\n",
    "    \n",
    "df['Offers (women pct of all)'] = \\\n",
    "    df['Offers (women)'] / df['Offers (all)']\n",
    "\n",
    "df['Freshmen Enrolled (women pct of all)'] = \\\n",
    "    df['Freshmen Enrolled (women)'] / df['Freshmen Enrolled (all)']\n",
    "    \n",
    "df['Students (all)'] = \\\n",
    "    df['All Undergraduates'] + df['All Graduate Students']\n",
    "\n",
    "df['Students (undergraduate pct of all)'] = \\\n",
    "    df['All Undergraduates'] / df['Students (all)']\n",
    "    \n",
    "df['Students (full-time pct of all undergrads)'] = \\\n",
    "    df['Full-Time Undergraduates'] / df['All Undergraduates']\n",
    "    \n",
    "drop_cols = ['Applications (women)', 'Applications (men)', 'Offers (all)',\n",
    "             'Offers (women)', 'Offers (men)', 'Freshmen Enrolled (all)',\n",
    "             'Freshmen Enrolled (women)', 'Freshmen Enrolled (men)',\n",
    "             'Offer Rate (men)', 'Offer Rate (women)', 'Yield Rate (men)',\n",
    "             'Yield Rate (women)', 'Undergraduates (women)',\n",
    "             'Undergraduates (men)', 'Undergraduates (men pct of all)',\n",
    "             'All Undergraduates', 'All Graduate Students',\n",
    "             'Full-Time Undergraduates']\n",
    "\n",
    "df = df.drop(columns = drop_cols)\n",
    "\n",
    "df.info()"
   ]
  },
  {
   "cell_type": "code",
   "execution_count": 4,
   "metadata": {},
   "outputs": [
    {
     "data": {
      "text/plain": [
       "33"
      ]
     },
     "execution_count": 4,
     "metadata": {},
     "output_type": "execute_result"
    }
   ],
   "source": [
    "num_cols = df.select_dtypes('float').columns\n",
    "pct_cols = num_cols[df[num_cols].mean().between(0, 1)]\n",
    "\n",
    "invalid_vals_df = pd.DataFrame(index = df.index, columns = df.columns)\n",
    "invalid_vals_df[pct_cols] = (df[pct_cols] < 0) | (df[pct_cols] > 1)\n",
    "\n",
    "\n",
    "for col, col_range in num_col_ranges.items():\n",
    "    low, high = col_range\n",
    "    in_range = df[col].between(low, high)\n",
    "    has_vals = df[col].notna()\n",
    "    invalid_vals_df[col] = has_vals & ~in_range\n",
    "    \n",
    "invalid_vals_df = invalid_vals_df.fillna(False)\n",
    "df = df.mask(invalid_vals_df)\n",
    "\n",
    "invalid_vals_df.sum().sum()"
   ]
  },
  {
   "cell_type": "code",
   "execution_count": 5,
   "metadata": {
    "scrolled": false
   },
   "outputs": [],
   "source": [
    "pt = PowerTransformer()\n",
    "scaler = MinMaxScaler()\n",
    "\n",
    "df[num_cols] = pt.fit_transform(df[num_cols])\n",
    "df[num_cols] = scaler.fit_transform(df[num_cols])"
   ]
  },
  {
   "cell_type": "code",
   "execution_count": 6,
   "metadata": {},
   "outputs": [
    {
     "name": "stdout",
     "output_type": "stream",
     "text": [
      "<class 'pandas.core.frame.DataFrame'>\n",
      "Int64Index: 2028 entries, 659 to 3379\n",
      "Columns: 219 entries, Name to Students (full-time pct of all undergrads)\n",
      "dtypes: category(66), float64(121), object(32)\n",
      "memory usage: 2.5+ MB\n"
     ]
    }
   ],
   "source": [
    "# Convert remaining cols with low number of unique vals to categorical cols.\n",
    "for col in df.select_dtypes('object').columns:\n",
    "    if df[col].nunique() < 60:\n",
    "        df[col] = df[col].astype('category')\n",
    "        \n",
    "df.info()"
   ]
  },
  {
   "cell_type": "code",
   "execution_count": 23,
   "metadata": {},
   "outputs": [
    {
     "name": "stdout",
     "output_type": "stream",
     "text": [
      "<class 'pandas.core.frame.DataFrame'>\n",
      "Int64Index: 2028 entries, 659 to 3379\n",
      "Columns: 206 entries, Name to Students (full-time pct of all undergrads)\n",
      "dtypes: category(66), float64(108), object(32)\n",
      "memory usage: 2.3+ MB\n"
     ]
    }
   ],
   "source": [
    "low_var_cols = num_cols[df[num_cols].var() < 0.01]\n",
    "df = df.drop(columns = low_var_cols)\n",
    "df.info()"
   ]
  },
  {
   "cell_type": "code",
   "execution_count": null,
   "metadata": {
    "collapsed": true
   },
   "outputs": [],
   "source": []
  }
 ],
 "metadata": {
  "kernelspec": {
   "display_name": "Python 3",
   "language": "python",
   "name": "python3"
  },
  "language_info": {
   "codemirror_mode": {
    "name": "ipython",
    "version": 3
   },
   "file_extension": ".py",
   "mimetype": "text/x-python",
   "name": "python",
   "nbconvert_exporter": "python",
   "pygments_lexer": "ipython3",
   "version": "3.6.5"
  }
 },
 "nbformat": 4,
 "nbformat_minor": 2
}
