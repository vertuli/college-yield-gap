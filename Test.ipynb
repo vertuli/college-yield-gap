{
 "cells": [
  {
   "cell_type": "code",
   "execution_count": 1,
   "metadata": {},
   "outputs": [
    {
     "name": "stdout",
     "output_type": "stream",
     "text": [
      "<class 'pandas.core.frame.DataFrame'>\n",
      "Int64Index: 1660 entries, 659 to 3378\n",
      "Columns: 137 entries, 2016 Graduates Who Took Out Loans to Yield Rate (women)\n",
      "dtypes: float64(137)\n",
      "memory usage: 1.7 MB\n"
     ]
    }
   ],
   "source": [
    "import numpy as np\n",
    "import pandas as pd\n",
    "import matplotlib.pyplot as plt\n",
    "from sklearn.linear_model import Ridge\n",
    "from sklearn.model_selection import cross_val_score\n",
    "from sklearn.model_selection import train_test_split\n",
    "from sklearn.neighbors import KNeighborsClassifier\n",
    "from sklearn.metrics import confusion_matrix\n",
    "from sklearn.metrics import classification_report\n",
    "\n",
    "\n",
    "df = pd.read_csv('data/joined.csv', index_col = 'SchoolId')\n",
    "df = df.drop(df[df['Coeducational'] != 'Yes'].index)\n",
    "df = df.drop(df[df['Institution Type'] == 'Private for-profit'].index)\n",
    "df = df.select_dtypes('float')\n",
    "mask = df.isna().sum() / len(df) > 0.7\n",
    "df = df.drop(columns = df.columns[mask])\n",
    "df = df.fillna(df.mean())\n",
    "df.info()"
   ]
  },
  {
   "cell_type": "code",
   "execution_count": 2,
   "metadata": {},
   "outputs": [],
   "source": [
    "y = (df['Yield Rate (women)'] - df['Yield Rate (men)']) / df['Yield Rate (men)']\n",
    "\n",
    "drop_cols = ['Yield Rate (all)', 'Yield Rate (men)', 'Yield Rate (women)',\n",
    "             'Freshmen Enrolled (all)', 'Freshmen Enrolled (men)', 'Freshmen Enrolled (women)']\n",
    "\n",
    "X = df.drop(columns = drop_cols)"
   ]
  },
  {
   "cell_type": "code",
   "execution_count": 3,
   "metadata": {},
   "outputs": [],
   "source": [
    "reg = Ridge(normalize = True)\n",
    "\n",
    "# Setup the array of alphas and lists to store scores\n",
    "alpha_space = np.logspace(-4, 0, 50)\n",
    "reg_scores = []\n",
    "reg_scores_std = []\n",
    "\n",
    "for alpha in alpha_space:\n",
    "    reg.alpha = alpha\n",
    "    cv_scores = cross_val_score(reg, X, y, cv = 10)\n",
    "    reg_scores.append(np.mean(cv_scores))\n",
    "    reg_scores_std.append(np.std(cv_scores))"
   ]
  },
  {
   "cell_type": "code",
   "execution_count": 4,
   "metadata": {},
   "outputs": [
    {
     "data": {
      "image/png": "[encoded data removed]",
      "text/plain": [
       "<Figure size 432x288 with 1 Axes>"
      ]
     },
     "metadata": {
      "needs_background": "light"
     },
     "output_type": "display_data"
    }
   ],
   "source": [
    "fig = plt.figure()\n",
    "ax = fig.add_subplot(1,1,1)\n",
    "ax.plot(alpha_space, reg_scores)\n",
    "\n",
    "std_error = reg_scores_std / np.sqrt(10)\n",
    "\n",
    "ax.fill_between(alpha_space, reg_scores + std_error, reg_scores - std_error, alpha=0.2)\n",
    "ax.set_ylabel('CV Score +/- Std Error')\n",
    "ax.set_xlabel('Alpha')\n",
    "ax.axhline(np.max(reg_scores), linestyle='--', color='.5')\n",
    "ax.set_xlim([alpha_space[0], alpha_space[-1]])\n",
    "ax.set_xscale('log')\n",
    "plt.show()"
   ]
  },
  {
   "cell_type": "code",
   "execution_count": 5,
   "metadata": {},
   "outputs": [],
   "source": [
    "ranks = pd.read_csv('data/joined.csv', index_col = 'SchoolId', usecols = ['SchoolId','Rank Type'])\n",
    "df = df.join(ranks)"
   ]
  },
  {
   "cell_type": "code",
   "execution_count": 6,
   "metadata": {},
   "outputs": [
    {
     "name": "stdout",
     "output_type": "stream",
     "text": [
      "                                precision    recall  f1-score   support\n",
      "\n",
      "National Liberal Arts Colleges       0.38      0.53      0.44        59\n",
      "         National Universities       0.51      0.64      0.57        67\n",
      "     Regional Colleges Midwest       0.08      0.11      0.09        18\n",
      "       Regional Colleges North       0.00      0.00      0.00         8\n",
      "       Regional Colleges South       0.00      0.00      0.00        20\n",
      "        Regional Colleges West       0.00      0.00      0.00         9\n",
      " Regional Universities Midwest       0.19      0.17      0.18        36\n",
      "   Regional Universities North       0.11      0.07      0.08        46\n",
      "   Regional Universities South       0.25      0.14      0.18        35\n",
      "    Regional Universities West       0.11      0.04      0.06        27\n",
      "               Unranked School       0.46      0.59      0.52        90\n",
      "\n",
      "                   avg / total       0.30      0.35      0.31       415\n",
      "\n"
     ]
    }
   ],
   "source": [
    "y = df['Rank Type']\n",
    "X = df.drop(columns='Rank Type')\n",
    "\n",
    "def run_classifier(X, y):\n",
    "    X_train, X_test, y_train, y_test = train_test_split(X, y)\n",
    "    knn = KNeighborsClassifier(n_neighbors = 5)\n",
    "\n",
    "    knn.fit(X_train, y_train)\n",
    "    y_pred = knn.predict(X_test)\n",
    "    print(classification_report(y_test, y_pred))\n",
    "    \n",
    "run_classifier(X, y)"
   ]
  },
  {
   "cell_type": "code",
   "execution_count": 7,
   "metadata": {},
   "outputs": [
    {
     "name": "stdout",
     "output_type": "stream",
     "text": [
      "                 precision    recall  f1-score   support\n",
      "\n",
      "       National       0.63      0.59      0.61       122\n",
      "       Regional       0.61      0.74      0.67       192\n",
      "Unranked School       0.60      0.42      0.49       101\n",
      "\n",
      "    avg / total       0.62      0.62      0.61       415\n",
      "\n"
     ]
    }
   ],
   "source": [
    "y = y.replace(r'Regional.*', 'Regional', regex=True)\n",
    "y = y.replace(r'National.*', 'National', regex=True)\n",
    "\n",
    "run_classifier(X, y)"
   ]
  },
  {
   "cell_type": "code",
   "execution_count": null,
   "metadata": {},
   "outputs": [],
   "source": []
  }
 ],
 "metadata": {
  "kernelspec": {
   "display_name": "Python 3",
   "language": "python",
   "name": "python3"
  },
  "language_info": {
   "codemirror_mode": {
    "name": "ipython",
    "version": 3
   },
   "file_extension": ".py",
   "mimetype": "text/x-python",
   "name": "python",
   "nbconvert_exporter": "python",
   "pygments_lexer": "ipython3",
   "version": "3.7.0"
  }
 },
 "nbformat": 4,
 "nbformat_minor": 2
}
