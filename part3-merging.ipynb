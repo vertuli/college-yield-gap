{
 "cells": [
  {
   "cell_type": "markdown",
   "metadata": {},
   "source": [
    "## Part 3 - Merging\n",
    "\n",
    "Let's import the cleaned CollegeData and cleaned USNews rankings dataframes:"
   ]
  },
  {
   "cell_type": "code",
   "execution_count": 1,
   "metadata": {},
   "outputs": [
    {
     "data": {
      "text/plain": [
       "1381"
      ]
     },
     "execution_count": 1,
     "metadata": {},
     "output_type": "execute_result"
    }
   ],
   "source": [
    "import numpy as np\n",
    "import pandas as pd\n",
    "from fuzzywuzzy import process\n",
    "from collegedata_names import school_rename_dict\n",
    "\n",
    "COLLEGEDATA_CLEAN_CSV_PATH = 'data/collegedata_clean.csv'\n",
    "USNEWS_CLEAN_CSV_PATH = 'data/usnews_clean.csv'\n",
    "\n",
    "cols = ['Name', 'State', 'City']\n",
    "\n",
    "collegedata_df = pd.read_csv(COLLEGEDATA_CLEAN_CSV_PATH, index_col = cols)\n",
    "usnews_df = pd.read_csv(USNEWS_CLEAN_CSV_PATH, index_col = cols)\n",
    "\n",
    "len(usnews_df)"
   ]
  },
  {
   "cell_type": "markdown",
   "metadata": {},
   "source": [
    "Since we have less ranks than we have schools, let's try simply inner joining the usnews_df to collegedata_df on the common Name, State, and City columns to create a new dataframe joined_df:"
   ]
  },
  {
   "cell_type": "code",
   "execution_count": 2,
   "metadata": {
    "scrolled": true
   },
   "outputs": [
    {
     "data": {
      "text/plain": [
       "299"
      ]
     },
     "execution_count": 2,
     "metadata": {},
     "output_type": "execute_result"
    }
   ],
   "source": [
    "joined_df = collegedata_df.merge(usnews_df, how = 'inner', left_index = True, \n",
    "                                 right_index = True, validate = '1:1')\n",
    "\n",
    "collegedata_df = collegedata_df.drop(joined_df.index)\n",
    "usnews_df = usnews_df.drop(joined_df.index)\n",
    "\n",
    "len(usnews_df)"
   ]
  },
  {
   "cell_type": "markdown",
   "metadata": {},
   "source": [
    "Now we need to find a way to match these orphaned 299 US News ranks to the remaining CollegeData schools.\n",
    "\n",
    "We can look to see if maybe the Name and State match but for some reason the City is off:"
   ]
  },
  {
   "cell_type": "code",
   "execution_count": 3,
   "metadata": {},
   "outputs": [
    {
     "data": {
      "text/html": [
       "<div>\n",
       "<style scoped>\n",
       "    .dataframe tbody tr th:only-of-type {\n",
       "        vertical-align: middle;\n",
       "    }\n",
       "\n",
       "    .dataframe tbody tr th {\n",
       "        vertical-align: top;\n",
       "    }\n",
       "\n",
       "    .dataframe thead th {\n",
       "        text-align: right;\n",
       "    }\n",
       "</style>\n",
       "<table border=\"1\" class=\"dataframe\">\n",
       "  <thead>\n",
       "    <tr style=\"text-align: right;\">\n",
       "      <th></th>\n",
       "      <th></th>\n",
       "      <th></th>\n",
       "      <th>Stripped Name</th>\n",
       "    </tr>\n",
       "    <tr>\n",
       "      <th>Name</th>\n",
       "      <th>State</th>\n",
       "      <th>City</th>\n",
       "      <th></th>\n",
       "    </tr>\n",
       "  </thead>\n",
       "  <tbody>\n",
       "    <tr>\n",
       "      <th>Bryn Athyn College</th>\n",
       "      <th>PA</th>\n",
       "      <th>Bryn Athyn</th>\n",
       "      <td>Bryn Athyn</td>\n",
       "    </tr>\n",
       "    <tr>\n",
       "      <th>Albany College of Pharmacy and Health Sciences</th>\n",
       "      <th>NY</th>\n",
       "      <th>Albany</th>\n",
       "      <td>Albany Pharmacy and Health Sciences</td>\n",
       "    </tr>\n",
       "    <tr>\n",
       "      <th>St. Joseph's College - Long Island Campus</th>\n",
       "      <th>NY</th>\n",
       "      <th>Patchogue</th>\n",
       "      <td>Saint Josephs Long Island Campus</td>\n",
       "    </tr>\n",
       "    <tr>\n",
       "      <th>Saint Anselm College</th>\n",
       "      <th>NH</th>\n",
       "      <th>Manchester</th>\n",
       "      <td>Saint Anselm</td>\n",
       "    </tr>\n",
       "    <tr>\n",
       "      <th>Saint Francis University</th>\n",
       "      <th>PA</th>\n",
       "      <th>Loretto</th>\n",
       "      <td>Saint Francis</td>\n",
       "    </tr>\n",
       "  </tbody>\n",
       "</table>\n",
       "</div>"
      ],
      "text/plain": [
       "                                                                                       Stripped Name\n",
       "Name                                           State City                                           \n",
       "Bryn Athyn College                             PA    Bryn Athyn                           Bryn Athyn\n",
       "Albany College of Pharmacy and Health Sciences NY    Albany      Albany Pharmacy and Health Sciences\n",
       "St. Joseph's College - Long Island Campus      NY    Patchogue      Saint Josephs Long Island Campus\n",
       "Saint Anselm College                           NH    Manchester                         Saint Anselm\n",
       "Saint Francis University                       PA    Loretto                           Saint Francis"
      ]
     },
     "execution_count": 3,
     "metadata": {},
     "output_type": "execute_result"
    }
   ],
   "source": [
    "def strip(s):\n",
    "    s = s.str.replace('SUNY','State University of New York')\n",
    "    s = s.str.replace('CUNY','City University of New York')\n",
    "    s = s.str.replace('\\'s','s')\n",
    "    s = s.str.replace('College|University|of|\\'','')\n",
    "    s = s.str.replace('St\\.','Saint')\n",
    "    s = s.str.replace('-|\\.',' ')\n",
    "    s = s.str.replace('\\s+',' ')\n",
    "    s = s.str.strip()\n",
    "    return s\n",
    "\n",
    "collegedata_names = collegedata_df.index.get_level_values('Name')\n",
    "collegedata_df['Stripped Name'] = strip(collegedata_names)\n",
    "\n",
    "collegedata_df[['Stripped Name']].head()"
   ]
  },
  {
   "cell_type": "markdown",
   "metadata": {},
   "source": [
    "We can use `strip()` on the Name index of rank_df:"
   ]
  },
  {
   "cell_type": "code",
   "execution_count": 4,
   "metadata": {
    "collapsed": true
   },
   "outputs": [],
   "source": [
    "usnews_names = usnews_df.index.get_level_values('Name')\n",
    "usnews_df['Stripped Name'] = strip(usnews_names)"
   ]
  },
  {
   "cell_type": "markdown",
   "metadata": {},
   "source": [
    "And now we can apply process.extract() from the fuzzywuzzy module to each element of usnews_df's Stripped Name column. We will pass collegedata_df's Stripped Name column as the argument to process.extract(), which will search through those Stripped Name values and return a tuple with the one that closest matches the usnews_df Stripped Name:"
   ]
  },
  {
   "cell_type": "code",
   "execution_count": 5,
   "metadata": {},
   "outputs": [
    {
     "data": {
      "text/html": [
       "<div>\n",
       "<style scoped>\n",
       "    .dataframe tbody tr th:only-of-type {\n",
       "        vertical-align: middle;\n",
       "    }\n",
       "\n",
       "    .dataframe tbody tr th {\n",
       "        vertical-align: top;\n",
       "    }\n",
       "\n",
       "    .dataframe thead th {\n",
       "        text-align: right;\n",
       "    }\n",
       "</style>\n",
       "<table border=\"1\" class=\"dataframe\">\n",
       "  <thead>\n",
       "    <tr style=\"text-align: right;\">\n",
       "      <th></th>\n",
       "      <th></th>\n",
       "      <th></th>\n",
       "      <th>Closest Match</th>\n",
       "    </tr>\n",
       "    <tr>\n",
       "      <th>Name</th>\n",
       "      <th>State</th>\n",
       "      <th>City</th>\n",
       "      <th></th>\n",
       "    </tr>\n",
       "  </thead>\n",
       "  <tbody>\n",
       "    <tr>\n",
       "      <th>Cooper Union</th>\n",
       "      <th>NY</th>\n",
       "      <th>New York</th>\n",
       "      <td>[(Cooper Union for the Advancement Science and...</td>\n",
       "    </tr>\n",
       "    <tr>\n",
       "      <th>Harvard University</th>\n",
       "      <th>MA</th>\n",
       "      <th>Cambridge</th>\n",
       "      <td>[(Harvard, 100, (Harvard College, MA, Cambridg...</td>\n",
       "    </tr>\n",
       "    <tr>\n",
       "      <th>California State University--Maritime Academy</th>\n",
       "      <th>CA</th>\n",
       "      <th>Vallejo</th>\n",
       "      <td>[(California Maritime Academy, 95, (California...</td>\n",
       "    </tr>\n",
       "    <tr>\n",
       "      <th>College of New Jersey</th>\n",
       "      <th>NJ</th>\n",
       "      <th>Ewing</th>\n",
       "      <td>[(The New Jersey, 95, (The College of New Jers...</td>\n",
       "    </tr>\n",
       "    <tr>\n",
       "      <th>University of South Carolina--Aiken</th>\n",
       "      <th>SC</th>\n",
       "      <th>Aiken</th>\n",
       "      <td>[(South Carolina Aiken, 100, (University of So...</td>\n",
       "    </tr>\n",
       "  </tbody>\n",
       "</table>\n",
       "</div>"
      ],
      "text/plain": [
       "                                                                                                   Closest Match\n",
       "Name                                          State City                                                        \n",
       "Cooper Union                                  NY    New York   [(Cooper Union for the Advancement Science and...\n",
       "Harvard University                            MA    Cambridge  [(Harvard, 100, (Harvard College, MA, Cambridg...\n",
       "California State University--Maritime Academy CA    Vallejo    [(California Maritime Academy, 95, (California...\n",
       "College of New Jersey                         NJ    Ewing      [(The New Jersey, 95, (The College of New Jers...\n",
       "University of South Carolina--Aiken           SC    Aiken      [(South Carolina Aiken, 100, (University of So..."
      ]
     },
     "execution_count": 5,
     "metadata": {},
     "output_type": "execute_result"
    }
   ],
   "source": [
    "match = lambda x: process.extract(x, collegedata_df['Stripped Name'], \n",
    "                                  limit = 1)\n",
    "\n",
    "usnews_df['Closest Match'] = usnews_df['Stripped Name'].apply(match)\n",
    "\n",
    "usnews_df = usnews_df.drop(columns = 'Stripped Name')\n",
    "collegdata_df = collegedata_df.drop(columns = 'Stripped Name')\n",
    "\n",
    "usnews_df[['Closest Match']].head()"
   ]
  },
  {
   "cell_type": "markdown",
   "metadata": {},
   "source": [
    "For each Stripped Name in usnews_df, process.extract() returned a list of tuples (which we limited here to just one). The tuple's first element contains the closest 'Stripped Name' value in collegedata_df. The tuple's next element is an integer match score. The tuples final element is another tuple representing the index in collegedata_df corresponding to the matched Stipped Name there, which is itself a three level multiindex. The first element of that index tuple is the true Name of the match as recorded in collegedata_df, which is what we want to extract:"
   ]
  },
  {
   "cell_type": "code",
   "execution_count": 6,
   "metadata": {},
   "outputs": [
    {
     "data": {
      "text/html": [
       "<div>\n",
       "<style scoped>\n",
       "    .dataframe tbody tr th:only-of-type {\n",
       "        vertical-align: middle;\n",
       "    }\n",
       "\n",
       "    .dataframe tbody tr th {\n",
       "        vertical-align: top;\n",
       "    }\n",
       "\n",
       "    .dataframe thead th {\n",
       "        text-align: right;\n",
       "    }\n",
       "</style>\n",
       "<table border=\"1\" class=\"dataframe\">\n",
       "  <thead>\n",
       "    <tr style=\"text-align: right;\">\n",
       "      <th></th>\n",
       "      <th></th>\n",
       "      <th></th>\n",
       "      <th>collegedata_df Name</th>\n",
       "    </tr>\n",
       "    <tr>\n",
       "      <th>Name</th>\n",
       "      <th>State</th>\n",
       "      <th>City</th>\n",
       "      <th></th>\n",
       "    </tr>\n",
       "  </thead>\n",
       "  <tbody>\n",
       "    <tr>\n",
       "      <th>Cooper Union</th>\n",
       "      <th>NY</th>\n",
       "      <th>New York</th>\n",
       "      <td>Cooper Union for the Advancement of Science an...</td>\n",
       "    </tr>\n",
       "    <tr>\n",
       "      <th>Harvard University</th>\n",
       "      <th>MA</th>\n",
       "      <th>Cambridge</th>\n",
       "      <td>Harvard College</td>\n",
       "    </tr>\n",
       "    <tr>\n",
       "      <th>California State University--Maritime Academy</th>\n",
       "      <th>CA</th>\n",
       "      <th>Vallejo</th>\n",
       "      <td>California Maritime Academy</td>\n",
       "    </tr>\n",
       "    <tr>\n",
       "      <th>College of New Jersey</th>\n",
       "      <th>NJ</th>\n",
       "      <th>Ewing</th>\n",
       "      <td>The College of New Jersey</td>\n",
       "    </tr>\n",
       "    <tr>\n",
       "      <th>University of South Carolina--Aiken</th>\n",
       "      <th>SC</th>\n",
       "      <th>Aiken</th>\n",
       "      <td>University of South Carolina Aiken</td>\n",
       "    </tr>\n",
       "  </tbody>\n",
       "</table>\n",
       "</div>"
      ],
      "text/plain": [
       "                                                                                             collegedata_df Name\n",
       "Name                                          State City                                                        \n",
       "Cooper Union                                  NY    New York   Cooper Union for the Advancement of Science an...\n",
       "Harvard University                            MA    Cambridge                                    Harvard College\n",
       "California State University--Maritime Academy CA    Vallejo                          California Maritime Academy\n",
       "College of New Jersey                         NJ    Ewing                              The College of New Jersey\n",
       "University of South Carolina--Aiken           SC    Aiken                     University of South Carolina Aiken"
      ]
     },
     "execution_count": 6,
     "metadata": {},
     "output_type": "execute_result"
    }
   ],
   "source": [
    "usnews_df['collegedata_df Name'] = \\\n",
    "    usnews_df['Closest Match'].str[0].str[2].str[0]\n",
    "\n",
    "usnews_df = usnews_df.drop(columns = 'Closest Match')\n",
    "\n",
    "usnews_df[['collegedata_df Name']].head()"
   ]
  },
  {
   "cell_type": "markdown",
   "metadata": {},
   "source": [
    "It is definitely possible that multiple rank_df Name values have mapped to identical collegedata_df Name values. This shouldn't be a problem though since when we soon again do an inner merge usnews_df 1-to-1 to collegedata_df, we will do so not just on the collegedata_df Name, but also on the State and City columns.\n",
    "\n",
    "This will fail, however, if there were schools in usnews_df that are located in the same City and State that have happened to match to the same Name in collegedata_df:"
   ]
  },
  {
   "cell_type": "code",
   "execution_count": 7,
   "metadata": {},
   "outputs": [
    {
     "data": {
      "text/html": [
       "<div>\n",
       "<style scoped>\n",
       "    .dataframe tbody tr th:only-of-type {\n",
       "        vertical-align: middle;\n",
       "    }\n",
       "\n",
       "    .dataframe tbody tr th {\n",
       "        vertical-align: top;\n",
       "    }\n",
       "\n",
       "    .dataframe thead th {\n",
       "        text-align: right;\n",
       "    }\n",
       "</style>\n",
       "<table border=\"1\" class=\"dataframe\">\n",
       "  <thead>\n",
       "    <tr style=\"text-align: right;\">\n",
       "      <th></th>\n",
       "      <th>usnews_df Name</th>\n",
       "      <th>State</th>\n",
       "      <th>City</th>\n",
       "      <th>Rank</th>\n",
       "      <th>Rank Type</th>\n",
       "      <th>collegedata_df Name</th>\n",
       "    </tr>\n",
       "  </thead>\n",
       "  <tbody>\n",
       "    <tr>\n",
       "      <th>43</th>\n",
       "      <td>CUNY--Hunter College</td>\n",
       "      <td>NY</td>\n",
       "      <td>New York</td>\n",
       "      <td>28</td>\n",
       "      <td>Regional Universities North</td>\n",
       "      <td>City College of New York</td>\n",
       "    </tr>\n",
       "    <tr>\n",
       "      <th>101</th>\n",
       "      <td>CUNY--City College</td>\n",
       "      <td>NY</td>\n",
       "      <td>New York</td>\n",
       "      <td>56</td>\n",
       "      <td>Regional Universities North</td>\n",
       "      <td>City College of New York</td>\n",
       "    </tr>\n",
       "    <tr>\n",
       "      <th>248</th>\n",
       "      <td>Georgia Southern University--Armstrong</td>\n",
       "      <td>GA</td>\n",
       "      <td>Savannah</td>\n",
       "      <td>114</td>\n",
       "      <td>Regional Universities South</td>\n",
       "      <td>South College</td>\n",
       "    </tr>\n",
       "    <tr>\n",
       "      <th>270</th>\n",
       "      <td>South University</td>\n",
       "      <td>GA</td>\n",
       "      <td>Savannah</td>\n",
       "      <td>114</td>\n",
       "      <td>Regional Universities South</td>\n",
       "      <td>South College</td>\n",
       "    </tr>\n",
       "  </tbody>\n",
       "</table>\n",
       "</div>"
      ],
      "text/plain": [
       "                             usnews_df Name State      City  Rank  \\\n",
       "43                     CUNY--Hunter College    NY  New York    28   \n",
       "101                      CUNY--City College    NY  New York    56   \n",
       "248  Georgia Southern University--Armstrong    GA  Savannah   114   \n",
       "270                        South University    GA  Savannah   114   \n",
       "\n",
       "                       Rank Type       collegedata_df Name  \n",
       "43   Regional Universities North  City College of New York  \n",
       "101  Regional Universities North  City College of New York  \n",
       "248  Regional Universities South             South College  \n",
       "270  Regional Universities South             South College  "
      ]
     },
     "execution_count": 7,
     "metadata": {},
     "output_type": "execute_result"
    }
   ],
   "source": [
    "usnews_df = usnews_df.reset_index()\n",
    "usnews_df = usnews_df.rename(columns = {'Name':'usnews_df Name'})\n",
    "\n",
    "cols = ['collegedata_df Name', 'State', 'City']\n",
    "duplicates = usnews_df.duplicated(cols, keep = False)\n",
    "usnews_df[duplicates]"
   ]
  },
  {
   "cell_type": "markdown",
   "metadata": {},
   "source": [
    "Thankfully, there are only two pairs of duplicates. After a quick search, I can manually set the appropriate collegedata_df Name values:"
   ]
  },
  {
   "cell_type": "code",
   "execution_count": 8,
   "metadata": {},
   "outputs": [],
   "source": [
    "usnews_df.loc[43, 'collegedata_df Name'] = 'Hunter College'\n",
    "usnews_df.loc[248, 'collegedata_df Name'] = 'Armstrong State University'"
   ]
  },
  {
   "cell_type": "markdown",
   "metadata": {},
   "source": [
    "Now we can save the original usnews_df Name value, drop it from usnews_df, rename collegedata_df Name to just Name, set the index to Name, State, City:"
   ]
  },
  {
   "cell_type": "code",
   "execution_count": 9,
   "metadata": {},
   "outputs": [
    {
     "data": {
      "text/html": [
       "<div>\n",
       "<style scoped>\n",
       "    .dataframe tbody tr th:only-of-type {\n",
       "        vertical-align: middle;\n",
       "    }\n",
       "\n",
       "    .dataframe tbody tr th {\n",
       "        vertical-align: top;\n",
       "    }\n",
       "\n",
       "    .dataframe thead th {\n",
       "        text-align: right;\n",
       "    }\n",
       "</style>\n",
       "<table border=\"1\" class=\"dataframe\">\n",
       "  <thead>\n",
       "    <tr style=\"text-align: right;\">\n",
       "      <th></th>\n",
       "      <th></th>\n",
       "      <th></th>\n",
       "      <th>usnews_df Name</th>\n",
       "      <th>Rank</th>\n",
       "      <th>Rank Type</th>\n",
       "    </tr>\n",
       "    <tr>\n",
       "      <th>Name</th>\n",
       "      <th>State</th>\n",
       "      <th>City</th>\n",
       "      <th></th>\n",
       "      <th></th>\n",
       "      <th></th>\n",
       "    </tr>\n",
       "  </thead>\n",
       "  <tbody>\n",
       "    <tr>\n",
       "      <th>Cooper Union for the Advancement of Science and Art</th>\n",
       "      <th>NY</th>\n",
       "      <th>New York</th>\n",
       "      <td>Cooper Union</td>\n",
       "      <td>1</td>\n",
       "      <td>Regional Colleges North</td>\n",
       "    </tr>\n",
       "    <tr>\n",
       "      <th>Harvard College</th>\n",
       "      <th>MA</th>\n",
       "      <th>Cambridge</th>\n",
       "      <td>Harvard University</td>\n",
       "      <td>2</td>\n",
       "      <td>National Universities</td>\n",
       "    </tr>\n",
       "    <tr>\n",
       "      <th>California Maritime Academy</th>\n",
       "      <th>CA</th>\n",
       "      <th>Vallejo</th>\n",
       "      <td>California State University--Maritime Academy</td>\n",
       "      <td>3</td>\n",
       "      <td>Regional Colleges West</td>\n",
       "    </tr>\n",
       "    <tr>\n",
       "      <th>The College of New Jersey</th>\n",
       "      <th>NJ</th>\n",
       "      <th>Ewing</th>\n",
       "      <td>College of New Jersey</td>\n",
       "      <td>4</td>\n",
       "      <td>Regional Universities North</td>\n",
       "    </tr>\n",
       "    <tr>\n",
       "      <th>University of South Carolina Aiken</th>\n",
       "      <th>SC</th>\n",
       "      <th>Aiken</th>\n",
       "      <td>University of South Carolina--Aiken</td>\n",
       "      <td>6</td>\n",
       "      <td>Regional Colleges South</td>\n",
       "    </tr>\n",
       "  </tbody>\n",
       "</table>\n",
       "</div>"
      ],
      "text/plain": [
       "                                                                                                   usnews_df Name  \\\n",
       "Name                                               State City                                                       \n",
       "Cooper Union for the Advancement of Science and... NY    New York                                    Cooper Union   \n",
       "Harvard College                                    MA    Cambridge                             Harvard University   \n",
       "California Maritime Academy                        CA    Vallejo    California State University--Maritime Academy   \n",
       "The College of New Jersey                          NJ    Ewing                              College of New Jersey   \n",
       "University of South Carolina Aiken                 SC    Aiken                University of South Carolina--Aiken   \n",
       "\n",
       "                                                                    Rank  \\\n",
       "Name                                               State City              \n",
       "Cooper Union for the Advancement of Science and... NY    New York      1   \n",
       "Harvard College                                    MA    Cambridge     2   \n",
       "California Maritime Academy                        CA    Vallejo       3   \n",
       "The College of New Jersey                          NJ    Ewing         4   \n",
       "University of South Carolina Aiken                 SC    Aiken         6   \n",
       "\n",
       "                                                                                      Rank Type  \n",
       "Name                                               State City                                    \n",
       "Cooper Union for the Advancement of Science and... NY    New York       Regional Colleges North  \n",
       "Harvard College                                    MA    Cambridge        National Universities  \n",
       "California Maritime Academy                        CA    Vallejo         Regional Colleges West  \n",
       "The College of New Jersey                          NJ    Ewing      Regional Universities North  \n",
       "University of South Carolina Aiken                 SC    Aiken          Regional Colleges South  "
      ]
     },
     "execution_count": 9,
     "metadata": {},
     "output_type": "execute_result"
    }
   ],
   "source": [
    "usnews_df = usnews_df.rename(columns = {'collegedata_df Name':'Name'})\n",
    "\n",
    "cols = ['Name', 'State', 'City']\n",
    "usnews_df = usnews_df.set_index(cols)\n",
    "\n",
    "usnews_df.head()"
   ]
  },
  {
   "cell_type": "markdown",
   "metadata": {},
   "source": [
    "We should be good now to inner merge this usnews_df with collegedata_df, appending the results to our existing joined_df and dropping the joined values from both original dataframes:"
   ]
  },
  {
   "cell_type": "code",
   "execution_count": 10,
   "metadata": {},
   "outputs": [
    {
     "data": {
      "text/plain": [
       "73"
      ]
     },
     "execution_count": 10,
     "metadata": {},
     "output_type": "execute_result"
    }
   ],
   "source": [
    "result = collegedata_df.merge(usnews_df, how = 'inner', left_index = True, \n",
    "                              right_index = True, validate = '1:1')\n",
    "\n",
    "result = result.drop(columns = 'usnews_df Name')\n",
    "\n",
    "joined_df = joined_df.append(result, sort = False)\n",
    "\n",
    "collegedata_df = collegedata_df.drop(result.index)\n",
    "usnews_df = usnews_df.drop(result.index)\n",
    "\n",
    "len(usnews_df)"
   ]
  },
  {
   "cell_type": "markdown",
   "metadata": {},
   "source": [
    "Not bad. Let's add our original usnews_df Name values back to the dataframe index and see a bit of what remains:"
   ]
  },
  {
   "cell_type": "code",
   "execution_count": 11,
   "metadata": {},
   "outputs": [
    {
     "data": {
      "text/html": [
       "<div>\n",
       "<style scoped>\n",
       "    .dataframe tbody tr th:only-of-type {\n",
       "        vertical-align: middle;\n",
       "    }\n",
       "\n",
       "    .dataframe tbody tr th {\n",
       "        vertical-align: top;\n",
       "    }\n",
       "\n",
       "    .dataframe thead th {\n",
       "        text-align: right;\n",
       "    }\n",
       "</style>\n",
       "<table border=\"1\" class=\"dataframe\">\n",
       "  <thead>\n",
       "    <tr style=\"text-align: right;\">\n",
       "      <th></th>\n",
       "      <th></th>\n",
       "      <th></th>\n",
       "      <th>collegedata_df Name</th>\n",
       "      <th>Rank</th>\n",
       "      <th>Rank Type</th>\n",
       "    </tr>\n",
       "    <tr>\n",
       "      <th>Name</th>\n",
       "      <th>State</th>\n",
       "      <th>City</th>\n",
       "      <th></th>\n",
       "      <th></th>\n",
       "      <th></th>\n",
       "    </tr>\n",
       "  </thead>\n",
       "  <tbody>\n",
       "    <tr>\n",
       "      <th>Cottey College</th>\n",
       "      <th>MO</th>\n",
       "      <th>Nevada</th>\n",
       "      <td>Ohio University Chillicothe</td>\n",
       "      <td>7</td>\n",
       "      <td>Regional Colleges Midwest</td>\n",
       "    </tr>\n",
       "    <tr>\n",
       "      <th>Embry-Riddle Aeronautical University</th>\n",
       "      <th>FL</th>\n",
       "      <th>Daytona Beach</th>\n",
       "      <td>Embry-Riddle Aeronautical University - Prescott</td>\n",
       "      <td>12</td>\n",
       "      <td>Regional Universities South</td>\n",
       "    </tr>\n",
       "    <tr>\n",
       "      <th>SUNY College of Technology--Alfred</th>\n",
       "      <th>NY</th>\n",
       "      <th>Alfred</th>\n",
       "      <td>York College</td>\n",
       "      <td>14</td>\n",
       "      <td>Regional Colleges North</td>\n",
       "    </tr>\n",
       "    <tr>\n",
       "      <th>SUNY Polytechnic Institute--Albany/Utica</th>\n",
       "      <th>NY</th>\n",
       "      <th>Utica</th>\n",
       "      <td>Penn State University Park</td>\n",
       "      <td>15</td>\n",
       "      <td>Regional Universities North</td>\n",
       "    </tr>\n",
       "    <tr>\n",
       "      <th>SUNY College of Technology--Delhi</th>\n",
       "      <th>NY</th>\n",
       "      <th>Delhi</th>\n",
       "      <td>York College</td>\n",
       "      <td>17</td>\n",
       "      <td>Regional Colleges North</td>\n",
       "    </tr>\n",
       "    <tr>\n",
       "      <th>Brigham Young University--Hawaii</th>\n",
       "      <th>HI</th>\n",
       "      <th>Laie Oahu</th>\n",
       "      <td>Brigham Young University - Hawaii</td>\n",
       "      <td>18</td>\n",
       "      <td>Regional Colleges West</td>\n",
       "    </tr>\n",
       "    <tr>\n",
       "      <th>Concordia College</th>\n",
       "      <th>NY</th>\n",
       "      <th>Bronxville</th>\n",
       "      <td>Concordia College</td>\n",
       "      <td>19</td>\n",
       "      <td>Regional Colleges North</td>\n",
       "    </tr>\n",
       "    <tr>\n",
       "      <th>St. Gregory's University</th>\n",
       "      <th>OK</th>\n",
       "      <th>Shawnee</th>\n",
       "      <td>St. Gregory's University</td>\n",
       "      <td>19</td>\n",
       "      <td>Regional Colleges West</td>\n",
       "    </tr>\n",
       "    <tr>\n",
       "      <th>Florida Memorial University</th>\n",
       "      <th>FL</th>\n",
       "      <th>Miami</th>\n",
       "      <td>Florida Memorial University</td>\n",
       "      <td>21</td>\n",
       "      <td>Regional Colleges South</td>\n",
       "    </tr>\n",
       "    <tr>\n",
       "      <th>St. Mary's University of San Antonio</th>\n",
       "      <th>TX</th>\n",
       "      <th>San Antonio</th>\n",
       "      <td>Saint Mary's College</td>\n",
       "      <td>21</td>\n",
       "      <td>Regional Universities West</td>\n",
       "    </tr>\n",
       "  </tbody>\n",
       "</table>\n",
       "</div>"
      ],
      "text/plain": [
       "                                                                                          collegedata_df Name  \\\n",
       "Name                                     State City                                                             \n",
       "Cottey College                           MO    Nevada                             Ohio University Chillicothe   \n",
       "Embry-Riddle Aeronautical University     FL    Daytona Beach  Embry-Riddle Aeronautical University - Prescott   \n",
       "SUNY College of Technology--Alfred       NY    Alfred                                            York College   \n",
       "SUNY Polytechnic Institute--Albany/Utica NY    Utica                               Penn State University Park   \n",
       "SUNY College of Technology--Delhi        NY    Delhi                                             York College   \n",
       "Brigham Young University--Hawaii         HI    Laie Oahu                    Brigham Young University - Hawaii   \n",
       "Concordia College                        NY    Bronxville                                   Concordia College   \n",
       "St. Gregory's University                 OK    Shawnee                               St. Gregory's University   \n",
       "Florida Memorial University              FL    Miami                              Florida Memorial University   \n",
       "St. Mary's University of San Antonio     TX    San Antonio                               Saint Mary's College   \n",
       "\n",
       "                                                              Rank  \\\n",
       "Name                                     State City                  \n",
       "Cottey College                           MO    Nevada            7   \n",
       "Embry-Riddle Aeronautical University     FL    Daytona Beach    12   \n",
       "SUNY College of Technology--Alfred       NY    Alfred           14   \n",
       "SUNY Polytechnic Institute--Albany/Utica NY    Utica            15   \n",
       "SUNY College of Technology--Delhi        NY    Delhi            17   \n",
       "Brigham Young University--Hawaii         HI    Laie Oahu        18   \n",
       "Concordia College                        NY    Bronxville       19   \n",
       "St. Gregory's University                 OK    Shawnee          19   \n",
       "Florida Memorial University              FL    Miami            21   \n",
       "St. Mary's University of San Antonio     TX    San Antonio      21   \n",
       "\n",
       "                                                                                Rank Type  \n",
       "Name                                     State City                                        \n",
       "Cottey College                           MO    Nevada           Regional Colleges Midwest  \n",
       "Embry-Riddle Aeronautical University     FL    Daytona Beach  Regional Universities South  \n",
       "SUNY College of Technology--Alfred       NY    Alfred             Regional Colleges North  \n",
       "SUNY Polytechnic Institute--Albany/Utica NY    Utica          Regional Universities North  \n",
       "SUNY College of Technology--Delhi        NY    Delhi              Regional Colleges North  \n",
       "Brigham Young University--Hawaii         HI    Laie Oahu           Regional Colleges West  \n",
       "Concordia College                        NY    Bronxville         Regional Colleges North  \n",
       "St. Gregory's University                 OK    Shawnee             Regional Colleges West  \n",
       "Florida Memorial University              FL    Miami              Regional Colleges South  \n",
       "St. Mary's University of San Antonio     TX    San Antonio     Regional Universities West  "
      ]
     },
     "execution_count": 11,
     "metadata": {},
     "output_type": "execute_result"
    }
   ],
   "source": [
    "usnews_df = usnews_df.reset_index()\n",
    "\n",
    "usnews_df = usnews_df.rename(columns = {'Name':'collegedata_df Name'})\n",
    "usnews_df = usnews_df.rename(columns = {'usnews_df Name':'Name'})\n",
    "\n",
    "usnews_df = usnews_df.set_index(cols)\n",
    "usnews_df.head(10)"
   ]
  },
  {
   "cell_type": "markdown",
   "metadata": {},
   "source": [
    "Some of the guessed collegedata_df Name values are clearly not lining up the wrong school, and thus failed to match up on the inner join. But some are extremely close, so much so that perhaps there was a problem with the City field on the join.\n",
    "\n",
    "It's possible some of the City values between the two dataframes are slightly in the same way that some Name values were. We can repeat the procedure we just did on the remaining City values:"
   ]
  },
  {
   "cell_type": "code",
   "execution_count": 12,
   "metadata": {},
   "outputs": [
    {
     "data": {
      "text/html": [
       "<div>\n",
       "<style scoped>\n",
       "    .dataframe tbody tr th:only-of-type {\n",
       "        vertical-align: middle;\n",
       "    }\n",
       "\n",
       "    .dataframe tbody tr th {\n",
       "        vertical-align: top;\n",
       "    }\n",
       "\n",
       "    .dataframe thead th {\n",
       "        text-align: right;\n",
       "    }\n",
       "</style>\n",
       "<table border=\"1\" class=\"dataframe\">\n",
       "  <thead>\n",
       "    <tr style=\"text-align: right;\">\n",
       "      <th></th>\n",
       "      <th>Name</th>\n",
       "      <th>State</th>\n",
       "      <th>usnews_df City</th>\n",
       "      <th>collegedata_df Name</th>\n",
       "      <th>Rank</th>\n",
       "      <th>Rank Type</th>\n",
       "      <th>collegedata_df City</th>\n",
       "    </tr>\n",
       "  </thead>\n",
       "  <tbody>\n",
       "  </tbody>\n",
       "</table>\n",
       "</div>"
      ],
      "text/plain": [
       "Empty DataFrame\n",
       "Columns: [Name, State, usnews_df City, collegedata_df Name, Rank, Rank Type, collegedata_df City]\n",
       "Index: []"
      ]
     },
     "execution_count": 12,
     "metadata": {},
     "output_type": "execute_result"
    }
   ],
   "source": [
    "collegedata_cities = collegedata_df.index.get_level_values('City')\n",
    "collegedata_df['Stripped City'] = strip(collegedata_cities)\n",
    "\n",
    "usnews_cities = usnews_df.index.get_level_values('City')\n",
    "usnews_df['Stripped City'] = strip(usnews_cities)\n",
    "\n",
    "match = lambda x: process.extract(x, collegedata_df['Stripped City'], \n",
    "                                  limit = 1)\n",
    "\n",
    "usnews_df['Closest Match'] = usnews_df['Stripped City'].apply(match)\n",
    "\n",
    "usnews_df = usnews_df.drop(columns = 'Stripped City')\n",
    "collegdata_df = collegedata_df.drop(columns = 'Stripped City')\n",
    "\n",
    "usnews_df['collegedata_df City'] = \\\n",
    "    usnews_df['Closest Match'].str[0].str[2].str[0]\n",
    "\n",
    "usnews_df = usnews_df.drop(columns = 'Closest Match')\n",
    "\n",
    "usnews_df = usnews_df.reset_index()\n",
    "usnews_df = usnews_df.rename(columns = {'City':'usnews_df City'})\n",
    "\n",
    "cols = ['collegedata_df Name', 'State', 'collegedata_df City']\n",
    "duplicates = usnews_df.duplicated(cols, keep = False)\n",
    "usnews_df[duplicates]"
   ]
  },
  {
   "cell_type": "markdown",
   "metadata": {},
   "source": [
    "No duplicates! Proceeding..."
   ]
  },
  {
   "cell_type": "code",
   "execution_count": null,
   "metadata": {
    "collapsed": true
   },
   "outputs": [],
   "source": [
    "usnews_df = usnews_df.rename(columns = {'collegedata_df City':'City'})\n",
    "\n",
    "cols = ['Name', 'State', 'City']\n",
    "usnews_df = usnews_df.set_index(cols)\n",
    "\n",
    "usnews_df.head()\n",
    "\n",
    "\n",
    "\n",
    "result = collegedata_df.merge(usnews_df, how = 'inner', left_index = True, \n",
    "                              right_index = True, validate = '1:1')\n",
    "\n",
    "result = result.drop(columns = 'usnews_df Name')\n",
    "\n",
    "joined_df = joined_df.append(result, sort = False)\n",
    "\n",
    "collegedata_df = collegedata_df.drop(result.index)\n",
    "usnews_df = usnews_df.drop(result.index)\n",
    "\n",
    "len(usnews_df)"
   ]
  },
  {
   "cell_type": "markdown",
   "metadata": {},
   "source": [
    "That method seemed to help a bit - it cut our orphaned usnews_df rows from 287 to 57. We're approaching a threshold amount of values where it might be more efficient to manually rename them:"
   ]
  },
  {
   "cell_type": "code",
   "execution_count": 11,
   "metadata": {},
   "outputs": [
    {
     "name": "stdout",
     "output_type": "stream",
     "text": [
      "1351 non-null Rank values in df.\n",
      "624 rows in collegedata_df, 54 rows in collegedata_missing_df,\n",
      "7 rows in usnews_df, 1351 rows in df.\n"
     ]
    }
   ],
   "source": [
    "usnews_df.set_index('Name', inplace = True)\n",
    "usnews_df.rename(index = school_rename_dict, inplace = True)\n",
    "usnews_df = usnews_df[usnews_df.index.notna()]\n",
    "\n",
    "usnews_df.set_index(['State'], append = True, inplace = True)\n",
    "collegedata_df.set_index(['Name', 'State'], inplace = True)\n",
    "joined = collegedata_df.join(usnews_df.drop(columns = 'City'), how = 'inner')\n",
    "\n",
    "df = df.append(joined.set_index('City', append = True), sort = False)\n",
    "collegedata_df.drop(joined.index, inplace = True)\n",
    "usnews_df.drop(joined.index, inplace = True)\n",
    "\n",
    "has_ranks = df['Rank'].notna()\n",
    "print(\"{} non-null Rank values in df.\".format(has_ranks.sum()))\n",
    "print(\"{} rows in collegedata_df, {} rows in collegedata_missing_df,\\n\"\n",
    "      \"{} rows in usnews_df, {} rows in df.\".format(\\\n",
    "            len(collegedata_df), len(collegedata_missing_df),\\\n",
    "            len(usnews_df), len(df)))"
   ]
  },
  {
   "cell_type": "markdown",
   "metadata": {},
   "source": [
    "We can try to join the remaining 7 rows from usnews_df on the rows we put into collegedata_missing_df that were missing City and/or State values:"
   ]
  },
  {
   "cell_type": "code",
   "execution_count": 12,
   "metadata": {},
   "outputs": [
    {
     "name": "stdout",
     "output_type": "stream",
     "text": [
      "1356 non-null Rank values in df.\n",
      "624 rows in collegedata_df, 54 rows in collegedata_missing_df,\n",
      "2 rows in usnews_df, 1356 rows in df.\n"
     ]
    }
   ],
   "source": [
    "usnews_df.reset_index(inplace = True)\n",
    "usnews_df.set_index('Name', inplace = True)\n",
    "collegedata_missing_df.set_index('Name', inplace = True)\n",
    "\n",
    "joined = usnews_df.join(collegedata_missing_df\\\n",
    "                        .drop(columns = ['State', 'City']), how = 'inner')\n",
    "\n",
    "df = df.append(joined\\\n",
    "               .set_index(['State', 'City'], append = True), sort = False)\n",
    "\n",
    "usnews_df.drop(joined.index, inplace = True)\n",
    "\n",
    "usnews_df.reset_index(inplace = True)\n",
    "\n",
    "has_ranks = df['Rank'].notna()\n",
    "print(\"{} non-null Rank values in df.\".format(has_ranks.sum()))\n",
    "print(\"{} rows in collegedata_df, {} rows in collegedata_missing_df,\\n\"\n",
    "      \"{} rows in usnews_df, {} rows in df.\".format(\\\n",
    "            len(collegedata_df), len(collegedata_missing_df),\\\n",
    "            len(usnews_df), len(df)))"
   ]
  },
  {
   "cell_type": "markdown",
   "metadata": {},
   "source": [
    "There are only two schools remaining in usnews_df:"
   ]
  },
  {
   "cell_type": "code",
   "execution_count": 13,
   "metadata": {},
   "outputs": [
    {
     "data": {
      "text/html": [
       "<div>\n",
       "<style scoped>\n",
       "    .dataframe tbody tr th:only-of-type {\n",
       "        vertical-align: middle;\n",
       "    }\n",
       "\n",
       "    .dataframe tbody tr th {\n",
       "        vertical-align: top;\n",
       "    }\n",
       "\n",
       "    .dataframe thead th {\n",
       "        text-align: right;\n",
       "    }\n",
       "</style>\n",
       "<table border=\"1\" class=\"dataframe\">\n",
       "  <thead>\n",
       "    <tr style=\"text-align: right;\">\n",
       "      <th></th>\n",
       "      <th>Name</th>\n",
       "      <th>State</th>\n",
       "      <th>City</th>\n",
       "      <th>Rank</th>\n",
       "      <th>Rank Type</th>\n",
       "    </tr>\n",
       "  </thead>\n",
       "  <tbody>\n",
       "    <tr>\n",
       "      <th>0</th>\n",
       "      <td>Concordia University</td>\n",
       "      <td>NE</td>\n",
       "      <td>Seward</td>\n",
       "      <td>38</td>\n",
       "      <td>Regional Universities Midwest</td>\n",
       "    </tr>\n",
       "    <tr>\n",
       "      <th>1</th>\n",
       "      <td>Concordia University</td>\n",
       "      <td>CA</td>\n",
       "      <td>Irvine</td>\n",
       "      <td>41</td>\n",
       "      <td>Regional Universities West</td>\n",
       "    </tr>\n",
       "  </tbody>\n",
       "</table>\n",
       "</div>"
      ],
      "text/plain": [
       "                   Name State    City  Rank                      Rank Type\n",
       "0  Concordia University    NE  Seward    38  Regional Universities Midwest\n",
       "1  Concordia University    CA  Irvine    41     Regional Universities West"
      ]
     },
     "execution_count": 13,
     "metadata": {},
     "output_type": "execute_result"
    }
   ],
   "source": [
    "usnews_df"
   ]
  },
  {
   "cell_type": "markdown",
   "metadata": {},
   "source": [
    "These two share the same name in usnews_df, but their corresponding rows in collegedata_df are different. We'll change the names, join them to 'df':"
   ]
  },
  {
   "cell_type": "code",
   "execution_count": 14,
   "metadata": {
    "collapsed": true
   },
   "outputs": [],
   "source": [
    "usnews_df.loc[0, 'Name'] = 'Concordia University Nebraska'\n",
    "usnews_df.loc[1, 'Name'] = 'Concordia University Irvine'\n",
    "\n",
    "usnews_df.set_index(['Name', 'State', 'City'], inplace = True)\n",
    "collegedata_df.set_index('City', append = True, inplace = True)\n",
    "\n",
    "joined = collegedata_df.join(usnews_df, how = 'inner')\n",
    "\n",
    "df = df.append(joined, sort = False)"
   ]
  },
  {
   "cell_type": "markdown",
   "metadata": {},
   "source": [
    "We'll also want to add our remaining collegedata_missing_df rows back to df, even "
   ]
  },
  {
   "cell_type": "code",
   "execution_count": 15,
   "metadata": {},
   "outputs": [
    {
     "data": {
      "text/plain": [
       "1358"
      ]
     },
     "execution_count": 15,
     "metadata": {},
     "output_type": "execute_result"
    }
   ],
   "source": [
    "len(df)\n",
    "\n"
   ]
  },
  {
   "cell_type": "code",
   "execution_count": 19,
   "metadata": {},
   "outputs": [
    {
     "data": {
      "text/plain": [
       "271"
      ]
     },
     "execution_count": 19,
     "metadata": {},
     "output_type": "execute_result"
    }
   ],
   "source": [
    "df[['Name','State','City']].duplicated().sum()"
   ]
  },
  {
   "cell_type": "code",
   "execution_count": 20,
   "metadata": {},
   "outputs": [
    {
     "data": {
      "text/plain": [
       "54"
      ]
     },
     "execution_count": 20,
     "metadata": {},
     "output_type": "execute_result"
    }
   ],
   "source": [
    "len(collegedata_missing_df)"
   ]
  },
  {
   "cell_type": "code",
   "execution_count": null,
   "metadata": {
    "collapsed": true
   },
   "outputs": [],
   "source": []
  }
 ],
 "metadata": {
  "kernelspec": {
   "display_name": "Python 3",
   "language": "python",
   "name": "python3"
  },
  "language_info": {
   "codemirror_mode": {
    "name": "ipython",
    "version": 3
   },
   "file_extension": ".py",
   "mimetype": "text/x-python",
   "name": "python",
   "nbconvert_exporter": "python",
   "pygments_lexer": "ipython3",
   "version": "3.6.5"
  }
 },
 "nbformat": 4,
 "nbformat_minor": 2
}
