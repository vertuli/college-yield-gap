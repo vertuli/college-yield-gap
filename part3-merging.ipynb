{
 "cells": [
  {
   "cell_type": "markdown",
   "metadata": {},
   "source": [
    "## Part 3 - Merging\n",
    "\n",
    "Let's import the cleaned CollegeData and cleaned USNews rankings dataframes:"
   ]
  },
  {
   "cell_type": "code",
   "execution_count": 1,
   "metadata": {},
   "outputs": [
    {
     "name": "stdout",
     "output_type": "stream",
     "text": [
      "2028 rows in collegedata_df, 1381 rows in usnews_df.\n"
     ]
    }
   ],
   "source": [
    "import numpy as np\n",
    "import pandas as pd\n",
    "from fuzzywuzzy import process\n",
    "from collegedata_names import school_rename_dict\n",
    "\n",
    "COLLEGEDATA_CLEAN_CSV_PATH = 'data/collegedata_clean.csv'\n",
    "USNEWS_CLEAN_CSV_PATH = 'data/usnews_clean.csv'\n",
    "\n",
    "collegedata_df = pd.read_csv(COLLEGEDATA_CLEAN_CSV_PATH, index_col = None)\n",
    "usnews_df = pd.read_csv(USNEWS_CLEAN_CSV_PATH, index_col = None)\n",
    "\n",
    "print(\"{} rows in collegedata_df, {} rows in usnews_df.\"\\\n",
    "      .format(len(collegedata_df), len(usnews_df)))"
   ]
  },
  {
   "cell_type": "markdown",
   "metadata": {},
   "source": [
    "Since we have less ranks than we have schools, let's try simply left joining the usnews_df to collegedata_df on the common Name, State, and City columns to create a new dataframe 'df'. Before we do that, let's see if there are any schools from either dataframe missing these values:"
   ]
  },
  {
   "cell_type": "code",
   "execution_count": 2,
   "metadata": {},
   "outputs": [
    {
     "name": "stdout",
     "output_type": "stream",
     "text": [
      "54 rows in collegedata_missing_df, 0 rows in usnews_missing_df.\n",
      "1974 rows in collegedata_df, 1381 rows in usnews_df.\n"
     ]
    }
   ],
   "source": [
    "cols = ['Name', 'State', 'City']\n",
    "\n",
    "collegedata_missing = collegedata_df[cols].isna()\n",
    "collegedata_missing_df = collegedata_df[collegedata_missing.any(axis = 1)]\n",
    "collegedata_df.drop(collegedata_missing_df.index, inplace = True)\n",
    "\n",
    "usnews_missing = usnews_df[cols].isna()\n",
    "usnews_missing_df = usnews_df[usnews_missing.any(axis = 1)]\n",
    "usnews_df.drop(usnews_missing_df.index, inplace = True)\n",
    "\n",
    "collegedata_df.set_index(cols, inplace = True)\n",
    "usnews_df.set_index(cols, inplace = True)\n",
    "\n",
    "print(\"{} rows in collegedata_missing_df, {} rows in usnews_missing_df.\"\\\n",
    "      .format(len(collegedata_missing_df), len(usnews_missing_df)))\n",
    "\n",
    "print(\"{} rows in collegedata_df, {} rows in usnews_df.\"\\\n",
    "      .format(len(collegedata_df), len(usnews_df)))"
   ]
  },
  {
   "cell_type": "markdown",
   "metadata": {},
   "source": [
    "No missing data was in usnews_df, thankfully. Let's try simply left joining usnews_df to collegedata_df:"
   ]
  },
  {
   "cell_type": "code",
   "execution_count": 3,
   "metadata": {
    "scrolled": false
   },
   "outputs": [
    {
     "name": "stdout",
     "output_type": "stream",
     "text": [
      "1082 non-null Rank values in df.\n"
     ]
    }
   ],
   "source": [
    "df = collegedata_df.join(usnews_df)\n",
    "has_ranks = df['Rank'].notna()\n",
    "print(\"{} non-null Rank values in df.\".format(has_ranks.sum()))"
   ]
  },
  {
   "cell_type": "markdown",
   "metadata": {},
   "source": [
    "This worked alright. But there are still a number of Name, State, City values from usnews_df that failed to match up with those in collegedata_df.\n",
    "\n",
    "Let's remove the rows that matched from both starting dataframes:"
   ]
  },
  {
   "cell_type": "code",
   "execution_count": 4,
   "metadata": {},
   "outputs": [
    {
     "name": "stdout",
     "output_type": "stream",
     "text": [
      "892 rows in collegedata_df, 54 rows in collegedata_missing_df, 299 rows in usnews_df.\n"
     ]
    }
   ],
   "source": [
    "collegedata_df.drop(df[has_ranks].index, inplace = True)\n",
    "usnews_df.drop(df.index, errors = 'ignore', inplace = True)\n",
    "print(\"{} rows in collegedata_df, {} rows in collegedata_missing_df, \"\n",
    "      \"{} rows in usnews_df.\".format(\\\n",
    "            len(collegedata_df), len(collegedata_missing_df), len(usnews_df)))"
   ]
  },
  {
   "cell_type": "markdown",
   "metadata": {},
   "source": [
    "Now we need to find a way to match these orphaned 299 US News ranks to the remaining CollegeData schools.\n",
    "\n",
    "We can look to see if maybe the Name and State match but for some reason the City is off:"
   ]
  },
  {
   "cell_type": "code",
   "execution_count": 5,
   "metadata": {},
   "outputs": [
    {
     "data": {
      "text/plain": [
       "12"
      ]
     },
     "execution_count": 5,
     "metadata": {},
     "output_type": "execute_result"
    }
   ],
   "source": [
    "collegedata_df.reset_index('City', inplace = True)\n",
    "usnews_df.reset_index('City', inplace = True)\n",
    "diff_cities = usnews_df.index.isin(collegedata_df.index)\n",
    "diff_cities.sum()"
   ]
  },
  {
   "cell_type": "markdown",
   "metadata": {},
   "source": [
    "Let's see the actual City values for these 12 cases to make sure that nothing is terribly off:"
   ]
  },
  {
   "cell_type": "code",
   "execution_count": 6,
   "metadata": {},
   "outputs": [
    {
     "data": {
      "text/html": [
       "<div>\n",
       "<style scoped>\n",
       "    .dataframe tbody tr th:only-of-type {\n",
       "        vertical-align: middle;\n",
       "    }\n",
       "\n",
       "    .dataframe tbody tr th {\n",
       "        vertical-align: top;\n",
       "    }\n",
       "\n",
       "    .dataframe thead th {\n",
       "        text-align: right;\n",
       "    }\n",
       "</style>\n",
       "<table border=\"1\" class=\"dataframe\">\n",
       "  <thead>\n",
       "    <tr style=\"text-align: right;\">\n",
       "      <th></th>\n",
       "      <th></th>\n",
       "      <th>CollegeData City</th>\n",
       "      <th>US News City</th>\n",
       "    </tr>\n",
       "    <tr>\n",
       "      <th>Name</th>\n",
       "      <th>State</th>\n",
       "      <th></th>\n",
       "      <th></th>\n",
       "    </tr>\n",
       "  </thead>\n",
       "  <tbody>\n",
       "    <tr>\n",
       "      <th>Florida Memorial University</th>\n",
       "      <th>FL</th>\n",
       "      <td>Miami-Dade</td>\n",
       "      <td>Miami</td>\n",
       "    </tr>\n",
       "    <tr>\n",
       "      <th>Saint Mary-of-the-Woods College</th>\n",
       "      <th>IN</th>\n",
       "      <td>Saint Mary of the Woods</td>\n",
       "      <td>St. Mary-of-the-Woods</td>\n",
       "    </tr>\n",
       "    <tr>\n",
       "      <th>University of Richmond</th>\n",
       "      <th>VA</th>\n",
       "      <td>University of Richmond</td>\n",
       "      <td>Univ. of Richmond</td>\n",
       "    </tr>\n",
       "    <tr>\n",
       "      <th>Lake Superior State University</th>\n",
       "      <th>MI</th>\n",
       "      <td>Sault Sainte Marie</td>\n",
       "      <td>Sault Ste. Marie</td>\n",
       "    </tr>\n",
       "    <tr>\n",
       "      <th>Bard College</th>\n",
       "      <th>NY</th>\n",
       "      <td>Annandale-on-Hudson</td>\n",
       "      <td>Annandale on Hudson</td>\n",
       "    </tr>\n",
       "    <tr>\n",
       "      <th>St. Mary's College of Maryland</th>\n",
       "      <th>MD</th>\n",
       "      <td>St. Mary's City</td>\n",
       "      <td>St. Marys City</td>\n",
       "    </tr>\n",
       "    <tr>\n",
       "      <th>Auburn University</th>\n",
       "      <th>AL</th>\n",
       "      <td>Auburn University</td>\n",
       "      <td>Auburn</td>\n",
       "    </tr>\n",
       "    <tr>\n",
       "      <th>College of Mount St. Vincent</th>\n",
       "      <th>NY</th>\n",
       "      <td>Riverdale</td>\n",
       "      <td>Bronx</td>\n",
       "    </tr>\n",
       "    <tr>\n",
       "      <th>Nova Southeastern University</th>\n",
       "      <th>FL</th>\n",
       "      <td>Fort Lauderdale</td>\n",
       "      <td>Ft. Lauderdale</td>\n",
       "    </tr>\n",
       "    <tr>\n",
       "      <th>American Jewish University</th>\n",
       "      <th>CA</th>\n",
       "      <td>Bel Air</td>\n",
       "      <td>Bel-Air</td>\n",
       "    </tr>\n",
       "    <tr>\n",
       "      <th>Brewton-Parker College</th>\n",
       "      <th>GA</th>\n",
       "      <td>Mt. Vernon</td>\n",
       "      <td>Mount Vernon</td>\n",
       "    </tr>\n",
       "    <tr>\n",
       "      <th>Northern Illinois University</th>\n",
       "      <th>IL</th>\n",
       "      <td>De Kalb</td>\n",
       "      <td>DeKalb</td>\n",
       "    </tr>\n",
       "  </tbody>\n",
       "</table>\n",
       "</div>"
      ],
      "text/plain": [
       "                                              CollegeData City  \\\n",
       "Name                            State                            \n",
       "Florida Memorial University     FL                  Miami-Dade   \n",
       "Saint Mary-of-the-Woods College IN     Saint Mary of the Woods   \n",
       "University of Richmond          VA      University of Richmond   \n",
       "Lake Superior State University  MI          Sault Sainte Marie   \n",
       "Bard College                    NY         Annandale-on-Hudson   \n",
       "St. Mary's College of Maryland  MD             St. Mary's City   \n",
       "Auburn University               AL           Auburn University   \n",
       "College of Mount St. Vincent    NY                   Riverdale   \n",
       "Nova Southeastern University    FL             Fort Lauderdale   \n",
       "American Jewish University      CA                     Bel Air   \n",
       "Brewton-Parker College          GA                  Mt. Vernon   \n",
       "Northern Illinois University    IL                     De Kalb   \n",
       "\n",
       "                                                US News City  \n",
       "Name                            State                         \n",
       "Florida Memorial University     FL                     Miami  \n",
       "Saint Mary-of-the-Woods College IN     St. Mary-of-the-Woods  \n",
       "University of Richmond          VA         Univ. of Richmond  \n",
       "Lake Superior State University  MI          Sault Ste. Marie  \n",
       "Bard College                    NY       Annandale on Hudson  \n",
       "St. Mary's College of Maryland  MD            St. Marys City  \n",
       "Auburn University               AL                    Auburn  \n",
       "College of Mount St. Vincent    NY                     Bronx  \n",
       "Nova Southeastern University    FL            Ft. Lauderdale  \n",
       "American Jewish University      CA                   Bel-Air  \n",
       "Brewton-Parker College          GA              Mount Vernon  \n",
       "Northern Illinois University    IL                    DeKalb  "
      ]
     },
     "execution_count": 6,
     "metadata": {},
     "output_type": "execute_result"
    }
   ],
   "source": [
    "s1 = usnews_df.loc[diff_cities, 'City']\n",
    "s2 = collegedata_df.loc[s1.index, 'City']\n",
    "s1.name, s2.name = 'US News City', 'CollegeData City'\n",
    "pd.concat([s2, s1], axis = 1)"
   ]
  },
  {
   "cell_type": "markdown",
   "metadata": {},
   "source": [
    "It looks like these are indeed the same schools - the City values are not matching because they have slightly different formatting. Let's join them into 'df' and remove them from the original dataframes:"
   ]
  },
  {
   "cell_type": "code",
   "execution_count": 7,
   "metadata": {},
   "outputs": [
    {
     "name": "stdout",
     "output_type": "stream",
     "text": [
      "1094 non-null Rank values in df.\n",
      "880 rows in collegedata_df, 54 rows in collegedata_missing_df, 287 rows in usnews_df.\n"
     ]
    }
   ],
   "source": [
    "joined = collegedata_df.join(usnews_df.drop(columns = 'City'), how = 'inner')\n",
    "df = df.append(joined.set_index('City', append = True), sort = False)\n",
    "\n",
    "collegedata_df.drop(joined.index, inplace = True)\n",
    "usnews_df.drop(joined.index, inplace = True)\n",
    "\n",
    "collegedata_df.reset_index(inplace = True)\n",
    "usnews_df.reset_index(inplace = True)\n",
    "\n",
    "has_ranks = df['Rank'].notna()\n",
    "print(\"{} non-null Rank values in df.\".format(has_ranks.sum()))\n",
    "print(\"{} rows in collegedata_df, {} rows in collegedata_missing_df, \"\n",
    "      \"{} rows in usnews_df.\".format(\\\n",
    "            len(collegedata_df), len(collegedata_missing_df), len(usnews_df)))"
   ]
  },
  {
   "cell_type": "markdown",
   "metadata": {},
   "source": [
    "We still have 287 ranks without a home. There's a good chance that the Name values in usnews_df are formatted slightly differently from the Name values in collegedata_df.\n",
    "\n",
    "Using [fuzzywuzzy](https://github.com/seatgeek/fuzzywuzzy), which was put together by the people at SeatGeek and built on difflib, we can find a list of potential Name value matches in collegedata_df for each Name value in usnews_df:"
   ]
  },
  {
   "cell_type": "code",
   "execution_count": 8,
   "metadata": {
    "collapsed": true
   },
   "outputs": [],
   "source": [
    "def strip(s):\n",
    "    s = s.str.replace('SUNY','State University of New York')\n",
    "    s = s.str.replace('CUNY','City University of New York')\n",
    "    s = s.str.replace('\\'s','s')\n",
    "    s = s.str.replace('College|University|of|\\'','')\n",
    "    s = s.str.replace('St\\.','Saint')\n",
    "    s = s.str.replace('-|\\.',' ')\n",
    "    s = s.str.replace('\\s+',' ')\n",
    "    s = s.str.strip()\n",
    "    return s\n",
    "\n",
    "collegedata_df['Stripped Name'] = strip(collegedata_df['Name'])\n",
    "\n",
    "match = lambda x: process.extract(x, collegedata_df['Stripped Name'])[0][0]\n",
    "usnews_df['Stripped Name'] = strip(usnews_df['Name']).apply(match)"
   ]
  },
  {
   "cell_type": "markdown",
   "metadata": {},
   "source": [
    "Now we have a Stripped Name column in collegedata_df that contains the true stripped name. We also stripped the Names in usnews_df and immediately applied fuzzywuzzy's process.extract to find the closest matching Stripped Name in collegedata_df, and saved that possible match as usnews_df's Stripped Name column.\n",
    "\n",
    "Now we'll set the indexes for both dataframes to include the Stripped Name column and then attempt an inner join (while dropping the useless original usnews_df Name column):"
   ]
  },
  {
   "cell_type": "code",
   "execution_count": 9,
   "metadata": {},
   "outputs": [],
   "source": [
    "collegedata_df.set_index(['Stripped Name', 'State', 'City'], inplace = True)\n",
    "usnews_df.set_index(['Stripped Name', 'State', 'City'], inplace = True)\n",
    "\n",
    "joined = collegedata_df.join(usnews_df.drop(columns = 'Name'), how = 'inner')\n",
    "collegedata_df.drop(joined.index, inplace = True)\n",
    "usnews_df.drop(joined.index, inplace = True)"
   ]
  },
  {
   "cell_type": "markdown",
   "metadata": {},
   "source": [
    "Now we'll reset the joined index, drop the now useless Stripped Name column, set the normal Name, State, City index, and append joined to our combined 'df' dataframe:"
   ]
  },
  {
   "cell_type": "code",
   "execution_count": 10,
   "metadata": {},
   "outputs": [
    {
     "name": "stdout",
     "output_type": "stream",
     "text": [
      "1324 non-null Rank values in df.\n",
      "651 rows in collegedata_df, 54 rows in collegedata_missing_df, 57 rows in usnews_df.\n"
     ]
    }
   ],
   "source": [
    "joined.reset_index(inplace = True)\n",
    "joined.drop(columns = 'Stripped Name', inplace = True)\n",
    "joined.set_index(['Name', 'State', 'City'], inplace = True)\n",
    "df = df.append(joined, sort = False)\n",
    "\n",
    "collegedata_df.reset_index(inplace = True)\n",
    "collegedata_df.drop(columns = 'Stripped Name', inplace = True)\n",
    "\n",
    "usnews_df.reset_index(inplace = True)\n",
    "usnews_df.drop(columns = 'Stripped Name', inplace = True)\n",
    "\n",
    "has_ranks = df['Rank'].notna()\n",
    "print(\"{} non-null Rank values in df.\".format(has_ranks.sum()))\n",
    "print(\"{} rows in collegedata_df, {} rows in collegedata_missing_df, \"\n",
    "      \"{} rows in usnews_df.\".format(\\\n",
    "            len(collegedata_df), len(collegedata_missing_df), len(usnews_df)))"
   ]
  },
  {
   "cell_type": "markdown",
   "metadata": {},
   "source": [
    "That method seemed to help a bit - it cut our orphaned usnews_df rows from 287 to 57. We're approaching a threshold amount of values where it might be more efficient to manually rename them:"
   ]
  },
  {
   "cell_type": "code",
   "execution_count": 11,
   "metadata": {},
   "outputs": [
    {
     "name": "stdout",
     "output_type": "stream",
     "text": [
      "1351 non-null Rank values in df.\n",
      "624 rows in collegedata_df, 54 rows in collegedata_missing_df, 7 rows in usnews_df.\n"
     ]
    }
   ],
   "source": [
    "usnews_df.set_index('Name', inplace = True)\n",
    "usnews_df.rename(index = school_rename_dict, inplace = True)\n",
    "usnews_df = usnews_df[usnews_df.index.notna()]\n",
    "\n",
    "usnews_df.set_index(['State'], append = True, inplace = True)\n",
    "collegedata_df.set_index(['Name', 'State'], inplace = True)\n",
    "joined = collegedata_df.join(usnews_df.drop(columns = 'City'), how = 'inner')\n",
    "\n",
    "df = df.append(joined.set_index('City', append = True), sort = False)\n",
    "collegedata_df.drop(joined.index, inplace = True)\n",
    "usnews_df.drop(joined.index, inplace = True)\n",
    "\n",
    "has_ranks = df['Rank'].notna()\n",
    "print(\"{} non-null Rank values in df.\".format(has_ranks.sum()))\n",
    "print(\"{} rows in collegedata_df, {} rows in collegedata_missing_df, \"\n",
    "      \"{} rows in usnews_df.\".format(\\\n",
    "            len(collegedata_df), len(collegedata_missing_df), len(usnews_df)))"
   ]
  },
  {
   "cell_type": "markdown",
   "metadata": {},
   "source": [
    "We can try to join the remaining 7 rows from usnews_df on the rows we put into collegedata_missing_df that were missing City and/or State values:"
   ]
  },
  {
   "cell_type": "code",
   "execution_count": 12,
   "metadata": {},
   "outputs": [
    {
     "name": "stdout",
     "output_type": "stream",
     "text": [
      "1356 non-null Rank values in df.\n",
      "624 rows in collegedata_df, 54 rows in collegedata_missing_df, 2 rows in usnews_df.\n"
     ]
    }
   ],
   "source": [
    "usnews_df.reset_index(inplace = True)\n",
    "usnews_df.set_index('Name', inplace = True)\n",
    "collegedata_missing_df.set_index('Name', inplace = True)\n",
    "\n",
    "joined = usnews_df.join(collegedata_missing_df\\\n",
    "                        .drop(columns = ['State', 'City']), how = 'inner')\n",
    "\n",
    "df = df.append(joined\\\n",
    "               .set_index(['State', 'City'], append = True), sort = False)\n",
    "\n",
    "usnews_df.drop(joined.index, inplace = True)\n",
    "\n",
    "usnews_df.reset_index(inplace = True)\n",
    "\n",
    "has_ranks = df['Rank'].notna()\n",
    "print(\"{} non-null Rank values in df.\".format(has_ranks.sum()))\n",
    "print(\"{} rows in collegedata_df, {} rows in collegedata_missing_df, \"\n",
    "      \"{} rows in usnews_df.\".format(\\\n",
    "            len(collegedata_df), len(collegedata_missing_df), len(usnews_df)))"
   ]
  },
  {
   "cell_type": "markdown",
   "metadata": {},
   "source": [
    "There are only two schools remaining in usnews_df:"
   ]
  },
  {
   "cell_type": "code",
   "execution_count": 13,
   "metadata": {},
   "outputs": [
    {
     "data": {
      "text/html": [
       "<div>\n",
       "<style scoped>\n",
       "    .dataframe tbody tr th:only-of-type {\n",
       "        vertical-align: middle;\n",
       "    }\n",
       "\n",
       "    .dataframe tbody tr th {\n",
       "        vertical-align: top;\n",
       "    }\n",
       "\n",
       "    .dataframe thead th {\n",
       "        text-align: right;\n",
       "    }\n",
       "</style>\n",
       "<table border=\"1\" class=\"dataframe\">\n",
       "  <thead>\n",
       "    <tr style=\"text-align: right;\">\n",
       "      <th></th>\n",
       "      <th>Name</th>\n",
       "      <th>State</th>\n",
       "      <th>City</th>\n",
       "      <th>Rank</th>\n",
       "      <th>Rank Type</th>\n",
       "    </tr>\n",
       "  </thead>\n",
       "  <tbody>\n",
       "    <tr>\n",
       "      <th>0</th>\n",
       "      <td>Concordia University</td>\n",
       "      <td>NE</td>\n",
       "      <td>Seward</td>\n",
       "      <td>38</td>\n",
       "      <td>Regional Universities Midwest</td>\n",
       "    </tr>\n",
       "    <tr>\n",
       "      <th>1</th>\n",
       "      <td>Concordia University</td>\n",
       "      <td>CA</td>\n",
       "      <td>Irvine</td>\n",
       "      <td>41</td>\n",
       "      <td>Regional Universities West</td>\n",
       "    </tr>\n",
       "  </tbody>\n",
       "</table>\n",
       "</div>"
      ],
      "text/plain": [
       "                   Name State    City  Rank                      Rank Type\n",
       "0  Concordia University    NE  Seward    38  Regional Universities Midwest\n",
       "1  Concordia University    CA  Irvine    41     Regional Universities West"
      ]
     },
     "execution_count": 13,
     "metadata": {},
     "output_type": "execute_result"
    }
   ],
   "source": [
    "usnews_df"
   ]
  },
  {
   "cell_type": "markdown",
   "metadata": {},
   "source": [
    "These two share the same name in usnews_df, but their corresponding rows in collegedata_df are different. We'll change the names, join them to 'df':"
   ]
  },
  {
   "cell_type": "code",
   "execution_count": 14,
   "metadata": {},
   "outputs": [],
   "source": [
    "usnews_df.loc[0, 'Name'] = 'Concordia University Nebraska'\n",
    "usnews_df.loc[1, 'Name'] = 'Concordia University Irvine'\n",
    "\n",
    "usnews_df.set_index(['Name', 'State', 'City'], inplace = True)\n",
    "collegedata_df.set_index('City', append = True, inplace = True)\n",
    "\n",
    "joined = collegedata_df.join(usnews_df, how = 'inner')\n",
    "\n",
    "df = df.append(joined, sort = False)"
   ]
  },
  {
   "cell_type": "markdown",
   "metadata": {},
   "source": [
    "We'll also want to add our remaining collegedata_missing_df rows back to df, even "
   ]
  },
  {
   "cell_type": "code",
   "execution_count": 15,
   "metadata": {},
   "outputs": [
    {
     "name": "stdout",
     "output_type": "stream",
     "text": [
      "<class 'pandas.core.frame.DataFrame'>\n",
      "MultiIndex: 2250 entries, (Bryn Athyn College, PA, Bryn Athyn) to (Concordia University Nebraska, NE, Seward)\n",
      "Columns: 254 entries, SchoolId to Rank Type\n",
      "dtypes: float64(158), int64(1), object(95)\n",
      "memory usage: 4.4+ MB\n"
     ]
    }
   ],
   "source": [
    "df.info()"
   ]
  }
 ],
 "metadata": {
  "kernelspec": {
   "display_name": "Python 3",
   "language": "python",
   "name": "python3"
  },
  "language_info": {
   "codemirror_mode": {
    "name": "ipython",
    "version": 3
   },
   "file_extension": ".py",
   "mimetype": "text/x-python",
   "name": "python",
   "nbconvert_exporter": "python",
   "pygments_lexer": "ipython3",
   "version": "3.6.5"
  }
 },
 "nbformat": 4,
 "nbformat_minor": 2
}
