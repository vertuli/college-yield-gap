{
 "cells": [
  {
   "cell_type": "code",
   "execution_count": 1,
   "metadata": {
    "collapsed": true
   },
   "outputs": [],
   "source": [
    "# This is the \"Overview\" page.\n",
    "BASE_URL_1 = \\\n",
    "\"http://www.collegedata.com/cs/data/college/college_pg01_tmpl.jhtml?schoolId=\"\n",
    "page1_labels = {'control_type':'Institution Type',\n",
    "                'coed_type':'Coeducational',\n",
    "                'ugrads':'Undergraduate Students',\n",
    "                'ugrads_women':'Women',\n",
    "                'ugrads_men':'Men',\n",
    "                'grads':'Graduate Students',\n",
    "                'gpa':'Average GPA',\n",
    "                'sat':'SAT Math',\n",
    "                'cost':'Cost of Attendance',\n",
    "                'need_met_pct':'Average Percent of Need Met',\n",
    "                'award':'Average Freshman Award',\n",
    "                'debt':'Average Indebtedness of 2016 Graduates',\n",
    "                'on_campus_pct':'Students in College Housing'}\n",
    "\n",
    "# This is the \"Admissions\" page.\n",
    "BASE_URL_2 = \\\n",
    "\"http://www.collegedata.com/cs/data/college/college_pg02_tmpl.jhtml?schoolId=\"\n",
    "page2_labels = {'adm_rate':'Overall Admission Rate',\n",
    "                'adm_women':'Women',\n",
    "                'adm_men':'Men',\n",
    "                'enrolled':'Students Enrolled',\n",
    "                'enrolled_women':'Women*',\n",
    "                'enrolled_men':'Men*',\n",
    "                'ed_rate':'Early Decision Admission Rate',\n",
    "                'ea_rate':'Early Action Admission Rate',\n",
    "                'hs_rank':'High School Class Rank'}\n",
    "\n",
    "# This is the \"Students\" page.\n",
    "BASE_URL_6 = \\\n",
    "\"http://www.collegedata.com/cs/data/college/college_pg06_tmpl.jhtml?schoolId=\"\n",
    "page6_labels = {'ugrads_fulltime':'Full-Time Undergraduates',\n",
    "                'returning_pct':'First-Year Students Returning',\n",
    "                'grad_6_yrs_pct':'Students Graduating Within 6 Years'}\n",
    "\n",
    "BASE_URLS = [BASE_URL_1, BASE_URL_2, BASE_URL_6]\n",
    "page_labels = [page1_labels, page2_labels, page6_labels]"
   ]
  },
  {
   "cell_type": "code",
   "execution_count": 2,
   "metadata": {
    "collapsed": true
   },
   "outputs": [],
   "source": [
    "from bs4 import BeautifulSoup\n",
    "\n",
    "def scrape(page, labels):\n",
    "    scraped = {}\n",
    "    \n",
    "    all_th_tags = {}\n",
    "    for th_tag in page.find_all('th'):\n",
    "        th_string = \" \".join(string for string in th_tag.stripped_strings)\n",
    "        while th_string in all_th_tags.keys():\n",
    "            th_string += \"*\"\n",
    "        all_th_tags[th_string] = th_tag\n",
    "        \n",
    "    for key, label in labels.items():\n",
    "        if label in all_th_tags.keys():\n",
    "            th_tag = all_th_tags[label]\n",
    "            td_tag = th_tag.next_sibling\n",
    "            td_string = \" \".join(string for string in td_tag.stripped_strings)\n",
    "            scraped[key] = td_string\n",
    "        \n",
    "    return scraped"
   ]
  },
  {
   "cell_type": "code",
   "execution_count": 30,
   "metadata": {},
   "outputs": [
    {
     "name": "stdout",
     "output_type": "stream",
     "text": [
      "http://www.collegedata.com/cs/data/college/college_pg06_tmpl.jhtml?schoolId=5000\n"
     ]
    }
   ],
   "source": [
    "import pandas as pd\n",
    "from IPython.core.display import clear_output\n",
    "from requests import get\n",
    "from os.path import isfile\n",
    "\n",
    "START_ID = 1\n",
    "END_ID = 5000\n",
    "CHUNKSIZE = 10\n",
    "\n",
    "path = 'data/scraped_collegedata.csv'\n",
    "if isfile(path):\n",
    "    START_ID = pd.read_csv(path)['page_id'].max() + 1\n",
    "\n",
    "df = pd.DataFrame()\n",
    "for page_id in range(START_ID, END_ID + 1):\n",
    "    scraped_school = {}\n",
    "    for i in range(0,len(BASE_URLS)):\n",
    "        url = BASE_URLS[i] + str(page_id)\n",
    "        \n",
    "        print(url)   # Print a status update.\n",
    "        \n",
    "        response = get(url)\n",
    "        page = BeautifulSoup(response.text, \"lxml\")\n",
    "        if page.h1:\n",
    "            scraped_school['name'] = page.h1.string\n",
    "            scraped_school.update(scrape(page, page_labels[i]))\n",
    "            series = pd.Series(scraped_school, name=page_id)\n",
    "            df = df.append(series)\n",
    "        \n",
    "        clear_output(wait = True)   # Clear the status update.\n",
    "    \n",
    "    if (page_id - START_ID) % CHUNKSIZE == 0:\n",
    "        if not isfile(path):\n",
    "            df.to_csv(path, mode='w', header=True, index_label='page_id')\n",
    "        else: # else it exists so append without writing the header\n",
    "            df.to_csv(path, mode='a', header=False)\n",
    "        \n",
    "        # Clear the dataframe.\n",
    "        df = pd.DataFrame()"
   ]
  },
  {
   "cell_type": "code",
   "execution_count": null,
   "metadata": {
    "collapsed": true
   },
   "outputs": [],
   "source": []
  }
 ],
 "metadata": {
  "kernelspec": {
   "display_name": "Python 3",
   "language": "python",
   "name": "python3"
  },
  "language_info": {
   "codemirror_mode": {
    "name": "ipython",
    "version": 3
   },
   "file_extension": ".py",
   "mimetype": "text/x-python",
   "name": "python",
   "nbconvert_exporter": "python",
   "pygments_lexer": "ipython3",
   "version": "3.6.5"
  }
 },
 "nbformat": 4,
 "nbformat_minor": 2
}
